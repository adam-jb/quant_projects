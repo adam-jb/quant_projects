{
 "cells": [
  {
   "cell_type": "markdown",
   "id": "certified-budapest",
   "metadata": {},
   "source": [
    "### Exploring creating dictionaries with base python, numba and c++\n",
    "\n",
    "Looks like base python is as fast as anything here for creation\n",
    "\n",
    "But numba.typed.Dict can be read from more than twice as fast as base python (with basic integer keys anyway). If you account for types by making keys float64 (the same as base python dict) numba dict still reads 50% (ish) faster\n",
    "\n",
    "So could stick to numba.typed.Dict and wrap other operations in numba (eg pythagoras for distance to houses/facilities/buss stops/etc) for speed\n",
    "\n",
    "c++ might be slower because of I/O, so possible it's faster with more operations. But it's not obvious it would be so"
   ]
  },
  {
   "cell_type": "code",
   "execution_count": 1,
   "id": "decimal-wheel",
   "metadata": {},
   "outputs": [],
   "source": [
    "\n",
    "from numba import njit, vectorize, types\n",
    "from numba.typed import Dict\n",
    "import random\n",
    "from concurrent.futures import ThreadPoolExecutor\n",
    "import example   # compiled from c++ file in same folder"
   ]
  },
  {
   "cell_type": "code",
   "execution_count": 2,
   "id": "mental-herald",
   "metadata": {},
   "outputs": [],
   "source": [
    "def make_big_dictionary():\n",
    "    dict = {}\n",
    "    for i in range(1000000):\n",
    "        dict[i] = \"a\"\n",
    "        \n",
    "    return None \n"
   ]
  },
  {
   "cell_type": "code",
   "execution_count": 3,
   "id": "appreciated-visibility",
   "metadata": {},
   "outputs": [
    {
     "name": "stdout",
     "output_type": "stream",
     "text": [
      "CPU times: user 138 ms, sys: 54.7 ms, total: 193 ms\n",
      "Wall time: 194 ms\n"
     ]
    }
   ],
   "source": [
    "%%time\n",
    "make_big_dictionary()"
   ]
  },
  {
   "cell_type": "code",
   "execution_count": 4,
   "id": "vocal-locator",
   "metadata": {},
   "outputs": [],
   "source": [
    "make_big_dictionary_jit = njit()(make_big_dictionary)"
   ]
  },
  {
   "cell_type": "code",
   "execution_count": 5,
   "id": "packed-appliance",
   "metadata": {},
   "outputs": [
    {
     "name": "stdout",
     "output_type": "stream",
     "text": [
      "CPU times: user 1.31 s, sys: 215 ms, total: 1.53 s\n",
      "Wall time: 1.32 s\n"
     ]
    }
   ],
   "source": [
    "%%time\n",
    "make_big_dictionary_jit()  # maybe 10% faster than non-jit func: would have to run many times to check. Is marginal"
   ]
  },
  {
   "cell_type": "code",
   "execution_count": 6,
   "id": "streaming-nebraska",
   "metadata": {},
   "outputs": [],
   "source": [
    "make_big_dictionary_jit_parallel = njit(parallel=True)(make_big_dictionary)"
   ]
  },
  {
   "cell_type": "code",
   "execution_count": 7,
   "id": "necessary-hanging",
   "metadata": {},
   "outputs": [
    {
     "name": "stdout",
     "output_type": "stream",
     "text": [
      "CPU times: user 425 ms, sys: 24.2 ms, total: 449 ms\n",
      "Wall time: 454 ms\n"
     ]
    },
    {
     "name": "stderr",
     "output_type": "stream",
     "text": [
      "/usr/local/lib/python3.9/site-packages/numba/core/typed_passes.py:331: NumbaPerformanceWarning: \n",
      "The keyword argument 'parallel=True' was specified but no transformation for parallel execution was possible.\n",
      "\n",
      "To find out why, try turning on parallel diagnostics, see https://numba.pydata.org/numba-doc/latest/user/parallel.html#diagnostics for help.\n",
      "\n",
      "File \"<ipython-input-2-cb2b39cfe4ae>\", line 1:\n",
      "def make_big_dictionary():\n",
      "^\n",
      "\n",
      "  warnings.warn(errors.NumbaPerformanceWarning(msg,\n"
     ]
    }
   ],
   "source": [
    "%%time\n",
    "make_big_dictionary_jit_parallel() \n",
    "# returns a warning because adding to a dictionary can't be run in parallel"
   ]
  },
  {
   "cell_type": "code",
   "execution_count": 8,
   "id": "occupational-nowhere",
   "metadata": {},
   "outputs": [
    {
     "name": "stdout",
     "output_type": "stream",
     "text": [
      "CPU times: user 183 ms, sys: 24.2 ms, total: 207 ms\n",
      "Wall time: 208 ms\n"
     ]
    }
   ],
   "source": [
    "%%time\n",
    "example.make_dict(1000000)     # c++ takes maybe 50% longer than base python here"
   ]
  },
  {
   "cell_type": "code",
   "execution_count": 9,
   "id": "generous-disaster",
   "metadata": {},
   "outputs": [
    {
     "name": "stdout",
     "output_type": "stream",
     "text": [
      "CPU times: user 19.9 s, sys: 7.1 s, total: 27 s\n",
      "Wall time: 27.7 s\n"
     ]
    }
   ],
   "source": [
    "%%time\n",
    "example.make_dict(100000000) \n",
    "# vs numba dict this is slower (about half the speed with c++ base int - same with 'signed long int'). \n",
    "# So don't think can blame i/o"
   ]
  },
  {
   "cell_type": "code",
   "execution_count": 10,
   "id": "absolute-growing",
   "metadata": {},
   "outputs": [],
   "source": [
    "@njit\n",
    "def make_big_numba_dictionary():\n",
    "    dict_to_populate = Dict.empty(  # Dict is from numba.typed\n",
    "        key_type=types.int32,   #types.float64[:] would mean float array\n",
    "        value_type=types.unicode_type,  # key is int32, value is string\n",
    "    )\n",
    "    \n",
    "    for i in range(1000000):\n",
    "        dict_to_populate[i] = \"a\"\n",
    "        \n",
    "    return None \n",
    "    "
   ]
  },
  {
   "cell_type": "code",
   "execution_count": 11,
   "id": "statewide-curtis",
   "metadata": {},
   "outputs": [
    {
     "name": "stderr",
     "output_type": "stream",
     "text": [
      "<ipython-input-10-6f11153095b2>:9: NumbaTypeSafetyWarning: unsafe cast from int64 to int32. Precision may be lost.\n",
      "  dict_to_populate[i] = \"a\"\n"
     ]
    },
    {
     "name": "stdout",
     "output_type": "stream",
     "text": [
      "CPU times: user 495 ms, sys: 105 ms, total: 600 ms\n",
      "Wall time: 606 ms\n"
     ]
    }
   ],
   "source": [
    "%%time\n",
    "make_big_numba_dictionary()\n",
    "# takes about the same time with a numba dictionary"
   ]
  },
  {
   "cell_type": "markdown",
   "id": "brave-johnston",
   "metadata": {},
   "source": [
    "### Now looking at speed of reading a dictionary"
   ]
  },
  {
   "cell_type": "code",
   "execution_count": 12,
   "id": "designed-pricing",
   "metadata": {},
   "outputs": [],
   "source": [
    "@njit\n",
    "def read_big_numba_dictionary(dict_to_populate):\n",
    "    for i in range(len(dict_to_populate)):\n",
    "        a = dict_to_populate[i]\n",
    "    return None"
   ]
  },
  {
   "cell_type": "code",
   "execution_count": 13,
   "id": "british-maldives",
   "metadata": {},
   "outputs": [],
   "source": [
    "def read_big_dictionary_base(dict):\n",
    "    for i in range(len(dict)):\n",
    "        a = dict[i]\n",
    "    return None"
   ]
  },
  {
   "cell_type": "code",
   "execution_count": 14,
   "id": "eight-ballet",
   "metadata": {},
   "outputs": [],
   "source": [
    "# Neither of these work \n",
    "read_big_dictionary_jit = njit()(read_big_dictionary_base)\n",
    "read_big_dictionary_jit_parallel = njit(parallel=True)(read_big_dictionary_base)"
   ]
  },
  {
   "cell_type": "code",
   "execution_count": 15,
   "id": "integral-lightning",
   "metadata": {},
   "outputs": [],
   "source": [
    "@njit\n",
    "def make_big_numba_dictionary_return_data(dict_size):\n",
    "    dict_to_populate = Dict.empty(  # Dict is from numba.typed\n",
    "        key_type=types.int32,   #types.float64[:] would mean float array\n",
    "        value_type=types.unicode_type,  # key is int32, value is string\n",
    "    )\n",
    "    \n",
    "    for i in range(dict_size):\n",
    "        dict_to_populate[i] = \"a\"\n",
    "        \n",
    "    return dict_to_populate\n",
    "\n",
    "dict_to_populate = make_big_numba_dictionary_return_data(1000000)\n",
    "\n",
    "\n",
    "def make_big_dictionary(dict_size):\n",
    "    dict = {}\n",
    "    for i in range(dict_size):\n",
    "        dict[i] = \"a\"\n",
    "        \n",
    "    return dict \n",
    "\n",
    "base_dict_to_populate = make_big_dictionary(1000000)\n",
    "\n"
   ]
  },
  {
   "cell_type": "code",
   "execution_count": 16,
   "id": "round-contact",
   "metadata": {},
   "outputs": [
    {
     "name": "stdout",
     "output_type": "stream",
     "text": [
      "CPU times: user 231 ms, sys: 4.96 ms, total: 236 ms\n",
      "Wall time: 236 ms\n"
     ]
    }
   ],
   "source": [
    "%%time\n",
    "read_big_numba_dictionary(dict_to_populate)\n",
    "# This is maybe 10% faster with int32 key than int64. And 50% slower if you make it float64"
   ]
  },
  {
   "cell_type": "code",
   "execution_count": null,
   "id": "otherwise-emergency",
   "metadata": {},
   "outputs": [],
   "source": []
  },
  {
   "cell_type": "code",
   "execution_count": 17,
   "id": "ethical-break",
   "metadata": {},
   "outputs": [
    {
     "name": "stdout",
     "output_type": "stream",
     "text": [
      "CPU times: user 76 ms, sys: 2.53 ms, total: 78.5 ms\n",
      "Wall time: 76.7 ms\n"
     ]
    }
   ],
   "source": [
    "%%time\n",
    "read_big_dictionary_base(base_dict_to_populate)\n",
    "# slightly half the speed of read_big_numba_dictionary()"
   ]
  },
  {
   "cell_type": "code",
   "execution_count": 18,
   "id": "determined-poverty",
   "metadata": {},
   "outputs": [
    {
     "name": "stdout",
     "output_type": "stream",
     "text": [
      "CPU times: user 201 ms, sys: 17.2 ms, total: 218 ms\n",
      "Wall time: 218 ms\n"
     ]
    }
   ],
   "source": [
    "%%time\n",
    "example.read_in_dict(base_dict_to_populate)"
   ]
  },
  {
   "cell_type": "code",
   "execution_count": 19,
   "id": "educational-exercise",
   "metadata": {},
   "outputs": [
    {
     "ename": "TypingError",
     "evalue": "Failed in nopython mode pipeline (step: nopython frontend)\nnon-precise type pyobject\nDuring: typing of argument at <ipython-input-13-00fe08a05826> (2)\n\nFile \"<ipython-input-13-00fe08a05826>\", line 2:\ndef read_big_dictionary_base(dict):\n    for i in range(len(dict)):\n    ^ \n\nThis error may have been caused by the following argument(s):\n- argument 0: Cannot determine Numba type of <class 'dict'>\n",
     "output_type": "error",
     "traceback": [
      "\u001b[0;31m---------------------------------------------------------------------------\u001b[0m",
      "\u001b[0;31mTypingError\u001b[0m                               Traceback (most recent call last)",
      "\u001b[0;32m<timed eval>\u001b[0m in \u001b[0;36m<module>\u001b[0;34m\u001b[0m\n",
      "\u001b[0;32m/usr/local/lib/python3.9/site-packages/numba/core/dispatcher.py\u001b[0m in \u001b[0;36m_compile_for_args\u001b[0;34m(self, *args, **kws)\u001b[0m\n\u001b[1;32m    480\u001b[0m                 \u001b[0me\u001b[0m\u001b[0;34m.\u001b[0m\u001b[0mpatch_message\u001b[0m\u001b[0;34m(\u001b[0m\u001b[0mmsg\u001b[0m\u001b[0;34m)\u001b[0m\u001b[0;34m\u001b[0m\u001b[0;34m\u001b[0m\u001b[0m\n\u001b[1;32m    481\u001b[0m \u001b[0;34m\u001b[0m\u001b[0m\n\u001b[0;32m--> 482\u001b[0;31m             \u001b[0merror_rewrite\u001b[0m\u001b[0;34m(\u001b[0m\u001b[0me\u001b[0m\u001b[0;34m,\u001b[0m \u001b[0;34m'typing'\u001b[0m\u001b[0;34m)\u001b[0m\u001b[0;34m\u001b[0m\u001b[0;34m\u001b[0m\u001b[0m\n\u001b[0m\u001b[1;32m    483\u001b[0m         \u001b[0;32mexcept\u001b[0m \u001b[0merrors\u001b[0m\u001b[0;34m.\u001b[0m\u001b[0mUnsupportedError\u001b[0m \u001b[0;32mas\u001b[0m \u001b[0me\u001b[0m\u001b[0;34m:\u001b[0m\u001b[0;34m\u001b[0m\u001b[0;34m\u001b[0m\u001b[0m\n\u001b[1;32m    484\u001b[0m             \u001b[0;31m# Something unsupported is present in the user code, add help info\u001b[0m\u001b[0;34m\u001b[0m\u001b[0;34m\u001b[0m\u001b[0m\n",
      "\u001b[0;32m/usr/local/lib/python3.9/site-packages/numba/core/dispatcher.py\u001b[0m in \u001b[0;36merror_rewrite\u001b[0;34m(e, issue_type)\u001b[0m\n\u001b[1;32m    421\u001b[0m                 \u001b[0;32mraise\u001b[0m \u001b[0me\u001b[0m\u001b[0;34m\u001b[0m\u001b[0;34m\u001b[0m\u001b[0m\n\u001b[1;32m    422\u001b[0m             \u001b[0;32melse\u001b[0m\u001b[0;34m:\u001b[0m\u001b[0;34m\u001b[0m\u001b[0;34m\u001b[0m\u001b[0m\n\u001b[0;32m--> 423\u001b[0;31m                 \u001b[0;32mraise\u001b[0m \u001b[0me\u001b[0m\u001b[0;34m.\u001b[0m\u001b[0mwith_traceback\u001b[0m\u001b[0;34m(\u001b[0m\u001b[0;32mNone\u001b[0m\u001b[0;34m)\u001b[0m\u001b[0;34m\u001b[0m\u001b[0;34m\u001b[0m\u001b[0m\n\u001b[0m\u001b[1;32m    424\u001b[0m \u001b[0;34m\u001b[0m\u001b[0m\n\u001b[1;32m    425\u001b[0m         \u001b[0margtypes\u001b[0m \u001b[0;34m=\u001b[0m \u001b[0;34m[\u001b[0m\u001b[0;34m]\u001b[0m\u001b[0;34m\u001b[0m\u001b[0;34m\u001b[0m\u001b[0m\n",
      "\u001b[0;31mTypingError\u001b[0m: Failed in nopython mode pipeline (step: nopython frontend)\nnon-precise type pyobject\nDuring: typing of argument at <ipython-input-13-00fe08a05826> (2)\n\nFile \"<ipython-input-13-00fe08a05826>\", line 2:\ndef read_big_dictionary_base(dict):\n    for i in range(len(dict)):\n    ^ \n\nThis error may have been caused by the following argument(s):\n- argument 0: Cannot determine Numba type of <class 'dict'>\n"
     ]
    }
   ],
   "source": [
    "%%time\n",
    "read_big_dictionary_jit(base_dict_to_populate)"
   ]
  },
  {
   "cell_type": "code",
   "execution_count": null,
   "id": "precise-ceiling",
   "metadata": {},
   "outputs": [],
   "source": [
    "\n",
    "# for test\n",
    "giant_base_dict_to_populate = make_big_dictionary(100000000)\n",
    "giant_numba_dict_to_populate = make_big_numba_dictionary_return_data(100000000)\n"
   ]
  },
  {
   "cell_type": "code",
   "execution_count": null,
   "id": "accomplished-pantyhose",
   "metadata": {},
   "outputs": [],
   "source": [
    "%%time\n",
    "read_big_numba_dictionary(giant_numba_dict_to_populate)   # time taken increases more than linearly with size \n",
    "                                                            # (x400 for x100 size increase)"
   ]
  }
 ],
 "metadata": {
  "kernelspec": {
   "display_name": "Python 3",
   "language": "python",
   "name": "python3"
  },
  "language_info": {
   "codemirror_mode": {
    "name": "ipython",
    "version": 3
   },
   "file_extension": ".py",
   "mimetype": "text/x-python",
   "name": "python",
   "nbconvert_exporter": "python",
   "pygments_lexer": "ipython3",
   "version": "3.9.7"
  }
 },
 "nbformat": 4,
 "nbformat_minor": 5
}
