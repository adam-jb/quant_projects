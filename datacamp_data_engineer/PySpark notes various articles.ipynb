{
 "cells": [
  {
   "cell_type": "code",
   "execution_count": null,
   "id": "latin-split",
   "metadata": {},
   "outputs": [],
   "source": [
    "\n",
    "# notes on PySpark from various sources\n",
    "\n"
   ]
  },
  {
   "cell_type": "code",
   "execution_count": null,
   "id": "quiet-reunion",
   "metadata": {},
   "outputs": [],
   "source": [
    "\n",
    "#### From https://luminousmen.com/post/big-data-file-formats\n",
    "\n",
    "# .parquet is built around 'WORM' philosphy (Write Once Read Many): optimised for fast reading; writes slower\n",
    "# .parquet is columnar: only the required columns will be read (not whole df if you specify it)\n",
    "# .parquet suited to aggregating tonnes of data in few columns (related to being columnar I think)\n",
    "# \n",
    "\n",
    "\n",
    "# .avro is like json\n",
    "# \n",
    "\n"
   ]
  },
  {
   "cell_type": "code",
   "execution_count": null,
   "id": "rental-monaco",
   "metadata": {},
   "outputs": [],
   "source": [
    "# spark generally x3 faster than hadoop according to: https://www.ibm.com/cloud/blog/hadoop-vs-spark"
   ]
  },
  {
   "cell_type": "code",
   "execution_count": null,
   "id": "decreased-parks",
   "metadata": {},
   "outputs": [],
   "source": [
    "## Notes from https://logz.io/blog/hive-vs-spark/\n",
    "\n",
    "# hive is like an RDBMS built on hadoop: you use SQL to work with the big data\n",
    "# hive can interface with noSQL big-data-DBs like Cassandra\n",
    "\n",
    "# spark streaming: extension of spark to stream large amounts of data from heavily used sources\n",
    "\n",
    "# Spark doesn't have it's own data storage format. It can be used 'on top' of other formats including Hive\n",
    "\n",
    "\n"
   ]
  }
 ],
 "metadata": {
  "kernelspec": {
   "display_name": "Python 3",
   "language": "python",
   "name": "python3"
  },
  "language_info": {
   "codemirror_mode": {
    "name": "ipython",
    "version": 3
   },
   "file_extension": ".py",
   "mimetype": "text/x-python",
   "name": "python",
   "nbconvert_exporter": "python",
   "pygments_lexer": "ipython3",
   "version": "3.9.7"
  }
 },
 "nbformat": 4,
 "nbformat_minor": 5
}
