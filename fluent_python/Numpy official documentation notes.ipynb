{
 "cells": [
  {
   "cell_type": "code",
   "execution_count": 119,
   "id": "artistic-central",
   "metadata": {},
   "outputs": [],
   "source": [
    "\n",
    "#### Working through numpy user guide: https://numpy.org/doc/stable/user/index.html\n",
    "\n",
    "#### other resources:\n",
    "# R/numpy function-by-function lookup  http://mathesaurus.sourceforge.net/r-numpy.html\n",
    "# numpy cheatsheet                     http://datacamp-community-prod.s3.amazonaws.com/da466534-51fe-4c6d-b0cb-154f4782eb54\n",
    "# all functions                        https://numpy.org/doc/stable/reference/index.html\n",
    "\n",
    "3import numpy as np\n",
    "import os\n",
    "import sys\n",
    "import pandas as pd\n",
    "import matplotlib.pyplot as plt\n",
    "%matplotlib inline"
   ]
  },
  {
   "cell_type": "code",
   "execution_count": 10,
   "id": "seventh-attachment",
   "metadata": {},
   "outputs": [
    {
     "name": "stdout",
     "output_type": "stream",
     "text": [
      "(3, 2)\n",
      "[[1.6 3.2]\n",
      " [4.8 6.4]\n",
      " [8.  9.6]]\n",
      "21\n",
      "[ 3  7 11]\n"
     ]
    }
   ],
   "source": [
    "data = np.array([[1, 2], [3, 4], [5, 6]])\n",
    "print(data.shape)\n",
    "print(data * 1.6)  # broadcasting\n",
    "print(data.sum())\n",
    "print(data.sum(axis = 1))  # axis=1 for value in each row' axis=0 for value in each column\n"
   ]
  },
  {
   "cell_type": "code",
   "execution_count": 27,
   "id": "tired-cancer",
   "metadata": {},
   "outputs": [
    {
     "name": "stdout",
     "output_type": "stream",
     "text": [
      "[[1. 1. 1. 1. 1.]\n",
      " [1. 1. 1. 1. 1.]]\n",
      "[[0. 0. 0. 0. 0.]\n",
      " [0. 0. 0. 0. 0.]]\n",
      "[[0. 0. 0. 0. 0.]\n",
      " [0. 0. 0. 0. 0.]]\n",
      "<class 'numpy.random._generator.Generator'>\n",
      "[[0.44401845 0.49811704 0.15905493 0.79422447 0.15034477]\n",
      " [0.86166961 0.33700331 0.565872   0.10156115 0.16293128]]\n",
      "[[2 3 3 0 3]\n",
      " [2 3 2 4 2]]\n"
     ]
    }
   ],
   "source": [
    "print(np.ones(10).reshape(2, 5))   # make array of floats with value 1\n",
    "print(np.zeros(10).reshape(2, 5)) \n",
    "print(np.zeros((2, 5)))       # does same as row above\n",
    " \n",
    "rng = np.random.default_rng()    # make generator \n",
    "print(type(rng))\n",
    "print(rng.random((2, 5)))      # call generator for decimals\n",
    "print(rng.integers(5, size=(2, 5)))  # same generator for integers in range\n"
   ]
  },
  {
   "cell_type": "code",
   "execution_count": 46,
   "id": "spoken-claim",
   "metadata": {},
   "outputs": [
    {
     "name": "stdout",
     "output_type": "stream",
     "text": [
      "[0 1 2 3 4]\n",
      "[4 5 4 6 1]\n"
     ]
    },
    {
     "data": {
      "text/plain": [
       "(array([[0, 0, 0, 0, 0, 0, 0, 0, 0, 0, 0, 0, 0, 0, 0, 0, 0, 0, 0, 0]]),\n",
       " array([20]))"
      ]
     },
     "execution_count": 46,
     "metadata": {},
     "output_type": "execute_result"
    }
   ],
   "source": [
    "unique_vals, freq = np.unique(rng.integers(5, size=(20)), return_counts = True)\n",
    "print(unique_vals)\n",
    "print(freq)        # frequency of each unique val\n",
    "\n",
    "# can do unique by an axis\n",
    "np.unique(rng.integers(1, size=(20, 20)), axis=1, return_counts = True)  # returns unique columns\n",
    "np.unique(rng.integers(1, size=(20, 20)), axis=0, return_counts = True)  # returns unique rows\n"
   ]
  },
  {
   "cell_type": "code",
   "execution_count": 57,
   "id": "inclusive-folder",
   "metadata": {},
   "outputs": [
    {
     "name": "stdout",
     "output_type": "stream",
     "text": [
      "[0.57712059 0.75794152 0.25507263 0.6978059  0.59091526 0.72353232\n",
      " 0.01423363 0.56215687 0.25762298 0.58215504]\n",
      "[0.58215504 0.25762298 0.56215687 0.01423363 0.72353232 0.59091526\n",
      " 0.6978059  0.25507263 0.75794152 0.57712059]\n",
      "[[0.79773476 0.1069405  0.99083226 0.11425904]\n",
      " [0.53707927 0.81726735 0.60019299 0.67534119]\n",
      " [0.49079915 0.29326898 0.37293668 0.02796151]\n",
      " [0.36894505 0.77342984 0.07350921 0.38265242]]\n",
      "[[0.38265242 0.07350921 0.77342984 0.36894505]\n",
      " [0.02796151 0.37293668 0.29326898 0.49079915]\n",
      " [0.67534119 0.60019299 0.81726735 0.53707927]\n",
      " [0.11425904 0.99083226 0.1069405  0.79773476]]\n",
      "[[0.11425904 0.99083226 0.1069405  0.79773476]\n",
      " [0.67534119 0.60019299 0.81726735 0.53707927]\n",
      " [0.02796151 0.37293668 0.29326898 0.49079915]\n",
      " [0.38265242 0.07350921 0.77342984 0.36894505]]\n",
      "[[0.36894505 0.77342984 0.07350921 0.38265242]\n",
      " [0.49079915 0.29326898 0.37293668 0.02796151]\n",
      " [0.53707927 0.81726735 0.60019299 0.67534119]\n",
      " [0.79773476 0.1069405  0.99083226 0.11425904]]\n"
     ]
    }
   ],
   "source": [
    "arr = rng.random((10))\n",
    "print(arr)\n",
    "print(np.flip(arr))   # reverse order\n",
    "\n",
    "arr2d = rng.random((4, 4))\n",
    "print(arr2d)\n",
    "print(np.flip(arr2d))\n",
    "print(np.flip(arr2d, axis=1)) # reverse across each row\n",
    "print(np.flip(arr2d, axis=0)) # reverse across each col"
   ]
  },
  {
   "cell_type": "code",
   "execution_count": 67,
   "id": "intensive-monroe",
   "metadata": {},
   "outputs": [
    {
     "name": "stdout",
     "output_type": "stream",
     "text": [
      "[0.59462205 0.94403908 0.19852225 0.59515276 0.96699348 0.31117724\n",
      " 0.34509215 0.10743127 0.00729901 0.35993498 0.16378857 0.63722212\n",
      " 0.18882307 0.10205102 0.09393249 0.71885747]\n"
     ]
    },
    {
     "data": {
      "text/plain": [
       "0.125"
      ]
     },
     "execution_count": 67,
     "metadata": {},
     "output_type": "execute_result"
    }
   ],
   "source": [
    "# flatten() and ravel() are similar, but obj made with ravel() is a view to the parent array, making\n",
    "# ravel() more memory efficient, as it doesn't create a copy, and changes made to ravel()'d view are\n",
    "# made to parent table too, unlike flatten()\n",
    "arr2d = rng.random((4, 4))\n",
    "print(arr2d.flatten())\n",
    "arr2d.ravel()"
   ]
  },
  {
   "cell_type": "code",
   "execution_count": 76,
   "id": "delayed-primary",
   "metadata": {},
   "outputs": [
    {
     "data": {
      "text/plain": [
       "0.31112121903903656"
      ]
     },
     "execution_count": 76,
     "metadata": {},
     "output_type": "execute_result"
    }
   ],
   "source": [
    "def mse(prediction, actual):\n",
    "    \"\"\"example function: mean squared error\"\"\"\n",
    "    if prediction.shape != actual.shape:\n",
    "        raise ValueError(\"Data aren't same size!\")\n",
    "    n = prediction.shape[0] \n",
    "    return (1/n) * np.sum(np.square(prediction, actual))\n",
    "\n",
    "prediction = rng.random(20)\n",
    "actual = rng.random(20)\n",
    "mse(prediction, actual)"
   ]
  },
  {
   "cell_type": "code",
   "execution_count": 93,
   "id": "equal-operations",
   "metadata": {},
   "outputs": [],
   "source": [
    "np.save('np_prediction.npy', prediction)   # save simple numpy obj\n",
    "np.savez('np_predictions.npz', prediction,actual)  # save 1+ numpy objs in one file, note diffrent file names\n",
    "\n",
    "tables_in = np.load('np_predictions.npz')\n",
    "\n",
    "# use pandas to read csv and numpy to export"
   ]
  },
  {
   "cell_type": "code",
   "execution_count": 92,
   "id": "approximate-jones",
   "metadata": {},
   "outputs": [
    {
     "data": {
      "text/plain": [
       "<matplotlib.collections.PathCollection at 0x110ebc340>"
      ]
     },
     "execution_count": 92,
     "metadata": {},
     "output_type": "execute_result"
    },
    {
     "data": {
      "image/png": "[encoded data removed]",
      "text/plain": [
       "<Figure size 432x288 with 1 Axes>"
      ]
     },
     "metadata": {
      "needs_background": "light"
     },
     "output_type": "display_data"
    }
   ],
   "source": [
    "plt.scatter(prediction, actual)  # matplotlib accepts numpy arrays as args"
   ]
  },
  {
   "cell_type": "code",
   "execution_count": 144,
   "id": "streaming-damages",
   "metadata": {},
   "outputs": [
    {
     "name": "stdout",
     "output_type": "stream",
     "text": [
      "(20, 2)\n",
      "<class 'numpy.ndarray'>\n"
     ]
    }
   ],
   "source": [
    "# two (of many) options to bind columns\n",
    "for_plot = np.vstack((prediction, actual)).T \n",
    "for_plot = np.hstack((prediction, actual)).reshape(prediction.shape[0], 2)\n",
    "print(for_plot.shape)\n",
    "print(type(for_plot))"
   ]
  },
  {
   "cell_type": "code",
   "execution_count": 112,
   "id": "abandoned-strain",
   "metadata": {},
   "outputs": [
    {
     "name": "stdout",
     "output_type": "stream",
     "text": [
      "8\n",
      "40\n",
      "float64\n",
      "2\n"
     ]
    }
   ],
   "source": [
    "print(for_plot.itemsize)  # size of each value in array in bytes\n",
    "print(for_plot.size)   # total elements in array\n",
    "print(for_plot.dtype) \n",
    "print(for_plot.ndim)  # total dimensions"
   ]
  },
  {
   "cell_type": "code",
   "execution_count": 123,
   "id": "applied-turkey",
   "metadata": {},
   "outputs": [
    {
     "name": "stdout",
     "output_type": "stream",
     "text": [
      "1\n",
      "196\n",
      "100\n"
     ]
    }
   ],
   "source": [
    "arr = np.arange(100, dtype = 'u1')   # make sequential array of 1-byte unsigned integers\n",
    "print(arr.itemsize)\n",
    "      \n",
    "# according to this one byte is minimum obj size: \n",
    "# https://stackoverflow.com/questions/53999299/specifying-numpy-arrays-with-2-bit-dtype\n",
    "\n",
    "\n",
    "# two ways of looking at object sizes: the sys method likely includes other things\n",
    "print(sys.getsizeof(arr)  )\n",
    "print(arr.nbytes)"
   ]
  },
  {
   "cell_type": "code",
   "execution_count": 134,
   "id": "amazing-inclusion",
   "metadata": {},
   "outputs": [
    {
     "name": "stdout",
     "output_type": "stream",
     "text": [
      "158\n",
      "158\n",
      "158\n"
     ]
    },
    {
     "data": {
      "text/plain": [
       "array([0, 1, 4, 9], dtype=uint8)"
      ]
     },
     "execution_count": 134,
     "metadata": {},
     "output_type": "execute_result"
    }
   ],
   "source": [
    "## all of these do the matrix mult of two arrays\n",
    "print(arr.dot(arr))\n",
    "print(arr @ arr)\n",
    "print(np.matmul(arr, arr))\n",
    "\n",
    "# does element wise mult\n",
    "(arr[:4] * arr[:4])"
   ]
  },
  {
   "cell_type": "code",
   "execution_count": 135,
   "id": "dedicated-prince",
   "metadata": {},
   "outputs": [],
   "source": [
    "arr *= 2   # operates inplace\n",
    "arr += 3  # inplace"
   ]
  },
  {
   "cell_type": "code",
   "execution_count": 139,
   "id": "annual-nursing",
   "metadata": {},
   "outputs": [
    {
     "data": {
      "text/plain": [
       "array([0.        , 3.14159265, 6.28318531])"
      ]
     },
     "execution_count": 139,
     "metadata": {},
     "output_type": "execute_result"
    }
   ],
   "source": [
    "np.linspace(0, np.pi * 2, 3)  # create evenly spaced sequence from a to b, of length c\n",
    "\n"
   ]
  },
  {
   "cell_type": "code",
   "execution_count": 166,
   "id": "brave-subsection",
   "metadata": {},
   "outputs": [
    {
     "name": "stdout",
     "output_type": "stream",
     "text": [
      "[  0 255   2   3   4   5   6   7   8   9]\n",
      "False\n",
      "[  0 255   2   3   4   5   6   7   8   9]\n",
      "[  0 255   2   3   4   5 100   7   8   9]\n",
      "[  0 255   2   3   4   5 100   7   8   9]\n",
      "[   0 1625    2    3    4    5  100    7    8    9]\n"
     ]
    },
    {
     "data": {
      "text/plain": [
       "array([[   0, 1625,    2,    3,    4],\n",
       "       [   5,  100,    7,    8,    9]], dtype=uint16)"
      ]
     },
     "execution_count": 166,
     "metadata": {},
     "output_type": "execute_result"
    }
   ],
   "source": [
    "# Simple assignments make no copy of objects or their data.\n",
    "a = np.arange(10, dtype = 'u1')\n",
    "b = a   # b is a child of a\n",
    "b[1] = 255  # changes a\n",
    "print(a)\n",
    "\n",
    "#### as a and b are linked in the above, a will stay in memory even if deleted, as it's needed by b\n",
    "\n",
    "\n",
    "c = a.view()\n",
    "print(c is a)\n",
    "c = c.reshape((2, 5)) # doesnt change shape of a\n",
    "print(a)\n",
    "c[1, 1] = 100    # does change value of a: view still gives a link (like memoryviews in base python)\n",
    "print(a)  \n",
    "\n",
    "d = a.copy()   # not linked to a: this is a deep copy\n",
    "d[1] = 0\n",
    "print(a)\n",
    "\n",
    "\n",
    "a = a.astype('u2')  # change dtype to 16bit integer\n",
    "a[1] = 1625\n",
    "print(a)\n",
    "\n",
    "\n",
    "print(a.reshape(2, -1))  # -1 in reshape is a placeholder to be inferred according to \"whatever makes it add up\""
   ]
  },
  {
   "cell_type": "code",
   "execution_count": null,
   "id": "advisory-original",
   "metadata": {},
   "outputs": [],
   "source": [
    "# numpy has about 40 different funcs for creating arrays - https://numpy.org/doc/stable/user/basics.creation.html\n",
    "\n",
    "\n",
    "arr = np.array([1, 2, 3, 4], dtype='i4')  # making 4 byte integer\n",
    "# for list of data types: https://www.w3schools.com/python/numpy/numpy_data_types.asp\n",
    "# add a number after the letter signalling number of bytes to assign to each data type\n",
    "\n"
   ]
  },
  {
   "cell_type": "code",
   "execution_count": null,
   "id": "liberal-fellowship",
   "metadata": {},
   "outputs": [],
   "source": [
    "# broadcasting: happens in a loop in C\n",
    "# broadcasting is best when both inputs have equal length or one has length=1\n",
    "# OR, it might not work if one of those conditions isnt met\n",
    "\n",
    "# says broadcasting can be inefficient in some circumstances (wastes memory), but\n",
    "# doesnt say what those circumstances are\n",
    "# ref: https://numpy.org/doc/stable/user/basics.broadcasting.html\n",
    "\n"
   ]
  },
  {
   "cell_type": "code",
   "execution_count": null,
   "id": "worse-belize",
   "metadata": {},
   "outputs": [],
   "source": [
    "# endianness = order of bytes in comp memory for a particular object\n",
    "# at this byte level, diffrent comps store the same high level obj (eg np array) as different byte \n",
    "# combinations if they have differnt endians.\n",
    "# comps are often categorised as big or little endian, with differnt processes for how they store their bytes\n",
    "\n",
    "# big endian = stores Most Significant Byte first\n",
    "# little endian = stores Least Significant Byte first\n",
    "\n",
    "# byteswapping involves changing arrays at the byte level\n",
    "# https://numpy.org/doc/stable/user/basics.byteswapping.html\n",
    "\n",
    "# can use numpy.ndarray.byteswap() to swap between big and little endian representations"
   ]
  },
  {
   "cell_type": "code",
   "execution_count": 188,
   "id": "overhead-spread",
   "metadata": {},
   "outputs": [
    {
     "name": "stdout",
     "output_type": "stream",
     "text": [
      "[('Adam', 17) ('Jo', 19)]\n",
      "('Jo', 19)\n",
      "['Adam' 'Jo']\n",
      "[('name', '<U10'), ('age', 'i1')]\n",
      "[('Adam', 17) ('Jo', 19)]\n"
     ]
    }
   ],
   "source": [
    "# structured arrays = lets you have different named fields of different types\n",
    "# mimics structs in C\n",
    "# feels similar to named tuples in base python\n",
    "# https://numpy.org/doc/stable/user/basics.rec.html\n",
    "\n",
    "# tuple inputs and dtypes defined for each \n",
    "# setting dtypes is optional - I think it works better if you do\n",
    "structured_array = np.array([('Adam', 17), ('Jo', 19)], dtype=[('name', 'U10'), ('age', 'i1')])\n",
    "\n",
    "print(structured_array)   \n",
    "print(structured_array[1]) \n",
    "print(structured_array['name'])\n",
    "print(structured_array.dtype)\n",
    "\n",
    "\n",
    "# assigning types without naming fields\n",
    "structured_array = np.array([('Adam', 17), ('Jo', 19)], dtype='U10, i1')\n",
    "print(structured_array)   "
   ]
  },
  {
   "cell_type": "code",
   "execution_count": null,
   "id": "offshore-thesis",
   "metadata": {},
   "outputs": [],
   "source": [
    "# subclassing = inheriting "
   ]
  },
  {
   "cell_type": "code",
   "execution_count": 216,
   "id": "tribal-democrat",
   "metadata": {},
   "outputs": [
    {
     "name": "stdout",
     "output_type": "stream",
     "text": [
      "nan\n",
      "False\n",
      "True\n",
      "True\n",
      "False\n",
      "[9. 3. 0. 0.]\n",
      "9\n",
      "42.0\n"
     ]
    },
    {
     "data": {
      "text/plain": [
       "127"
      ]
     },
     "execution_count": 216,
     "metadata": {},
     "output_type": "execute_result"
    }
   ],
   "source": [
    "print(np.nan)  # to assign nan\n",
    "print(np.nan == np.nan)  # nan never equals itself\n",
    "print(np.isnan(np.nan))  # use np.isnan to test for nan values\n",
    "\n",
    "print(np.isinf(np.inf))  # infinite\n",
    "print(np.isfinite(np.inf))  # true if not nan or inf\n",
    "print(np.nan_to_num([9, 3, np.nan, np.nan]))  # make nan's 0\n",
    "\n",
    "x =np.arange(10.)\n",
    "x[3] = np.nan\n",
    "print(np.nanargmax(x)) # ignores nan values\n",
    "print(np.nansum(x))   # ignores nan's\n",
    "# more funcs that ignore nan's https://numpy.org/doc/stable/user/misc.html\n",
    "\n",
    "\n",
    "print(np.int8(127))  # make single value of signed int8"
   ]
  },
  {
   "cell_type": "code",
   "execution_count": null,
   "id": "false-tunisia",
   "metadata": {},
   "outputs": [],
   "source": []
  }
 ],
 "metadata": {
  "kernelspec": {
   "display_name": "Python 3",
   "language": "python",
   "name": "python3"
  },
  "language_info": {
   "codemirror_mode": {
    "name": "ipython",
    "version": 3
   },
   "file_extension": ".py",
   "mimetype": "text/x-python",
   "name": "python",
   "nbconvert_exporter": "python",
   "pygments_lexer": "ipython3",
   "version": "3.9.1"
  }
 },
 "nbformat": 4,
 "nbformat_minor": 5
}
