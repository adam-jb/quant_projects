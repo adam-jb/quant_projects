{
 "cells": [
  {
   "cell_type": "code",
   "execution_count": 152,
   "id": "painful-bubble",
   "metadata": {},
   "outputs": [
    {
     "data": {
      "text/plain": [
       "array([[1, 5.1, 3.5, 1.4, 0.2],\n",
       "       [1, 4.9, 3.0, 1.4, 0.2],\n",
       "       [1, 4.7, 3.2, 1.3, 0.2],\n",
       "       [1, 4.6, 3.1, 1.5, 0.2],\n",
       "       [1, 5.0, 3.6, 1.4, 0.2],\n",
       "       [1, 5.4, 3.9, 1.7, 0.4],\n",
       "       [1, 4.6, 3.4, 1.4, 0.3],\n",
       "       [1, 5.0, 3.4, 1.5, 0.2],\n",
       "       [1, 4.4, 2.9, 1.4, 0.2],\n",
       "       [1, 4.9, 3.1, 1.5, 0.1],\n",
       "       [1, 5.4, 3.7, 1.5, 0.2],\n",
       "       [1, 4.8, 3.4, 1.6, 0.2],\n",
       "       [1, 4.8, 3.0, 1.4, 0.1],\n",
       "       [1, 4.3, 3.0, 1.1, 0.1],\n",
       "       [1, 5.8, 4.0, 1.2, 0.2],\n",
       "       [1, 5.7, 4.4, 1.5, 0.4],\n",
       "       [1, 5.4, 3.9, 1.3, 0.4],\n",
       "       [1, 5.1, 3.5, 1.4, 0.3],\n",
       "       [1, 5.7, 3.8, 1.7, 0.3],\n",
       "       [1, 5.1, 3.8, 1.5, 0.3],\n",
       "       [1, 5.4, 3.4, 1.7, 0.2],\n",
       "       [1, 5.1, 3.7, 1.5, 0.4],\n",
       "       [1, 4.6, 3.6, 1.0, 0.2],\n",
       "       [1, 5.1, 3.3, 1.7, 0.5],\n",
       "       [1, 4.8, 3.4, 1.9, 0.2],\n",
       "       [1, 5.0, 3.0, 1.6, 0.2],\n",
       "       [1, 5.0, 3.4, 1.6, 0.4],\n",
       "       [1, 5.2, 3.5, 1.5, 0.2],\n",
       "       [1, 5.2, 3.4, 1.4, 0.2],\n",
       "       [1, 4.7, 3.2, 1.6, 0.2],\n",
       "       [1, 4.8, 3.1, 1.6, 0.2],\n",
       "       [1, 5.4, 3.4, 1.5, 0.4],\n",
       "       [1, 5.2, 4.1, 1.5, 0.1],\n",
       "       [1, 5.5, 4.2, 1.4, 0.2],\n",
       "       [1, 4.9, 3.1, 1.5, 0.1],\n",
       "       [1, 5.0, 3.2, 1.2, 0.2],\n",
       "       [1, 5.5, 3.5, 1.3, 0.2],\n",
       "       [1, 4.9, 3.1, 1.5, 0.1],\n",
       "       [1, 4.4, 3.0, 1.3, 0.2],\n",
       "       [1, 5.1, 3.4, 1.5, 0.2],\n",
       "       [1, 5.0, 3.5, 1.3, 0.3],\n",
       "       [1, 4.5, 2.3, 1.3, 0.3],\n",
       "       [1, 4.4, 3.2, 1.3, 0.2],\n",
       "       [1, 5.0, 3.5, 1.6, 0.6],\n",
       "       [1, 5.1, 3.8, 1.9, 0.4],\n",
       "       [1, 4.8, 3.0, 1.4, 0.3],\n",
       "       [1, 5.1, 3.8, 1.6, 0.2],\n",
       "       [1, 4.6, 3.2, 1.4, 0.2],\n",
       "       [1, 5.3, 3.7, 1.5, 0.2],\n",
       "       [1, 5.0, 3.3, 1.4, 0.2],\n",
       "       [1, 7.0, 3.2, 4.7, 1.4],\n",
       "       [1, 6.4, 3.2, 4.5, 1.5],\n",
       "       [1, 6.9, 3.1, 4.9, 1.5],\n",
       "       [1, 5.5, 2.3, 4.0, 1.3],\n",
       "       [1, 6.5, 2.8, 4.6, 1.5],\n",
       "       [1, 5.7, 2.8, 4.5, 1.3],\n",
       "       [1, 6.3, 3.3, 4.7, 1.6],\n",
       "       [1, 4.9, 2.4, 3.3, 1.0],\n",
       "       [1, 6.6, 2.9, 4.6, 1.3],\n",
       "       [1, 5.2, 2.7, 3.9, 1.4],\n",
       "       [1, 5.0, 2.0, 3.5, 1.0],\n",
       "       [1, 5.9, 3.0, 4.2, 1.5],\n",
       "       [1, 6.0, 2.2, 4.0, 1.0],\n",
       "       [1, 6.1, 2.9, 4.7, 1.4],\n",
       "       [1, 5.6, 2.9, 3.6, 1.3],\n",
       "       [1, 6.7, 3.1, 4.4, 1.4],\n",
       "       [1, 5.6, 3.0, 4.5, 1.5],\n",
       "       [1, 5.8, 2.7, 4.1, 1.0],\n",
       "       [1, 6.2, 2.2, 4.5, 1.5],\n",
       "       [1, 5.6, 2.5, 3.9, 1.1],\n",
       "       [1, 5.9, 3.2, 4.8, 1.8],\n",
       "       [1, 6.1, 2.8, 4.0, 1.3],\n",
       "       [1, 6.3, 2.5, 4.9, 1.5],\n",
       "       [1, 6.1, 2.8, 4.7, 1.2],\n",
       "       [1, 6.4, 2.9, 4.3, 1.3],\n",
       "       [1, 6.6, 3.0, 4.4, 1.4],\n",
       "       [1, 6.8, 2.8, 4.8, 1.4],\n",
       "       [1, 6.7, 3.0, 5.0, 1.7],\n",
       "       [1, 6.0, 2.9, 4.5, 1.5],\n",
       "       [1, 5.7, 2.6, 3.5, 1.0],\n",
       "       [1, 5.5, 2.4, 3.8, 1.1],\n",
       "       [1, 5.5, 2.4, 3.7, 1.0],\n",
       "       [1, 5.8, 2.7, 3.9, 1.2],\n",
       "       [1, 6.0, 2.7, 5.1, 1.6],\n",
       "       [1, 5.4, 3.0, 4.5, 1.5],\n",
       "       [1, 6.0, 3.4, 4.5, 1.6],\n",
       "       [1, 6.7, 3.1, 4.7, 1.5],\n",
       "       [1, 6.3, 2.3, 4.4, 1.3],\n",
       "       [1, 5.6, 3.0, 4.1, 1.3],\n",
       "       [1, 5.5, 2.5, 4.0, 1.3],\n",
       "       [1, 5.5, 2.6, 4.4, 1.2],\n",
       "       [1, 6.1, 3.0, 4.6, 1.4],\n",
       "       [1, 5.8, 2.6, 4.0, 1.2],\n",
       "       [1, 5.0, 2.3, 3.3, 1.0],\n",
       "       [1, 5.6, 2.7, 4.2, 1.3],\n",
       "       [1, 5.7, 3.0, 4.2, 1.2],\n",
       "       [1, 5.7, 2.9, 4.2, 1.3],\n",
       "       [1, 6.2, 2.9, 4.3, 1.3],\n",
       "       [1, 5.1, 2.5, 3.0, 1.1],\n",
       "       [1, 5.7, 2.8, 4.1, 1.3],\n",
       "       [1, 6.3, 3.3, 6.0, 2.5],\n",
       "       [1, 5.8, 2.7, 5.1, 1.9],\n",
       "       [1, 7.1, 3.0, 5.9, 2.1],\n",
       "       [1, 6.3, 2.9, 5.6, 1.8],\n",
       "       [1, 6.5, 3.0, 5.8, 2.2],\n",
       "       [1, 7.6, 3.0, 6.6, 2.1],\n",
       "       [1, 4.9, 2.5, 4.5, 1.7],\n",
       "       [1, 7.3, 2.9, 6.3, 1.8],\n",
       "       [1, 6.7, 2.5, 5.8, 1.8],\n",
       "       [1, 7.2, 3.6, 6.1, 2.5],\n",
       "       [1, 6.5, 3.2, 5.1, 2.0],\n",
       "       [1, 6.4, 2.7, 5.3, 1.9],\n",
       "       [1, 6.8, 3.0, 5.5, 2.1],\n",
       "       [1, 5.7, 2.5, 5.0, 2.0],\n",
       "       [1, 5.8, 2.8, 5.1, 2.4],\n",
       "       [1, 6.4, 3.2, 5.3, 2.3],\n",
       "       [1, 6.5, 3.0, 5.5, 1.8],\n",
       "       [1, 7.7, 3.8, 6.7, 2.2],\n",
       "       [1, 7.7, 2.6, 6.9, 2.3],\n",
       "       [1, 6.0, 2.2, 5.0, 1.5],\n",
       "       [1, 6.9, 3.2, 5.7, 2.3],\n",
       "       [1, 5.6, 2.8, 4.9, 2.0],\n",
       "       [1, 7.7, 2.8, 6.7, 2.0],\n",
       "       [1, 6.3, 2.7, 4.9, 1.8],\n",
       "       [1, 6.7, 3.3, 5.7, 2.1],\n",
       "       [1, 7.2, 3.2, 6.0, 1.8],\n",
       "       [1, 6.2, 2.8, 4.8, 1.8],\n",
       "       [1, 6.1, 3.0, 4.9, 1.8],\n",
       "       [1, 6.4, 2.8, 5.6, 2.1],\n",
       "       [1, 7.2, 3.0, 5.8, 1.6],\n",
       "       [1, 7.4, 2.8, 6.1, 1.9],\n",
       "       [1, 7.9, 3.8, 6.4, 2.0],\n",
       "       [1, 6.4, 2.8, 5.6, 2.2],\n",
       "       [1, 6.3, 2.8, 5.1, 1.5],\n",
       "       [1, 6.1, 2.6, 5.6, 1.4],\n",
       "       [1, 7.7, 3.0, 6.1, 2.3],\n",
       "       [1, 6.3, 3.4, 5.6, 2.4],\n",
       "       [1, 6.4, 3.1, 5.5, 1.8],\n",
       "       [1, 6.0, 3.0, 4.8, 1.8],\n",
       "       [1, 6.9, 3.1, 5.4, 2.1],\n",
       "       [1, 6.7, 3.1, 5.6, 2.4],\n",
       "       [1, 6.9, 3.1, 5.1, 2.3],\n",
       "       [1, 5.8, 2.7, 5.1, 1.9],\n",
       "       [1, 6.8, 3.2, 5.9, 2.3],\n",
       "       [1, 6.7, 3.3, 5.7, 2.5],\n",
       "       [1, 6.7, 3.0, 5.2, 2.3],\n",
       "       [1, 6.3, 2.5, 5.0, 1.9],\n",
       "       [1, 6.5, 3.0, 5.2, 2.0],\n",
       "       [1, 6.2, 3.4, 5.4, 2.3],\n",
       "       [1, 5.9, 3.0, 5.1, 1.8]], dtype=object)"
      ]
     },
     "execution_count": 152,
     "metadata": {},
     "output_type": "execute_result"
    }
   ],
   "source": [
    "\n",
    "# predict a plant's petal width with linear regression\n",
    "\n",
    "# based on formula from https://www.stat.purdue.edu/~boli/stat512/lectures/topic3.pdf\n",
    "\n",
    "# numpy docs for linear algebra specifically: https://numpy.org/doc/stable/reference/routines.linalg.html\n",
    "\n",
    "# inverse of a matrix: if you multiply it by original matrix you get identity matrix\n",
    "# this is different to getting x^-1 all numbers in matrix (though it's often written as A^-1, which\n",
    "# has this other meaning in the world of matrices)\n",
    "# for more on this: https://www.mathsisfun.com/algebra/matrix-inverse.html\n",
    "\n",
    "import numpy as np\n",
    "import pandas as pd\n",
    "from scipy import signal\n",
    "import matplotlib.pyplot as plt\n",
    "from sklearn.linear_model import LinearRegression\n",
    "\n",
    "data = pd.read_csv('https://gist.githubusercontent.com/curran/a08a1080b88344b0c8a7/raw/0e7a9b0a5d22642a06d3d5b9bcbad9890c8ee534/iris.csv')\n",
    "data = data.to_numpy()\n",
    "\n",
    "data = data[:, :4]   # dropping species column\n",
    "data = np.hstack([np.array([1]*150).reshape(150,1), data])  # adding intercept column"
   ]
  },
  {
   "cell_type": "code",
   "execution_count": 153,
   "id": "atmospheric-intranet",
   "metadata": {},
   "outputs": [],
   "source": [
    "train_input = data[:120, :4]\n",
    "train_labs = data[:120, 4:]\n",
    "\n",
    "test_input = data[120:, :4]\n",
    "test_labs = data[120:, 4:]"
   ]
  },
  {
   "cell_type": "code",
   "execution_count": 164,
   "id": "addressed-machine",
   "metadata": {},
   "outputs": [
    {
     "data": {
      "text/plain": [
       "array([[-0.18899170237840096],\n",
       "       [-0.18929402084413094],\n",
       "       [0.18960984808435147],\n",
       "       [0.5027263623805672]], dtype=object)"
      ]
     },
     "execution_count": 164,
     "metadata": {},
     "output_type": "execute_result"
    }
   ],
   "source": [
    "# find coefficients using training data\n",
    "coefficients = np.linalg.inv(x).dot(train_input.T).dot(train_labs)\n",
    "coefficients"
   ]
  },
  {
   "cell_type": "code",
   "execution_count": 162,
   "id": "several-strike",
   "metadata": {},
   "outputs": [
    {
     "name": "stdout",
     "output_type": "stream",
     "text": [
      "coefficients [[-0.18899170237840096]\n",
      " [-0.18929402084413094]\n",
      " [0.18960984808435147]\n",
      " [0.5027263623805672]]\n",
      "r squared of 0.0002396864189618504\n"
     ]
    },
    {
     "data": {
      "image/png": "[encoded data removed]",
      "text/plain": [
       "<Figure size 432x288 with 1 Axes>"
      ]
     },
     "metadata": {
      "needs_background": "light"
     },
     "output_type": "display_data"
    }
   ],
   "source": [
    "# predict values on test data\n",
    "print('coefficients ' + str(coefficients))\n",
    "\n",
    "predictions = np.matmul(test_input, coefficients)\n",
    "plt.scatter(predictions, test_labs)\n",
    "\n",
    "for_cov = np.c_[predictions.astype(float), test_labs.astype(float)]\n",
    "print('r squared of ' + str(np.cov(for_cov, rowvar=False)[0, 1]**2))"
   ]
  },
  {
   "cell_type": "code",
   "execution_count": 156,
   "id": "extra-vatican",
   "metadata": {},
   "outputs": [],
   "source": [
    "# train regression with sklearn\n",
    "reg = LinearRegression().fit(train_input, train_labs)"
   ]
  },
  {
   "cell_type": "code",
   "execution_count": 163,
   "id": "plastic-roberts",
   "metadata": {},
   "outputs": [
    {
     "name": "stdout",
     "output_type": "stream",
     "text": [
      "coefficients [[ 0.         -0.18929402  0.18960985  0.50272636]]\n",
      "r squared of 0.00023968641896182885\n"
     ]
    },
    {
     "data": {
      "image/png": "[encoded data removed]",
      "text/plain": [
       "<Figure size 432x288 with 1 Axes>"
      ]
     },
     "metadata": {
      "needs_background": "light"
     },
     "output_type": "display_data"
    }
   ],
   "source": [
    "# predict values on test data: gets the same result\n",
    "print('coefficients ' + str(reg.coef_))\n",
    "\n",
    "predictions = reg.predict(np.array(test_input))\n",
    "plt.scatter(predictions, test_labs)\n",
    "\n",
    "for_cov = np.c_[predictions.astype(float), test_labs.astype(float)]\n",
    "print('r squared of ' + str(np.cov(for_cov, rowvar=False)[0, 1]**2))"
   ]
  },
  {
   "cell_type": "code",
   "execution_count": null,
   "id": "miniature-mailing",
   "metadata": {},
   "outputs": [],
   "source": []
  }
 ],
 "metadata": {
  "kernelspec": {
   "display_name": "Python 3",
   "language": "python",
   "name": "python3"
  },
  "language_info": {
   "codemirror_mode": {
    "name": "ipython",
    "version": 3
   },
   "file_extension": ".py",
   "mimetype": "text/x-python",
   "name": "python",
   "nbconvert_exporter": "python",
   "pygments_lexer": "ipython3",
   "version": "3.9.1"
  }
 },
 "nbformat": 4,
 "nbformat_minor": 5
}
