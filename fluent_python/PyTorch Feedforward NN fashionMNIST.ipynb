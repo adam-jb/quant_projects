{
 "cells": [
  {
   "cell_type": "code",
   "execution_count": 39,
   "id": "surprised-bidder",
   "metadata": {},
   "outputs": [],
   "source": [
    "\n",
    "# designing and implementing feedforward NN in PyTorch to classify fashionMNIST\n",
    "\n",
    "# accuracy = 35%\n",
    "\n",
    "\n",
    "# to use your own images with pytorch you might need to put them in their own class, as set out:\n",
    "# https://pytorch.org/tutorials/beginner/basics/data_tutorial.html\n",
    "# under 'Creating a Custom Dataset for your files'\n",
    "\n",
    "\n",
    "\n",
    "# transforming data (eg: to normalise)\n",
    "# https://pytorch.org/tutorials/beginner/basics/transforms_tutorial.html\n",
    "\n",
    "\n",
    "\n",
    "\n",
    "# arguing that fashionMNIST is a better choice than MNIST:\n",
    "# https://github.com/zalandoresearch/fashion-mnists\n",
    "\n",
    "import numpy as np\n",
    "from torch import nn\n",
    "from torchvision import datasets\n",
    "from torchvision.transforms import ToTensor, Lambda, Compose\n",
    "from torch.utils.data import DataLoader\n",
    "import matplotlib.pyplot as plt\n",
    "from torchvision.transforms import ToTensor    # ToTensor converts PIL image or nparray to FloatTensor\n",
    "\n"
   ]
  },
  {
   "cell_type": "code",
   "execution_count": 47,
   "id": "confused-relations",
   "metadata": {},
   "outputs": [
    {
     "name": "stdout",
     "output_type": "stream",
     "text": [
      "tensor([[0.4514, 0.5145, 0.1621, 0.5151, 0.9154, 0.7347, 0.6770, 0.1456, 0.8674,\n",
      "         0.6700]])\n",
      "tensor([[0.0866, 0.0922, 0.0648, 0.0923, 0.1377, 0.1150, 0.1085, 0.0638, 0.1313,\n",
      "         0.1078]])\n",
      "tensor(1.0000)\n"
     ]
    }
   ],
   "source": [
    "X = torch.rand(1, 10)\n",
    "print(X)                      # random vector of 10 values, which could be NN outputs for 10-class classifier\n",
    "print(nn.Softmax(dim=1)(X))   # may wish to put outputs of NN through softmax\n",
    "print(torch.sum(nn.Softmax(dim=1)(X)))   # showing softmax outputs sum to 1"
   ]
  },
  {
   "cell_type": "code",
   "execution_count": 4,
   "id": "colonial-north",
   "metadata": {},
   "outputs": [
    {
     "name": "stdout",
     "output_type": "stream",
     "text": [
      "Downloading http://fashion-mnist.s3-website.eu-central-1.amazonaws.com/train-images-idx3-ubyte.gz\n",
      "Downloading http://fashion-mnist.s3-website.eu-central-1.amazonaws.com/train-images-idx3-ubyte.gz to data/FashionMNIST/raw/train-images-idx3-ubyte.gz\n"
     ]
    },
    {
     "data": {
      "application/vnd.jupyter.widget-view+json": {
       "model_id": "2875255c6f4c44b282cf86bb21ce5013",
       "version_major": 2,
       "version_minor": 0
      },
      "text/plain": [
       "HBox(children=(HTML(value=''), FloatProgress(value=0.0, max=26421880.0), HTML(value='')))"
      ]
     },
     "metadata": {},
     "output_type": "display_data"
    },
    {
     "name": "stdout",
     "output_type": "stream",
     "text": [
      "\n",
      "Extracting data/FashionMNIST/raw/train-images-idx3-ubyte.gz to data/FashionMNIST/raw\n",
      "\n",
      "Downloading http://fashion-mnist.s3-website.eu-central-1.amazonaws.com/train-labels-idx1-ubyte.gz\n",
      "Downloading http://fashion-mnist.s3-website.eu-central-1.amazonaws.com/train-labels-idx1-ubyte.gz to data/FashionMNIST/raw/train-labels-idx1-ubyte.gz\n"
     ]
    },
    {
     "data": {
      "application/vnd.jupyter.widget-view+json": {
       "model_id": "4db66f500a4a407fb65deafb3a6785e7",
       "version_major": 2,
       "version_minor": 0
      },
      "text/plain": [
       "HBox(children=(HTML(value=''), FloatProgress(value=0.0, max=29515.0), HTML(value='')))"
      ]
     },
     "metadata": {},
     "output_type": "display_data"
    },
    {
     "name": "stdout",
     "output_type": "stream",
     "text": [
      "\n",
      "Extracting data/FashionMNIST/raw/train-labels-idx1-ubyte.gz to data/FashionMNIST/raw\n",
      "\n",
      "Downloading http://fashion-mnist.s3-website.eu-central-1.amazonaws.com/t10k-images-idx3-ubyte.gz\n",
      "Downloading http://fashion-mnist.s3-website.eu-central-1.amazonaws.com/t10k-images-idx3-ubyte.gz to data/FashionMNIST/raw/t10k-images-idx3-ubyte.gz\n"
     ]
    },
    {
     "data": {
      "application/vnd.jupyter.widget-view+json": {
       "model_id": "e5be97b37d2c45aaa839be1ede510539",
       "version_major": 2,
       "version_minor": 0
      },
      "text/plain": [
       "HBox(children=(HTML(value=''), FloatProgress(value=0.0, max=4422102.0), HTML(value='')))"
      ]
     },
     "metadata": {},
     "output_type": "display_data"
    },
    {
     "name": "stdout",
     "output_type": "stream",
     "text": [
      "\n",
      "Extracting data/FashionMNIST/raw/t10k-images-idx3-ubyte.gz to data/FashionMNIST/raw\n",
      "\n",
      "Downloading http://fashion-mnist.s3-website.eu-central-1.amazonaws.com/t10k-labels-idx1-ubyte.gz\n",
      "Downloading http://fashion-mnist.s3-website.eu-central-1.amazonaws.com/t10k-labels-idx1-ubyte.gz to data/FashionMNIST/raw/t10k-labels-idx1-ubyte.gz\n"
     ]
    },
    {
     "data": {
      "application/vnd.jupyter.widget-view+json": {
       "model_id": "88c43f3d7b784eb68d188965682dd87c",
       "version_major": 2,
       "version_minor": 0
      },
      "text/plain": [
       "HBox(children=(HTML(value=''), FloatProgress(value=0.0, max=5148.0), HTML(value='')))"
      ]
     },
     "metadata": {},
     "output_type": "display_data"
    },
    {
     "name": "stdout",
     "output_type": "stream",
     "text": [
      "\n",
      "Extracting data/FashionMNIST/raw/t10k-labels-idx1-ubyte.gz to data/FashionMNIST/raw\n",
      "\n",
      "Processing...\n"
     ]
    },
    {
     "name": "stderr",
     "output_type": "stream",
     "text": [
      "/usr/local/lib/python3.9/site-packages/torchvision/datasets/mnist.py:502: UserWarning: The given NumPy array is not writeable, and PyTorch does not support non-writeable tensors. This means you can write to the underlying (supposedly non-writeable) NumPy array using the tensor. You may want to copy the array to protect its data or make it writeable before converting it to a tensor. This type of warning will be suppressed for the rest of this program. (Triggered internally at  ../torch/csrc/utils/tensor_numpy.cpp:143.)\n",
      "  return torch.from_numpy(parsed.astype(m[2], copy=False)).view(*s)\n"
     ]
    },
    {
     "name": "stdout",
     "output_type": "stream",
     "text": [
      "Done!\n"
     ]
    }
   ],
   "source": [
    "# get data\n",
    "training_data = datasets.FashionMNIST(\n",
    "    root=\"data\",\n",
    "    train=True,\n",
    "    download=True,\n",
    "    transform=ToTensor(),\n",
    ")\n",
    "\n",
    "# Download test data from open datasets.\n",
    "test_data = datasets.FashionMNIST(\n",
    "    root=\"data\",\n",
    "    train=False,\n",
    "    download=True,\n",
    "    transform=ToTensor(),\n",
    ")\n"
   ]
  },
  {
   "cell_type": "code",
   "execution_count": 5,
   "id": "certified-throw",
   "metadata": {},
   "outputs": [
    {
     "data": {
      "text/plain": [
       "Dataset FashionMNIST\n",
       "    Number of datapoints: 60000\n",
       "    Root location: data\n",
       "    Split: Train\n",
       "    StandardTransform\n",
       "Transform: ToTensor()"
      ]
     },
     "execution_count": 5,
     "metadata": {},
     "output_type": "execute_result"
    }
   ],
   "source": [
    "training_data"
   ]
  },
  {
   "cell_type": "code",
   "execution_count": 38,
   "id": "compatible-warning",
   "metadata": {},
   "outputs": [
    {
     "data": {
      "image/png": "[encoded data removed]",
      "text/plain": [
       "<Figure size 432x288 with 3 Axes>"
      ]
     },
     "metadata": {
      "needs_background": "light"
     },
     "output_type": "display_data"
    }
   ],
   "source": [
    "# see first 3 images in training data set\n",
    "plt.subplot(1,3,1)    \n",
    "plt.imshow(training_data[0][0][0, :, :], cmap=\"gray\")\n",
    "plt.subplot(1,3,2)    \n",
    "plt.imshow(training_data[1][0][0, :, :], cmap=\"gray\")\n",
    "plt.subplot(1,3,3)    \n",
    "plt.imshow(training_data[2][0][0, :, :], cmap=\"gray\")\n",
    "plt.show()"
   ]
  },
  {
   "cell_type": "code",
   "execution_count": 8,
   "id": "wired-andrew",
   "metadata": {},
   "outputs": [
    {
     "name": "stdout",
     "output_type": "stream",
     "text": [
      "Shape of X [N, C, H, W]:  torch.Size([64, 1, 28, 28])\n",
      "Shape of y:  torch.Size([64]) torch.int64\n"
     ]
    }
   ],
   "source": [
    "batch_size = 64 # minibatch size\n",
    "\n",
    "train_dataloader = DataLoader(training_data, batch_size=batch_size) # creates python iterable over dataset\n",
    "test_dataloader = DataLoader(test_data, batch_size=batch_size)\n",
    "\n",
    "for X, y in test_dataloader:\n",
    "    print(\"Shape of X [N, C, H, W]: \", X.shape)\n",
    "    print(\"Shape of y: \", y.shape, y.dtype)\n",
    "    break"
   ]
  },
  {
   "cell_type": "code",
   "execution_count": 11,
   "id": "satisfied-junction",
   "metadata": {},
   "outputs": [
    {
     "name": "stdout",
     "output_type": "stream",
     "text": [
      "Using cpu device\n",
      "NeuralNetwork(\n",
      "  (flatten): Flatten(start_dim=1, end_dim=-1)\n",
      "  (linear_relu_stack): Sequential(\n",
      "    (0): Linear(in_features=784, out_features=512, bias=True)\n",
      "    (1): ReLU()\n",
      "    (2): Linear(in_features=512, out_features=512, bias=True)\n",
      "    (3): ReLU()\n",
      "    (4): Linear(in_features=512, out_features=10, bias=True)\n",
      "  )\n",
      ")\n"
     ]
    }
   ],
   "source": [
    "# Get cpu or gpu device for training.\n",
    "device = \"cuda\" if torch.cuda.is_available() else \"cpu\"\n",
    "print(\"Using {} device\".format(device))\n",
    "\n",
    "# Define model\n",
    "class NeuralNetwork(nn.Module):\n",
    "    def __init__(self):\n",
    "        super(NeuralNetwork, self).__init__()\n",
    "        self.flatten = nn.Flatten()\n",
    "        self.linear_relu_stack = nn.Sequential(   # container of sequential operations\n",
    "            nn.Linear(28*28, 512),\n",
    "            nn.ReLU(),\n",
    "            nn.Linear(512, 512),\n",
    "            nn.ReLU(),\n",
    "            nn.Linear(512, 10)\n",
    "        )\n",
    "\n",
    "    def forward(self, x):\n",
    "        \"\"\"flatten input and return 10 values at end of sequence, as there are 10 classes\"\"\"\n",
    "        x = self.flatten(x)\n",
    "        logits = self.linear_relu_stack(x) \n",
    "        return logits\n",
    "\n",
    "model = NeuralNetwork().to(device)\n",
    "print(model)"
   ]
  },
  {
   "cell_type": "code",
   "execution_count": 12,
   "id": "indirect-knowing",
   "metadata": {},
   "outputs": [],
   "source": [
    "loss_fn = nn.CrossEntropyLoss()     # chosing loss function \n",
    "optimizer = torch.optim.SGD(model.parameters(), lr=1e-3)  # set optimiser with learning rate"
   ]
  },
  {
   "cell_type": "code",
   "execution_count": 14,
   "id": "aware-sustainability",
   "metadata": {},
   "outputs": [],
   "source": [
    "def train(dataloader, model, loss_fn, optimizer):\n",
    "    \"\"\"Single training epoch, looping through mini-batches as set in dataloader obj\"\"\"\n",
    "    size = len(dataloader.dataset)\n",
    "    model.train()\n",
    "    for batch, (X, y) in enumerate(dataloader):\n",
    "        X, y = X.to(device), y.to(device)\n",
    "\n",
    "        # Compute prediction error\n",
    "        pred = model(X)\n",
    "        loss = loss_fn(pred, y)\n",
    "\n",
    "        # Backpropagation\n",
    "        optimizer.zero_grad()  # setting weights to zero - not sure if doing this on every epoch or not\n",
    "        loss.backward()\n",
    "        optimizer.step()\n",
    "\n",
    "        if batch % 100 == 0:     # printing diagnostics on every 100th batch\n",
    "            loss, current = loss.item(), batch * len(X)\n",
    "            print(f\"loss: {loss:>7f}  [{current:>5d}/{size:>5d}]\")"
   ]
  },
  {
   "cell_type": "code",
   "execution_count": 15,
   "id": "usual-copper",
   "metadata": {},
   "outputs": [],
   "source": [
    "def test(dataloader, model, loss_fn):\n",
    "    \"\"\"test performance of model on test dataset\"\"\"\n",
    "    size = len(dataloader.dataset)\n",
    "    num_batches = len(dataloader)\n",
    "    model.eval()    # puts the model into eval model (instead of train); a form of switch\n",
    "    test_loss, correct = 0, 0\n",
    "    with torch.no_grad():    # no_grad disables gradient calculation\n",
    "                               # anytime we're applying the model, put it within no_grad so no updates made\n",
    "        for X, y in dataloader:\n",
    "            X, y = X.to(device), y.to(device)\n",
    "            pred = model(X)         \n",
    "            test_loss += loss_fn(pred, y).item()\n",
    "            correct += (pred.argmax(1) == y).type(torch.float).sum().item()\n",
    "    test_loss /= num_batches   # shorthand for: test_loss = test_loss / num_batches\n",
    "    correct /= size\n",
    "    print(f\"Test Error: \\n Accuracy: {(100*correct):>0.1f}%, Avg loss: {test_loss:>8f} \\n\")"
   ]
  },
  {
   "cell_type": "code",
   "execution_count": 29,
   "id": "sapphire-branch",
   "metadata": {},
   "outputs": [
    {
     "name": "stdout",
     "output_type": "stream",
     "text": [
      "Epoch 1\n",
      "-------------------------------\n",
      "loss: 2.175393  [    0/60000]\n",
      "loss: 2.188902  [ 6400/60000]\n",
      "loss: 2.164962  [12800/60000]\n",
      "loss: 2.195203  [19200/60000]\n",
      "loss: 2.164782  [25600/60000]\n",
      "loss: 2.152572  [32000/60000]\n",
      "loss: 2.183286  [38400/60000]\n",
      "loss: 2.161990  [44800/60000]\n",
      "loss: 2.178070  [51200/60000]\n",
      "loss: 2.157706  [57600/60000]\n",
      "Test Error: \n",
      " Accuracy: 35.3%, Avg loss: 2.167707 \n",
      "\n",
      "Epoch 2\n",
      "-------------------------------\n",
      "loss: 2.175393  [    0/60000]\n",
      "loss: 2.188902  [ 6400/60000]\n",
      "loss: 2.164962  [12800/60000]\n",
      "loss: 2.195203  [19200/60000]\n",
      "loss: 2.164782  [25600/60000]\n",
      "loss: 2.152572  [32000/60000]\n",
      "loss: 2.183286  [38400/60000]\n",
      "loss: 2.161990  [44800/60000]\n",
      "loss: 2.178070  [51200/60000]\n",
      "loss: 2.157706  [57600/60000]\n",
      "Test Error: \n",
      " Accuracy: 35.3%, Avg loss: 2.167707 \n",
      "\n",
      "Epoch 3\n",
      "-------------------------------\n",
      "loss: 2.175393  [    0/60000]\n",
      "loss: 2.188902  [ 6400/60000]\n",
      "loss: 2.164962  [12800/60000]\n",
      "loss: 2.195203  [19200/60000]\n",
      "loss: 2.164782  [25600/60000]\n",
      "loss: 2.152572  [32000/60000]\n",
      "loss: 2.183286  [38400/60000]\n",
      "loss: 2.161990  [44800/60000]\n",
      "loss: 2.178070  [51200/60000]\n",
      "loss: 2.157706  [57600/60000]\n",
      "Test Error: \n",
      " Accuracy: 35.3%, Avg loss: 2.167707 \n",
      "\n",
      "Epoch 4\n",
      "-------------------------------\n",
      "loss: 2.175393  [    0/60000]\n",
      "loss: 2.188902  [ 6400/60000]\n",
      "loss: 2.164962  [12800/60000]\n",
      "loss: 2.195203  [19200/60000]\n",
      "loss: 2.164782  [25600/60000]\n",
      "loss: 2.152572  [32000/60000]\n",
      "loss: 2.183286  [38400/60000]\n",
      "loss: 2.161990  [44800/60000]\n",
      "loss: 2.178070  [51200/60000]\n",
      "loss: 2.157706  [57600/60000]\n",
      "Test Error: \n",
      " Accuracy: 35.3%, Avg loss: 2.167707 \n",
      "\n",
      "Epoch 5\n",
      "-------------------------------\n",
      "loss: 2.175393  [    0/60000]\n",
      "loss: 2.188902  [ 6400/60000]\n",
      "loss: 2.164962  [12800/60000]\n",
      "loss: 2.195203  [19200/60000]\n",
      "loss: 2.164782  [25600/60000]\n",
      "loss: 2.152572  [32000/60000]\n",
      "loss: 2.183286  [38400/60000]\n",
      "loss: 2.161990  [44800/60000]\n",
      "loss: 2.178070  [51200/60000]\n",
      "loss: 2.157706  [57600/60000]\n",
      "Test Error: \n",
      " Accuracy: 35.3%, Avg loss: 2.167707 \n",
      "\n",
      "Done!\n"
     ]
    }
   ],
   "source": [
    "### training process\n",
    "epochs = 5\n",
    "for t in range(epochs):\n",
    "    print(f\"Epoch {t+1}\\n-------------------------------\")\n",
    "    train(train_dataloader, model, loss_fn, optimizer)   \n",
    "    test(test_dataloader, model, loss_fn)   # tells you how it's doing\n",
    "print(\"Done!\")"
   ]
  },
  {
   "cell_type": "code",
   "execution_count": 17,
   "id": "comparative-static",
   "metadata": {},
   "outputs": [
    {
     "data": {
      "text/plain": [
       "<All keys matched successfully>"
      ]
     },
     "execution_count": 17,
     "metadata": {},
     "output_type": "execute_result"
    }
   ],
   "source": [
    "torch.save(model.state_dict(), \"model.pth\")  # saving model\n",
    "\n",
    "\n",
    "# loading model involves initialising a network and loading the .pth model state into it\n",
    "model = NeuralNetwork()\n",
    "model.load_state_dict(torch.load(\"model.pth\"))"
   ]
  },
  {
   "cell_type": "code",
   "execution_count": 49,
   "id": "foreign-relief",
   "metadata": {},
   "outputs": [
    {
     "name": "stdout",
     "output_type": "stream",
     "text": [
      "torch.Size([1, 28, 28])\n",
      "9\n",
      "tensor([[0.1031, 0.0832, 0.1421, 0.0797, 0.1332, 0.0744, 0.1154, 0.0743, 0.0997,\n",
      "         0.0950]])\n",
      "class with highest prediction: Pullover\n",
      "Predicted: \"Pullover\", Actual: \"Ankle boot\"\n"
     ]
    }
   ],
   "source": [
    "# making a prediction for a single data point\n",
    "classes = [\n",
    "    \"T-shirt/top\",\n",
    "    \"Trouser\",\n",
    "    \"Pullover\",\n",
    "    \"Dress\",\n",
    "    \"Coat\",\n",
    "    \"Sandal\",\n",
    "    \"Shirt\",\n",
    "    \"Sneaker\",\n",
    "    \"Bag\",\n",
    "    \"Ankle boot\",\n",
    "]\n",
    "\n",
    "model.eval()    # eval mode is also prediction mode\n",
    "x, y = test_data[1][0], test_data[0][1]\n",
    "print(x.shape)\n",
    "print(y)\n",
    "softmax = nn.Softmax(dim=1)  # defining softmax for our uses\n",
    "with torch.no_grad():    # anytime we're applying the model, put it within no_grad so no updates made\n",
    "    pred = model(x)\n",
    "    pred = softmax(pred)   # effectively rescales to sum to 1 (tho not necessary to pick the highest scorer)\n",
    "    print(pred)\n",
    "    print('class with highest prediction: ' + str(classes[pred[0].argmax(0)]))\n",
    "    predicted, actual = classes[pred[0].argmax(0)], classes[y]\n",
    "    print(f'Predicted: \"{predicted}\", Actual: \"{actual}\"')"
   ]
  },
  {
   "cell_type": "code",
   "execution_count": null,
   "id": "composite-sender",
   "metadata": {},
   "outputs": [],
   "source": []
  },
  {
   "cell_type": "code",
   "execution_count": 50,
   "id": "robust-workshop",
   "metadata": {},
   "outputs": [
    {
     "name": "stdout",
     "output_type": "stream",
     "text": [
      "Model structure:  NeuralNetwork(\n",
      "  (flatten): Flatten(start_dim=1, end_dim=-1)\n",
      "  (linear_relu_stack): Sequential(\n",
      "    (0): Linear(in_features=784, out_features=512, bias=True)\n",
      "    (1): ReLU()\n",
      "    (2): Linear(in_features=512, out_features=512, bias=True)\n",
      "    (3): ReLU()\n",
      "    (4): Linear(in_features=512, out_features=10, bias=True)\n",
      "  )\n",
      ") \n",
      "\n",
      "\n",
      "Layer: linear_relu_stack.0.weight | Size: torch.Size([512, 784]) | Values : tensor([[ 0.0212,  0.0024,  0.0211,  ...,  0.0309, -0.0109,  0.0190],\n",
      "        [ 0.0290,  0.0011, -0.0206,  ..., -0.0036, -0.0340, -0.0131]],\n",
      "       grad_fn=<SliceBackward>) \n",
      "\n",
      "Layer: linear_relu_stack.0.bias | Size: torch.Size([512]) | Values : tensor([ 0.0245, -0.0284], grad_fn=<SliceBackward>) \n",
      "\n",
      "Layer: linear_relu_stack.2.weight | Size: torch.Size([512, 512]) | Values : tensor([[-0.0139, -0.0065, -0.0233,  ..., -0.0002,  0.0407,  0.0092],\n",
      "        [-0.0320,  0.0230, -0.0432,  ...,  0.0001, -0.0395,  0.0131]],\n",
      "       grad_fn=<SliceBackward>) \n",
      "\n",
      "Layer: linear_relu_stack.2.bias | Size: torch.Size([512]) | Values : tensor([-0.0321, -0.0269], grad_fn=<SliceBackward>) \n",
      "\n",
      "Layer: linear_relu_stack.4.weight | Size: torch.Size([10, 512]) | Values : tensor([[-0.0083, -0.0294,  0.0107,  ..., -0.0283, -0.0168, -0.0171],\n",
      "        [-0.0251,  0.0092,  0.0409,  ..., -0.0119,  0.0435,  0.0394]],\n",
      "       grad_fn=<SliceBackward>) \n",
      "\n",
      "Layer: linear_relu_stack.4.bias | Size: torch.Size([10]) | Values : tensor([0.0053, 0.0304], grad_fn=<SliceBackward>) \n",
      "\n"
     ]
    }
   ],
   "source": [
    "# view weights for each layer\n",
    "for name, param in model.named_parameters():\n",
    "    print(f\"Layer: {name} | Size: {param.size()} | Values : {param[:2]} \\n\")"
   ]
  }
 ],
 "metadata": {
  "kernelspec": {
   "display_name": "Python 3",
   "language": "python",
   "name": "python3"
  },
  "language_info": {
   "codemirror_mode": {
    "name": "ipython",
    "version": 3
   },
   "file_extension": ".py",
   "mimetype": "text/x-python",
   "name": "python",
   "nbconvert_exporter": "python",
   "pygments_lexer": "ipython3",
   "version": "3.9.1"
  }
 },
 "nbformat": 4,
 "nbformat_minor": 5
}
