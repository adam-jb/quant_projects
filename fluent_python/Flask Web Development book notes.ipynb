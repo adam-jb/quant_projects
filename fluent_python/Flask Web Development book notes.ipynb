{
 "cells": [
  {
   "cell_type": "code",
   "execution_count": null,
   "id": "starting-riverside",
   "metadata": {},
   "outputs": [],
   "source": [
    "\n",
    "# Notes from Flask Web Development book\n",
    "\n",
    "\n",
    "\n",
    "# js code to load data from jinja, which can then be used in D3 as usual\n",
    "# var graphData = {{ data_from_flask_via_jinja | safe }} \n",
    "\n",
    "# example of applying D3 func to dynamic data from flask:\n",
    "# https://branetheory.org/2014/12/18/data-visualization-using-d3-js-and-flask/\n",
    "\n",
    "\n",
    "\n"
   ]
  },
  {
   "cell_type": "code",
   "execution_count": 1,
   "id": "happy-british",
   "metadata": {},
   "outputs": [],
   "source": [
    "# outing, debugging, and Web Server Gateway Interface (WSGI) subsystems come from Werkzeug\n",
    "# template support from jinja\n",
    "## apart from the two lines above, you chose what package does things\n",
    "\n",
    "\n",
    "from flask import Flask \n",
    "app = Flask(__name__)  # the __name__ is used to determine root path of app\n",
    "\n",
    "\n",
    "# browsers send 'requests' to the server, which sends them to a flask app instance\n",
    "# and the URL is mapped to a py func, eg: \n",
    "\n",
    "\n",
    "@app.route('/')   # using decorator to register index() func as a handler for event (in this case, going to a URL)\n",
    "def index():\n",
    "    \"\"\"Funcs like this are called View Functons, and return a response (eg HTML)\"\"\"\n",
    "    return '<h1>Hello World!</h1>'\n",
    "\n",
    "\n",
    "# ensures server is only launched when this script called directly\n",
    "if __name__ == '__main__': \n",
    "    app.run(debug=True)"
   ]
  },
  {
   "cell_type": "code",
   "execution_count": 7,
   "id": "received-disaster",
   "metadata": {},
   "outputs": [
    {
     "name": "stdout",
     "output_type": "stream",
     "text": [
      "<h1>Hello, Jess!</h1>\n",
      "<h1>Hello, Jess!</h1>\n"
     ]
    }
   ],
   "source": [
    "## embed text: two methods\n",
    "name = 'Jess' \n",
    "print('<h1>Hello, %s!</h1>' % name)\n",
    "print(f'<h1>Hello, {name}!</h1>' )"
   ]
  },
  {
   "cell_type": "code",
   "execution_count": null,
   "id": "popular-counter",
   "metadata": {},
   "outputs": [],
   "source": [
    "### 'name' is passed to function as an input\n",
    "@app.route('/user/<name>') \n",
    "def user(name):\n",
    "\treturn '<h1>Hello, %s!</h1>' % name \n"
   ]
  },
  {
   "cell_type": "code",
   "execution_count": null,
   "id": "jewish-serum",
   "metadata": {},
   "outputs": [],
   "source": [
    "# defines a thread as the smallest sequence of instructions that can be handled independently\n",
    "# and a process can have multiple active threads\n",
    "# \n",
    "# \n",
    "# a request object captures contents of an HTTP request sent by the client\n",
    "\n"
   ]
  },
  {
   "cell_type": "code",
   "execution_count": null,
   "id": "stupid-adventure",
   "metadata": {},
   "outputs": [],
   "source": []
  }
 ],
 "metadata": {
  "kernelspec": {
   "display_name": "Python 3",
   "language": "python",
   "name": "python3"
  },
  "language_info": {
   "codemirror_mode": {
    "name": "ipython",
    "version": 3
   },
   "file_extension": ".py",
   "mimetype": "text/x-python",
   "name": "python",
   "nbconvert_exporter": "python",
   "pygments_lexer": "ipython3",
   "version": "3.9.1"
  }
 },
 "nbformat": 4,
 "nbformat_minor": 5
}
