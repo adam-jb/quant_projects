{
 "cells": [
  {
   "cell_type": "raw",
   "id": "wanted-links",
   "metadata": {},
   "source": [
    "\n",
    "\n",
    "Based on:\n",
    "https://medium.com/flatiron-engineering/recovering-from-a-jupyter-disaster-27401677aeeb\n",
    "\n",
    "\n",
    "find history.sqlite in cd ~/.ipython/profile_default, then search tables to find the session you want: \n",
    "select sessions.session, sessions.start, sessions.end, history.source from sessions join history using (session) where start > '2021-09-21' and start < '2021-09-22';\n",
    "\n",
    "select sessions.session, sessions.start, sessions.end from sessions where start > '2021-09-21 17:33:20' and start < '2021-09-21 17:35:00';\n",
    "\n",
    "\n",
    "# having decided session 107 is what we want, can view all the code run in that session\n",
    "select '# @@ Cell '|| line || char(10) || source || char(10) from history where session = 107;\n",
    "\n",
    "\n",
    "# then back in terminal, run this to extract all that session as a py file\n",
    "sqlite3 history.sqlite \"select '# @@ Cell '|| line || char(10) || source || char(10)   from history where session = 109;\" > /Users/Apple/Desktop/quant_py_notebooks/fluent_python/myoutput110.py\n",
    "\n",
    "\n",
    "# convert from py to ipynb\n",
    "jupytext -- to ipynb myoutput.py\n",
    "\n",
    "        \n",
    "        \n",
    "        \n",
    " \n",
    "    "
   ]
  }
 ],
 "metadata": {
  "kernelspec": {
   "display_name": "Python 3",
   "language": "python",
   "name": "python3"
  },
  "language_info": {
   "codemirror_mode": {
    "name": "ipython",
    "version": 3
   },
   "file_extension": ".py",
   "mimetype": "text/x-python",
   "name": "python",
   "nbconvert_exporter": "python",
   "pygments_lexer": "ipython3",
   "version": "3.9.1"
  }
 },
 "nbformat": 4,
 "nbformat_minor": 5
}
