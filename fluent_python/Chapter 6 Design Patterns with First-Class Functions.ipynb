{
 "cells": [
  {
   "cell_type": "markdown",
   "id": "delayed-pleasure",
   "metadata": {},
   "source": [
    "\n",
    "\n",
    "# up to p198 of pdf\n",
    "\n",
    "design pattern = general, reusable solution to a commonly occurring problem within a given context. Is a general template for how to solve a problem that can be used in many different situations\n",
    "\n",
    "\n",
    "\n",
    "\n",
    "\n",
    "\n",
    "\n",
    "\n"
   ]
  }
 ],
 "metadata": {
  "kernelspec": {
   "display_name": "Python 3",
   "language": "python",
   "name": "python3"
  },
  "language_info": {
   "codemirror_mode": {
    "name": "ipython",
    "version": 3
   },
   "file_extension": ".py",
   "mimetype": "text/x-python",
   "name": "python",
   "nbconvert_exporter": "python",
   "pygments_lexer": "ipython3",
   "version": "3.9.7"
  }
 },
 "nbformat": 4,
 "nbformat_minor": 5
}
