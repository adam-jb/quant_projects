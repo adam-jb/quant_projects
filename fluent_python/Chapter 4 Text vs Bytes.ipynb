{
 "cells": [
  {
   "cell_type": "markdown",
   "id": "naval-command",
   "metadata": {},
   "source": [
    "## For traversal algo\n",
    "\n",
    "\n",
    "Could test having node TOIDs as memoryview instead of string, as might read faster. Or as numpy arrays with most basic int/float type possible, then converted to memoryview. Or bytearrays/bytes, which gives more granularity on how many bytes are needed. 3 bytes might be enough for TOIDs (256**3=16777216)\n",
    "\n",
    "Memoryview might be less good if you want to delete nodes. But if dict of memoryviews might be ok...\n",
    "\n",
    "\n",
    "\n",
    "\n"
   ]
  },
  {
   "cell_type": "markdown",
   "id": "secondary-oxide",
   "metadata": {},
   "source": [
    "#### Other notes\n",
    "\n",
    "encoding = code points to byte sequences and vice versa.\n",
    "\n",
    "Code point for 'A' = U+0041\n",
    "UTF-8 code for 'A' (single byte) = \\x41\n",
    "UTF-16LE code for 'A' (2 bytes) = \\x41\\x00\n",
    "\n",
    "Says binary sequences are really sequences of integers\n",
    "\n",
    "For bytes corresponding to tab, newline, carriage return, and \\ = \\t, \\n, \\r, and \\\\ \n",
    "\n",
    "\n"
   ]
  },
  {
   "cell_type": "code",
   "execution_count": 80,
   "id": "incredible-logging",
   "metadata": {},
   "outputs": [
    {
     "data": {
      "text/plain": [
       "16777216"
      ]
     },
     "execution_count": 80,
     "metadata": {},
     "output_type": "execute_result"
    }
   ],
   "source": [
    "256**3"
   ]
  },
  {
   "cell_type": "code",
   "execution_count": 78,
   "id": "homeless-aerospace",
   "metadata": {},
   "outputs": [
    {
     "data": {
      "text/plain": [
       "4"
      ]
     },
     "execution_count": 78,
     "metadata": {},
     "output_type": "execute_result"
    }
   ],
   "source": [
    "s = 'cafe'\n",
    "b = s.encode('utf8')\n",
    "len(b)"
   ]
  },
  {
   "cell_type": "code",
   "execution_count": 19,
   "id": "frozen-analysis",
   "metadata": {},
   "outputs": [
    {
     "name": "stdout",
     "output_type": "stream",
     "text": [
      "5\n",
      "<class 'bytes'>\n",
      "99\n",
      "97\n",
      "b'caf\\xc3'\n"
     ]
    }
   ],
   "source": [
    "# encode text as bytes\n",
    "a = bytes('café', encoding='utf_8')\n",
    "print(len(a))\n",
    "print(type(a))\n",
    "print(a[0])\n",
    "print(a[1])\n",
    "print(a[:4])"
   ]
  },
  {
   "cell_type": "code",
   "execution_count": 20,
   "id": "anticipated-archive",
   "metadata": {},
   "outputs": [
    {
     "name": "stdout",
     "output_type": "stream",
     "text": [
      "99\n",
      "97\n",
      "102\n",
      "195\n",
      "169\n"
     ]
    }
   ],
   "source": [
    "# converting to bytearray and looking at bytes\n",
    "ba = bytearray(a)\n",
    "for ac in ba:\n",
    "    print(ac)"
   ]
  },
  {
   "cell_type": "code",
   "execution_count": 21,
   "id": "oriental-birth",
   "metadata": {},
   "outputs": [
    {
     "name": "stdout",
     "output_type": "stream",
     "text": [
      "b'caf\\xc3\\xa9'\n",
      "b'caf\\xc3\\xa9'\n",
      "b'caf\\xc3\\xa9'\n",
      "b'caf\\xc3\\xa9'\n",
      "b'caf\\xc3\\xa9'\n"
     ]
    }
   ],
   "source": [
    "# can't interate through byte object like you can through bytearrays\n",
    "for ac in a:\n",
    "    print(a)"
   ]
  },
  {
   "cell_type": "code",
   "execution_count": 24,
   "id": "turned-swimming",
   "metadata": {},
   "outputs": [
    {
     "name": "stdout",
     "output_type": "stream",
     "text": [
      "b'1K\\xce\\xa9'\n",
      "1KΩ\n"
     ]
    }
   ],
   "source": [
    "# decode hex encoding\n",
    "k = bytes.fromhex('31 4B CE A9') \n",
    "print(k)\n",
    "print(k.decode())"
   ]
  },
  {
   "cell_type": "code",
   "execution_count": 30,
   "id": "opened-outreach",
   "metadata": {},
   "outputs": [
    {
     "name": "stdout",
     "output_type": "stream",
     "text": [
      "<class 'bytes'>\n",
      "12\n"
     ]
    },
    {
     "data": {
      "text/plain": [
       "b'\\xfe\\xff\\xff\\xff\\x00\\x00\\x01\\x00\\x02\\x00\\x03\\x00'"
      ]
     },
     "execution_count": 30,
     "metadata": {},
     "output_type": "execute_result"
    }
   ],
   "source": [
    "import array\n",
    "numbers = array.array('h', [-2, -1, 0, 1, 2, 3]) # h = int16, or two bytes per number\n",
    "dd = bytes(numbers)\n",
    "print(type(dd))\n",
    "print(len(dd))    # 2 bytes per number, so 12 bytes in total\n",
    "dd"
   ]
  },
  {
   "cell_type": "code",
   "execution_count": 42,
   "id": "sealed-footage",
   "metadata": {},
   "outputs": [
    {
     "name": "stdout",
     "output_type": "stream",
     "text": [
      "b'\\x01\\x00\\x00\\x00\\x00\\x00\\x00\\x00\\x01\\x00\\x00\\x00\\x00\\x00\\x00\\x00\\x02\\x00\\x00\\x00\\x00\\x00\\x00\\x00\\x03\\x00\\x00\\x00\\x00\\x00\\x00\\x00\\x04\\x00\\x00\\x00\\x00\\x00\\x00\\x00'\n",
      "40\n",
      "20\n"
     ]
    }
   ],
   "source": [
    "import numpy as np\n",
    "ar = np.asarray([1, 1, 2, 3, 4]).astype('int64')\n",
    "np_bytes = bytes(ar)\n",
    "print(np_bytes)\n",
    "print(len(np_bytes))  # int64 sees 8 bytes per integer\n",
    "\n",
    "print(len(bytes(np.asarray([1, 1, 2, 3, 4]).astype('int32'))))  # int32 sees 4 bytes per int"
   ]
  },
  {
   "cell_type": "markdown",
   "id": "second-pearl",
   "metadata": {},
   "source": [
    "#### struct package helps\n",
    ">parse packed bytes into a tuple of fields of different type, and vice versa\n",
    "\n",
    "struct is used with bytes, bytearray, and memoryview objects\n",
    "\n",
    "\n",
    "\n",
    "\n",
    "\n"
   ]
  },
  {
   "cell_type": "code",
   "execution_count": 52,
   "id": "medium-google",
   "metadata": {},
   "outputs": [],
   "source": [
    "import struct\n",
    "import time\n"
   ]
  },
  {
   "cell_type": "code",
   "execution_count": 51,
   "id": "civil-solid",
   "metadata": {},
   "outputs": [
    {
     "name": "stdout",
     "output_type": "stream",
     "text": [
      "0.018759965896606445\n",
      "0.27395105361938477\n",
      "0.27632999420166016\n",
      "0.30631279945373535\n"
     ]
    }
   ],
   "source": [
    "# memoryviews can be sliced without copying the underlying data, unlike bytes (and byte arrays) or strings. \n",
    "# Making them scale linearly with things, inc slicing and assigning, unlike bytes/strings which scale quadratically\n",
    "# ref: https://stackoverflow.com/questions/18655648/what-exactly-is-the-point-of-memoryview-in-python\n",
    "\n",
    "data_byte = b'x'*100000\n",
    "data_memview = memoryview(data)\n",
    "data_string = 'x' * 100000\n",
    "data_bytearray = bytearray(data_byte)\n",
    "\n",
    "start = time.time()\n",
    "for i in range(len(data_memview)):\n",
    "    data_memview[:i]\n",
    "print(time.time() - start)\n",
    "\n",
    "start = time.time()\n",
    "for i in range(len(data_byte)):\n",
    "    data_byte[:i]\n",
    "print(time.time() - start)\n",
    "\n",
    "start = time.time()\n",
    "for i in range(len(data_bytearray)):\n",
    "    data_bytearray[:i]\n",
    "print(time.time() - start)\n",
    "\n",
    "start = time.time()\n",
    "for i in range(len(data_string)):\n",
    "    data_string[:i]\n",
    "print(time.time() - start)\n"
   ]
  },
  {
   "cell_type": "code",
   "execution_count": 65,
   "id": "premier-debate",
   "metadata": {},
   "outputs": [
    {
     "data": {
      "text/plain": [
       "(b'ann', b'wim', 29294, 30317)"
      ]
     },
     "execution_count": 65,
     "metadata": {},
     "output_type": "execute_result"
    }
   ],
   "source": [
    "# view something in byte form, specifying the nunber of bytes shown and how they are shown\n",
    "fmt = '<3s3sHH'  # set format to show you two sequence of 3 bytes (3s3s) and two 16-bit integers (HH): 10 bytes in total\n",
    "struct.unpack(fmt, b'annwimnrmv')"
   ]
  },
  {
   "cell_type": "code",
   "execution_count": 76,
   "id": "wrapped-football",
   "metadata": {},
   "outputs": [
    {
     "name": "stdout",
     "output_type": "stream",
     "text": [
      "2.841446876525879\n",
      "1.6500070095062256\n"
     ]
    }
   ],
   "source": [
    "# memory is faster than numpy array\n",
    "a = np.random.rand(10000, 1000)\n",
    "b = memoryview(a)\n",
    "\n",
    "start = time.time()\n",
    "for i in range(10000):\n",
    "    for j in range(1000):\n",
    "        a[i, j]\n",
    "print(time.time() - start)\n",
    "\n",
    "start = time.time()\n",
    "for i in range(10000):\n",
    "    for j in range(1000):\n",
    "        b[i, j]\n",
    "print(time.time() - start)\n",
    "\n"
   ]
  },
  {
   "cell_type": "code",
   "execution_count": 95,
   "id": "missing-passing",
   "metadata": {},
   "outputs": [
    {
     "data": {
      "text/plain": [
       "array([0.004781  , 0.25555808, 0.7781253 , 0.73146312, 0.5996862 ,\n",
       "       0.51406519, 0.55937536])"
      ]
     },
     "execution_count": 95,
     "metadata": {},
     "output_type": "execute_result"
    }
   ],
   "source": [
    "a = np.random.rand(10)\n",
    "b = memoryview(a)\n",
    "np.asarray(b[:7])"
   ]
  },
  {
   "cell_type": "code",
   "execution_count": 99,
   "id": "harmful-aberdeen",
   "metadata": {},
   "outputs": [
    {
     "data": {
      "text/plain": [
       "'MontrИal'"
      ]
     },
     "execution_count": 99,
     "metadata": {},
     "output_type": "execute_result"
    }
   ],
   "source": [
    "# can decode into different target languages, eg Russian\n",
    "octets = b'Montr\\xe9al'\n",
    "octets.decode('koi8_r')\n",
    "\n",
    "# How do you find the encoding of a byte sequence? Short answer: you can’t. You must be told."
   ]
  },
  {
   "cell_type": "code",
   "execution_count": 109,
   "id": "joint-output",
   "metadata": {},
   "outputs": [
    {
     "name": "stdout",
     "output_type": "stream",
     "text": [
      "<_io.TextIOWrapper name='example.txt' mode='r' encoding='UTF-8'>\n",
      "<_io.TextIOWrapper name='example.txt' mode='r' encoding='utf_8'>\n",
      "<_io.BufferedReader name='example.txt'>\n",
      "<class 'bytes'>\n",
      "b'example'\n"
     ]
    }
   ],
   "source": [
    "# UTF-8 is the default source encoding for Python 3 (though says there is some chance python will use the\n",
    "# base machine's default encoding, so not clear: can see from below mac reads in as utf-8)\n",
    "\n",
    "with open('example.txt', 'w') as f:\n",
    "    f.write('example')\n",
    "       \n",
    "fp2 = open('example.txt')\n",
    "print(fp2)\n",
    "\n",
    "fp2 = open('example.txt', encoding='utf_8') # can force encoding choice\n",
    "print(fp2)\n",
    "\n",
    "fp2 = open('example.txt', 'rb') # The 'rb' flag opens a file for reading in binary mode. No real reason to do this. \n",
    "f = fp2.read()\n",
    "print(fp2)\n",
    "print(type(f))\n",
    "print(f)"
   ]
  },
  {
   "cell_type": "markdown",
   "id": "seven-travel",
   "metadata": {},
   "source": [
    "Little endian machine = last byte stored first\n",
    "\n",
    "Big endian machine = first byte stored first"
   ]
  },
  {
   "cell_type": "markdown",
   "id": "breeding-gravity",
   "metadata": {},
   "source": [
    "\n",
    "## \n",
    "\n",
    "String and bytes are dealt with differently by re and os modules"
   ]
  },
  {
   "cell_type": "code",
   "execution_count": null,
   "id": "instrumental-substance",
   "metadata": {},
   "outputs": [],
   "source": []
  },
  {
   "cell_type": "code",
   "execution_count": null,
   "id": "fresh-assurance",
   "metadata": {},
   "outputs": [],
   "source": []
  },
  {
   "cell_type": "code",
   "execution_count": null,
   "id": "covered-custom",
   "metadata": {},
   "outputs": [],
   "source": []
  },
  {
   "cell_type": "code",
   "execution_count": null,
   "id": "aboriginal-donna",
   "metadata": {},
   "outputs": [],
   "source": []
  },
  {
   "cell_type": "code",
   "execution_count": null,
   "id": "characteristic-schedule",
   "metadata": {},
   "outputs": [],
   "source": []
  },
  {
   "cell_type": "code",
   "execution_count": null,
   "id": "virgin-school",
   "metadata": {},
   "outputs": [],
   "source": []
  }
 ],
 "metadata": {
  "kernelspec": {
   "display_name": "Python 3",
   "language": "python",
   "name": "python3"
  },
  "language_info": {
   "codemirror_mode": {
    "name": "ipython",
    "version": 3
   },
   "file_extension": ".py",
   "mimetype": "text/x-python",
   "name": "python",
   "nbconvert_exporter": "python",
   "pygments_lexer": "ipython3",
   "version": "3.9.7"
  }
 },
 "nbformat": 4,
 "nbformat_minor": 5
}
