{
 "cells": [
  {
   "cell_type": "code",
   "execution_count": 179,
   "id": "intended-practitioner",
   "metadata": {},
   "outputs": [],
   "source": [
    "\n",
    "## Notes on Practical Aspects of Deep Learning (week 2 of course 2 in deep learning specialisation)\n",
    "\n",
    "### The below implements: mini-batch training, Adam Optimiser, learning rate decay\n",
    "\n",
    "\n",
    "## Aiming to predict whether a plant is species setosa or not\n",
    "\n",
    "import numpy as np\n",
    "import pandas as pd\n",
    "import matplotlib.pyplot as plt\n",
    "import random\n",
    "import time"
   ]
  },
  {
   "cell_type": "code",
   "execution_count": 78,
   "id": "alien-debate",
   "metadata": {},
   "outputs": [],
   "source": [
    "# suggests for train set of 5 million, mini batch size of 1000 isnt unreasonable\n",
    "\n",
    "# think minibatch works because full dataset isn't needed to update weights well\n",
    "# so can train faster without sacrificing performance\n",
    "\n",
    "# may also prevent overfitting, not sure\n",
    "\n",
    "# 1 epoch = going through all mini-batch sets, where each train data gets put through gradient descent once\n",
    "\n",
    "# for mini-batch cost decrease over training rounds may not be monotonic. But should trend downwards\n",
    "\n",
    "# stochastic gradient descent = when mini-batch sample size is 1 (lose all your benefits of vectorised compute tho)\n",
    "\n",
    "# can probably figure out optimal mini-batch size which harnesses speed gains from vectors while\n",
    "# not taking too long to process each iteration\n",
    "\n",
    "\n",
    "\n",
    "##### rules of thumb on mini batch size:\n",
    "# if data under 2000 samples, just use whole batch \n",
    "# typical sizes are 64, 128, 256, 512, 1024\n",
    "\n",
    "\n",
    "# can also test different batch sizes by treating it as a hyperparameter to optimise\n"
   ]
  },
  {
   "cell_type": "code",
   "execution_count": 141,
   "id": "appropriate-welcome",
   "metadata": {},
   "outputs": [
    {
     "name": "stdout",
     "output_type": "stream",
     "text": [
      "0.36787944117144233\n"
     ]
    }
   ],
   "source": [
    "# exponentially weighted average = weighted average, with (beta) weight to previous data and \n",
    "# (1-beta) weight to current\n",
    "\n",
    "# for values of beta closer to 1, can take a few iterations before your averages \"warm up\" (ie, are \n",
    "# doing true moving averages based on enough days/iters of past data)\n",
    "# This isnt a problem if using it for gradient descent momentum\n",
    "\n",
    "# in practice, values propagate over about 1 / (1 - Beta) iterations/days/whatever, \n",
    "# to be precise, for something 1 / (1 - Beta) iters in the past, it's weight will be 1/e that of the most recent\n",
    "# (about 37%):\n",
    "print(1/np.exp(1))\n",
    "\n",
    "def exp_weighted_avg_single(current_val, previous_val, beta):\n",
    "    return (beta * previous_val) + (current_val * (1 - beta))\n",
    "\n",
    "def exp_weighted_avg_vector(input_array, beta):\n",
    "    \"\"\"\n",
    "    Seems to only work as expected for some values of beta (values close to 1 should mean less similar to most recent\n",
    "    value)\n",
    "    \"\"\"\n",
    "    \n",
    "    output = [input_array[0]]\n",
    "    for i in range(1, input_array.shape[0]):\n",
    "        \n",
    "        current_val = input_array[i]\n",
    "        previous_val = input_array[i-1]\n",
    "        output.append(exp_weighted_avg_single(current_val, previous_val, beta))\n",
    "        \n",
    "    return output\n",
    "\n",
    "input_random_seq = np.random.randn(20)\n",
    "smooth_random_seq = exp_weighted_avg_vector(input_random_seq, 0.4)"
   ]
  },
  {
   "cell_type": "code",
   "execution_count": 142,
   "id": "starting-rates",
   "metadata": {},
   "outputs": [
    {
     "data": {
      "image/png": "[encoded data removed]",
      "text/plain": [
       "<Figure size 432x288 with 1 Axes>"
      ]
     },
     "metadata": {
      "needs_background": "light"
     },
     "output_type": "display_data"
    }
   ],
   "source": [
    "# exponential smoothing results\n",
    "plt.plot(input_random_seq)\n",
    "plt.plot(smooth_random_seq)\n",
    "plt.show()"
   ]
  },
  {
   "cell_type": "code",
   "execution_count": 143,
   "id": "recognized-handling",
   "metadata": {},
   "outputs": [],
   "source": [
    "### gradient descent with momentum\n",
    "# compute exponential average of the gradient (giving momentum), and use this to update weights\n",
    "# for each layer, take previous dW and dB values, alongside current dW and dB, and put\n",
    "# through exponential smoothing with a given beta value, to decide this it's dW and dB\n",
    "\n",
    "\n",
    "# momentum works with minibatch: do it all the same as usual \n",
    "# if mini-batching with momentum, maybe makes since to have larger batch sizes, as more occuring at \n",
    "# each iteration (not sure)\n",
    "\n",
    "\n",
    "# could imagine a modification allowing the gradient to take larger steps (using some multiplier)\n",
    "# where the difference in momentum between the previous X iters is below a certain threshold,\n",
    "# signalling that it's safe to go faster in that direction\n",
    "\n",
    "\n",
    "# beta is a hyperparam that can be searched for\n",
    "# beta=0.9 is most common\n",
    "\n"
   ]
  },
  {
   "cell_type": "code",
   "execution_count": 148,
   "id": "aboriginal-production",
   "metadata": {},
   "outputs": [],
   "source": [
    "### RMSprop = root mean square prop\n",
    "# aim is speed momentum in some dimensions and slow it in others, to get to global minimum faster\n",
    "# \n",
    "# Process:\n",
    "# get dW and dB in current mini-batch\n",
    "# S_dw = S_dw(previous)  + (1-beta)*d_W^2 \n",
    "# S_db = S_db(previous)  + (1-beta)*d_b^2 \n",
    "\n",
    "# I *think* (not sure) initial S_dw and S_db values can be set to zero, and after <100 iterations\n",
    "# they will be 'burned in' (my term), which is few enough not to affect the NN performance, as it\n",
    "# trains over many more iterations than that\n",
    "\n",
    "# then when updating weights:\n",
    "# w = w  - (lr * dw) / np.sqrt(s_dw + epsilon)   \n",
    "# b = b  - (lr * db) / np.sqrt(s_db + epsilon)\n",
    "# epsilon = small number (maybe 10^-8) to ensure the denominator can't be exactly zero\n",
    "\n",
    "# says the damping effect of RMSprop for undesirable directions can make it safer to use a larger learning rate\n",
    "\n",
    "# learns faster when s_dw is smaller\n",
    "# s_dw is proportional to d_W^2, so learns faster when d_W is smaller\n",
    "# says d_W tends to be smaller when it's the right direction. \n",
    "# Not sure what makes this so: think there's an intuition I'm not getting\n",
    "# \n",
    "\n",
    "\n",
    "# Formulae are similar to momentum \n",
    "\n",
    "\n",
    "\n",
    "# for formulae:\n",
    "# https://www.coursera.org/learn/deep-neural-network/lecture/BhJlm/rmsprop"
   ]
  },
  {
   "cell_type": "code",
   "execution_count": 149,
   "id": "expected-blame",
   "metadata": {},
   "outputs": [],
   "source": [
    "#### Adam optimisation combines momentum and RMSProp\n",
    "## says Adam is a rare optimisation algo that tends to work well across NN architectures\n",
    "\n",
    "# initialise values to zero (course tells you to do this, so assume it's acceptable):\n",
    "# v_dw = 0\n",
    "# s_dw = 0\n",
    "# v_db = 0\n",
    "# s_db = 0\n",
    "\n",
    "# two beta params: beta and beta2\n",
    "\n",
    "### on a given iteration:\n",
    "# v_dw = beta * v_dw[previous] + (1-beta) * dw    # same formula as momentum\n",
    "# v_db = beta * v_db[previous] + (1-beta) * db\n",
    "\n",
    "# s_dw = beta2 * d_dw[previous] + (1-beta2) * dw^2   # same formula as RMSprop\n",
    "# s_db = beta2 * d_db[previous] + (1-beta2) * db^2\n",
    "\n",
    " # 'bias correcting' v_dw and others, where t = total iterations so far\n",
    "# v_dw = v_dw / (1 - beta^t)  \n",
    "# v_db = v_db / (1 - beta^t)  \n",
    "# s_dw = s_dw / (1 - beta2^t)\n",
    "# s_db = s_db / (1 - beta2^t)\n",
    "\n",
    "# applying to weights\n",
    "#w = w - (lr * v_dw) / np.sqrt(s_dw * epsilon)\n",
    "#b = b - (lr * v_db) / np.sqrt(s_db * epsilon)\n",
    "\n",
    "\n",
    "\n",
    "### hyperparams to choose:\n",
    "# learning rate = no clear default\n",
    "# beta = 0.9 default value\n",
    "# beta2 = 0.999 default value\n",
    "# epsilon. 10^8 is generally fine - people tend not to search for it\n",
    "# \n",
    "\n"
   ]
  },
  {
   "cell_type": "code",
   "execution_count": 230,
   "id": "ecological-youth",
   "metadata": {},
   "outputs": [
    {
     "data": {
      "image/png": "[encoded data removed]",
      "text/plain": [
       "<Figure size 432x288 with 1 Axes>"
      ]
     },
     "metadata": {
      "needs_background": "light"
     },
     "output_type": "display_data"
    }
   ],
   "source": [
    "# learning rate decay = decreasing learning rate as iterations progress\n",
    "# \n",
    "\n",
    "def learning_rate_decay(lr_init, decay_rate, epoch_number):\n",
    "    return lr_init / (1 + decay_rate * epoch_number)\n",
    "\n",
    "\n",
    "def exponential_learning_rate_decay(lr_init, epoch_number):\n",
    "    \"\"\"Another method of decaying the learning rate\n",
    "    Less flexible\"\"\"\n",
    "    return np.power(0.95, epoch_number) * lr_init\n",
    "\n",
    "\n",
    "plt.plot(learning_rate_decay(1, 0.01, np.arange(1, 100, 1)))\n",
    "plt.plot(exponential_learning_rate_decay(1, np.arange(1, 100, 1)))\n",
    "plt.legend(['LR decay', 'Exponential LR decay'], loc='upper right')\n",
    "plt.show()\n",
    "\n"
   ]
  },
  {
   "cell_type": "code",
   "execution_count": 164,
   "id": "raising-patrol",
   "metadata": {},
   "outputs": [],
   "source": [
    "## some regularisation components you can add\n",
    "# lambda becomes another hyperparameter to tune in your model\n",
    "\n",
    "\n",
    "def l2_regularisation(lambda_val, m, w):\n",
    "    \"\"\"aka 'L2 norm' or 'Euclidean norm' or 'weight decay' (as causes weights to get smaller)\n",
    "    \n",
    "    Much more popular than L1 regularisation\n",
    "    \"\"\"\n",
    "    return lambda_val * np.power(np.sum(w), 2) / (m * 2)\n",
    "\n",
    "## (if using L-2 regularisation update cost function too)\n",
    "\n",
    "\n",
    "\n",
    "\n",
    "### this bit by itself is called the Frobenius Norm:\n",
    "# np.power(np.sum(w), 2)\n",
    "\n",
    "\n",
    "def l1_regularisation(lambda_val, m, w):\n",
    "    \"\"\" aka L1 norm\"\"\"\n",
    "    return (lambda_val * np.sum(np.absolute(w))) / m\n",
    "\n",
    "\n",
    "\n",
    "\n",
    "## to include l2_regularisation during backpropagation we add a term:\n",
    "# dW[L] = (what it would be normally) + (lambda / m)*W[L]   \n",
    "## where new term is the derivative of l2_regularisation func with respect to W\n",
    "\n",
    "\n"
   ]
  },
  {
   "cell_type": "code",
   "execution_count": null,
   "id": "impaired-coalition",
   "metadata": {},
   "outputs": [],
   "source": []
  },
  {
   "cell_type": "code",
   "execution_count": null,
   "id": "considered-sequence",
   "metadata": {},
   "outputs": [],
   "source": []
  },
  {
   "cell_type": "code",
   "execution_count": 42,
   "id": "affected-festival",
   "metadata": {},
   "outputs": [
    {
     "data": {
      "text/plain": [
       "array([-0.04002973, -1.43711267,  0.27778187, -0.62621999, -0.36223335,\n",
       "       -0.72489854])"
      ]
     },
     "execution_count": 42,
     "metadata": {},
     "output_type": "execute_result"
    }
   ],
   "source": []
  },
  {
   "cell_type": "code",
   "execution_count": null,
   "id": "premium-location",
   "metadata": {},
   "outputs": [],
   "source": []
  },
  {
   "cell_type": "code",
   "execution_count": null,
   "id": "editorial-humanitarian",
   "metadata": {},
   "outputs": [],
   "source": []
  },
  {
   "cell_type": "code",
   "execution_count": null,
   "id": "possible-reach",
   "metadata": {},
   "outputs": [],
   "source": []
  },
  {
   "cell_type": "code",
   "execution_count": null,
   "id": "expected-profit",
   "metadata": {},
   "outputs": [],
   "source": []
  },
  {
   "cell_type": "code",
   "execution_count": null,
   "id": "approximate-affairs",
   "metadata": {},
   "outputs": [],
   "source": []
  },
  {
   "cell_type": "code",
   "execution_count": 165,
   "id": "female-greeting",
   "metadata": {},
   "outputs": [],
   "source": [
    "### Activation functions:\n",
    "# denote generic activation function as g(x)\n",
    "\n",
    "# sigmoid\n",
    "def sigmoid(x):\n",
    "    return 1 / (1 + np.exp(-x))\n",
    "\n",
    "def sigmoid_derivative(sigmoid_output):\n",
    "    return sigmoid_output * (1- sigmoid_output)   # * = element-wise mult; @ = matrix mult\n",
    "\n",
    "\n",
    "# ReLu: better for larger values as the gradient doesn't become close to 0, which it does for tanh and sigmoid\n",
    "# ReLu trains faster because of this \n",
    "def relu(x):\n",
    "    return np.where(x >= 0, x, 0)\n",
    "\n",
    "def relu_derivative(x):       \n",
    "    \"\"\"note x is the original input to relu, not the output from relu, unlike other\n",
    "    derivatives of activation functions\"\"\"\n",
    "    return np.where(x >= 0, 1, 0)\n",
    "\n",
    "\n"
   ]
  },
  {
   "cell_type": "code",
   "execution_count": null,
   "id": "wooden-mustang",
   "metadata": {},
   "outputs": [],
   "source": []
  },
  {
   "cell_type": "code",
   "execution_count": 28,
   "id": "amazing-vault",
   "metadata": {},
   "outputs": [],
   "source": []
  },
  {
   "cell_type": "code",
   "execution_count": null,
   "id": "short-front",
   "metadata": {},
   "outputs": [],
   "source": []
  },
  {
   "cell_type": "code",
   "execution_count": 166,
   "id": "social-trash",
   "metadata": {},
   "outputs": [
    {
     "name": "stdout",
     "output_type": "stream",
     "text": [
      "150 5\n",
      "(150, 5)\n"
     ]
    },
    {
     "data": {
      "image/png": "[encoded data removed]",
      "text/plain": [
       "<Figure size 432x288 with 1 Axes>"
      ]
     },
     "metadata": {
      "needs_background": "light"
     },
     "output_type": "display_data"
    }
   ],
   "source": [
    "# load data\n",
    "data = pd.read_csv('https://gist.githubusercontent.com/curran/a08a1080b88344b0c8a7/raw/0e7a9b0a5d22642a06d3d5b9bcbad9890c8ee534/iris.csv')\n",
    "data = data.to_numpy()\n",
    "\n",
    "\n",
    "# unique, counts = np.unique(data[:, 4], return_counts=True)\n",
    "setosa_idx = data[:, 4] == 'setosa'  # simplify species column to binary\n",
    "data[:, 4] = 1   # not setosa\n",
    "data[setosa_idx, 4] = 0   # setosa\n",
    "\n",
    "\n",
    "idx = np.random.rand(*data.shape).argsort(axis=0) # randomising order for test/train split\n",
    "data = np.take_along_axis(data,idx,axis=0)\n",
    "\n",
    "\n",
    "# normalise first 4 columns\n",
    "for i in range(4): \n",
    "    norms_each_column = np.linalg.norm(data[:, i], axis = 0)\n",
    "    data[:, i] = data[:, i] / norms_each_column\n",
    "\n",
    "    \n",
    "    \n",
    "print(*data.shape)  # return values outside tuple\n",
    "print(data.shape)\n",
    "\n",
    "\n",
    "# distribution of values for each column shows they are operating on the same scale with similar distributions\n",
    "plt.hist(data[:, 0], alpha = 0.2)\n",
    "plt.hist(data[:, 1], alpha = 0.2)\n",
    "plt.hist(data[:, 2], alpha = 0.2)\n",
    "plt.hist(data[:, 3], alpha = 0.2)\n",
    "plt.show()"
   ]
  },
  {
   "cell_type": "code",
   "execution_count": 167,
   "id": "temporal-organizer",
   "metadata": {},
   "outputs": [
    {
     "name": "stdout",
     "output_type": "stream",
     "text": [
      "(4, 120)\n",
      "(1, 120)\n"
     ]
    }
   ],
   "source": [
    "train_input = data[:120, :4].T   # transpose to row for each feature and column for each value: faster calcs\n",
    "train_labs = data[:120, 4:].T\n",
    "\n",
    "test_input = data[120:, :4].T\n",
    "test_labs = data[120:, 4:].T\n",
    "\n",
    "print(train_input.shape)\n",
    "print(train_labs.shape)"
   ]
  },
  {
   "cell_type": "code",
   "execution_count": null,
   "id": "valuable-aircraft",
   "metadata": {},
   "outputs": [],
   "source": []
  },
  {
   "cell_type": "code",
   "execution_count": 291,
   "id": "electric-hawaiian",
   "metadata": {},
   "outputs": [],
   "source": [
    "def feedforward_relu_layer(X, W, B):\n",
    "    \"\"\"\n",
    "    X = input data \n",
    "    W = input weights\n",
    "    B = input bias\n",
    "    \n",
    "    Exports Z as it's needed for backpropagation\n",
    "    \"\"\"\n",
    "    Z = np.dot(W, X) + B\n",
    "    return relu(Z), Z  # returns 2 n * m arrays  (n = number of neurons)\n",
    "\n",
    "\n",
    "def backpropagate_relu_layer(X, Z, dZ_nextLayer, W_nextLayer):\n",
    "    \"\"\"\n",
    "    X = input at start of the layer (from input layer or previous hidden layer)\n",
    "    Z = values after X been through linear calculation (yx + b)\n",
    "    dZ_nextLayer = dZ from layer next-closest to output layer\n",
    "    W_nextLayer = W from layer next-closest to output layer\n",
    "    \"\"\"\n",
    "    m = X.shape[1]                                 # total input data in training set\n",
    "    dZ_thisLayer = (W_nextLayer.T @ dZ_nextLayer) * relu_derivative(Z)  \n",
    "    dW_this_layer = (1/m) * (dZ_thisLayer @ X.T)\n",
    "    dB_this_layer = (1/m) * np.sum(dZ_thisLayer, axis=1, keepdims=True)\n",
    "    return dZ_thisLayer, dW_this_layer, dB_this_layer"
   ]
  },
  {
   "cell_type": "code",
   "execution_count": 169,
   "id": "virtual-acoustic",
   "metadata": {},
   "outputs": [],
   "source": [
    "def cost_function(y, y_hat):   \n",
    "    \"\"\"Logistic regression cost function\n",
    "    y = actual\n",
    "    y_hat = predicted\n",
    "    \"\"\"\n",
    "    m = y.shape[1]  # total predictions made\n",
    "    lhs = np.dot(y, np.log(y_hat).T) # returns 1x1 array\n",
    "    rhs = np.dot((1 - y), np.log(1 - y_hat).T)\n",
    "    total_loss = np.sum(lhs + rhs)\n",
    "    return -total_loss / m"
   ]
  },
  {
   "cell_type": "code",
   "execution_count": 324,
   "id": "upset-aging",
   "metadata": {},
   "outputs": [],
   "source": [
    "def update_adam_parameters(v_dw, v_db, s_dw, s_db, dW, dB, beta1, beta2):\n",
    "    v_dw_new = beta1 * v_dw + (1-beta1) * dW    # same formula as momentum\n",
    "    v_db_new = beta1 * v_db + (1-beta1) * dB\n",
    "    s_dw_new = beta2 * s_dw + (1-beta2) * np.power(dW, 2)   # same formula as RMSprop\n",
    "    s_db_new = beta2 * s_db + (1-beta2) * np.power(dB, 2)\n",
    "        \n",
    "    v_dw_new = v_dw_new.astype(float)\n",
    "    v_db_new = v_db_new.astype(float)\n",
    "    s_dw_new = s_dw_new.astype(float)\n",
    "    s_db_new = s_db_new.astype(float)\n",
    "    return v_dw_new, v_db_new, s_dw_new, s_db_new"
   ]
  },
  {
   "cell_type": "code",
   "execution_count": 284,
   "id": "deluxe-acoustic",
   "metadata": {},
   "outputs": [
    {
     "data": {
      "text/plain": [
       "numpy.ndarray"
      ]
     },
     "execution_count": 284,
     "metadata": {},
     "output_type": "execute_result"
    }
   ],
   "source": [
    "x = np.random.randn(4, 4) + 2\n",
    "np.sqrt(x)\n",
    "type(x)"
   ]
  },
  {
   "cell_type": "code",
   "execution_count": 319,
   "id": "permanent-wayne",
   "metadata": {},
   "outputs": [],
   "source": [
    "def gradient_descent(X, Y, n_layer, lr_init, iterations, decay_rate, beta1=0.9, beta2=0.999):\n",
    "    \"\"\"\n",
    "    Trains parameters for NN with 3 hidden layers, and output layer with sigmoid activation\n",
    "    \n",
    "    X = input table (n * m)\n",
    "    Y = labels    (1 * m)\n",
    "    lr = Learning rate: how much weights change on each iteration\n",
    "   \"\"\"\n",
    "    \n",
    "    loss_store = np.zeros(iterations)  # to store loss on each iteration\n",
    "    \n",
    "    epsilon = 10**-8  # used in Adam optimiser\n",
    "    \n",
    "    \n",
    "    # set dimension values used \n",
    "    n_0 = X.shape[0]   # total features \n",
    "    n_1 = n_layer         # number of neurons in hidden layer\n",
    "    n_2 = 1         # output units: think it's 1 as only one layer. Could be 2 if linked to binary outcome somehow\n",
    "    \n",
    "\n",
    "    m = X.shape[1]   # size of input data\n",
    "    \n",
    "    # initialise weights             \n",
    "    W_1_1 = np.random.randn(n_1, n_0) * np.sqrt(2 / n_0)  # notice weights in first layer have different dims\n",
    "    W_1_2 = np.random.randn(n_1, n_1) * np.sqrt(2 / n_1) \n",
    "    W_1_3 = np.random.randn(n_1, n_1) * np.sqrt(2 / n_1) \n",
    "    B_1_1 = np.random.randn(n_1, 1) * np.sqrt(2 / n_1) \n",
    "    B_1_2 = np.random.randn(n_1, 1) * np.sqrt(2 / n_1) \n",
    "    B_1_3 = np.random.randn(n_1, 1) * np.sqrt(2 / n_1) \n",
    "    \n",
    "    W_2 = np.random.randn(n_2, n_1) * np.sqrt(2 / n_1) \n",
    "    B_2 = np.random.randn(n_2, 1) * np.sqrt(2 / n_1) \n",
    "\n",
    "    \n",
    "    # group training data for mini-batch\n",
    "    mini_batch_groups = np.split(X, 6, axis = 1)\n",
    "    mini_batch_group_labels = np.split(Y, 6, axis = 1)\n",
    "    \n",
    "    \n",
    "    # initialise values for Adam optimiser\n",
    "    v_dw_1_1 = 0.0\n",
    "    s_dw_1_1 = 0.0\n",
    "    v_db_1_1 = 0.0\n",
    "    s_db_1_1 = 0.0\n",
    "    \n",
    "    v_dw_1_2 = 0.0\n",
    "    s_dw_1_2 = 0.0\n",
    "    v_db_1_2 = 0.0\n",
    "    s_db_1_2 = 0.0\n",
    "    \n",
    "    v_dw_1_3 = 0.0\n",
    "    s_dw_1_3 = 0.0\n",
    "    v_db_1_3 = 0.0\n",
    "    s_db_1_3 = 0.0\n",
    "    \n",
    "    v_dw_2 = 0.0\n",
    "    s_dw_2 = 0.0\n",
    "    v_db_2 = 0.0\n",
    "    s_db_2 = 0.0\n",
    "\n",
    "\n",
    "    \n",
    "    #### starting gradient descent loop\n",
    "    start_time = time.time()\n",
    "    epoch_number = 1\n",
    "    for i in range(iterations):\n",
    "        \n",
    "        \n",
    "        # selecting mini batch data for this iter\n",
    "        group_selected = np.mod(i, 6)\n",
    "        X = mini_batch_groups[group_selected]\n",
    "        Y = mini_batch_group_labels[group_selected]\n",
    "        if group_selected == 0:\n",
    "            epoch_number += 1\n",
    "            #print('end of epoch ' + str(i / 6))\n",
    "        \n",
    "        \n",
    "        \n",
    "        # hidden layer: compute linear transformation of inputs\n",
    "        A_1_1, Z_1_1 = feedforward_relu_layer(X, W_1_1, B_1_1)\n",
    "        A_1_2, Z_1_2 = feedforward_relu_layer(A_1_1, W_1_2, B_1_2)\n",
    "        A_1_3, Z_1_3 = feedforward_relu_layer(A_1_2, W_1_3, B_1_3)\n",
    "\n",
    "\n",
    "        # output layer: linear transformation and activation func\n",
    "        Z_2 = np.dot(W_2, A_1_3) + B_2\n",
    "        Z_2 = Z_2.astype(np.float) # ensure is float; needed for sigmoid() to work\n",
    "        A_2 = sigmoid(Z_2)\n",
    "\n",
    "        \n",
    "        # store cost\n",
    "        loss_store[i] = cost_function(Y, A_2)\n",
    "\n",
    "\n",
    "        # output layer: get derivatives\n",
    "        dZ_2 = A_2 - Y                           \n",
    "        dW_2 = (1/m) * (dZ_2 @ A_1_3.T)\n",
    "        dB_2 = (1/m) * np.sum(dZ_2, axis=1, keepdims=True)  # sums horizontally\n",
    "\n",
    "\n",
    "        # hidden layers: get derivatives \n",
    "        dZ_1_3, dW_1_3, dB_1_3 = backpropagate_relu_layer(A_1_2, Z_1_3, dZ_2, W_2)\n",
    "        dZ_1_2, dW_1_2, dB_1_2 = backpropagate_relu_layer(A_1_1, Z_1_2, dZ_1_3, W_1_3)\n",
    "        dZ_1_1, dW_1_1, dB_1_1 = backpropagate_relu_layer(X, Z_1_1, dZ_1_2, W_1_2)\n",
    "\n",
    "        \n",
    "        # calculate decaying learning rate\n",
    "        lr = learning_rate_decay(lr_init, decay_rate, epoch_number)\n",
    "        \n",
    "        \n",
    "        # Updating Adam opimiser parameters\n",
    "        v_dw_1_1,v_db_1_1,s_dw_1_1, s_db_1_1 = update_adam_parameters(v_dw_1_1, v_db_1_1, s_dw_1_1, s_db_1_1, dW_1_1, dB_1_1, beta1, beta2)\n",
    "        v_dw_1_2,v_db_1_2,s_dw_1_2, s_db_1_2 = update_adam_parameters(v_dw_1_2, v_db_1_2, s_dw_1_2, s_db_1_2, dW_1_2, dB_1_2, beta1, beta2)\n",
    "        v_dw_1_3,v_db_1_3,s_dw_1_3, s_db_1_3 = update_adam_parameters(v_dw_1_3, v_db_1_3, s_dw_1_3, s_db_1_3, dW_1_3, dB_1_3, beta1, beta2)\n",
    "        v_dw_2,v_db_2,s_dw_2, s_db_2 = update_adam_parameters(v_dw_2, v_db_2, s_dw_2, s_db_2, dW_2, dB_2, beta1, beta2)\n",
    "\n",
    "                                                                \n",
    "         # leaving out 'bias correcting' v_dw and others, where t = total iterations so far\n",
    "        # v_dw = v_dw / (1 - beta^t)  \n",
    "        # v_db = v_db / (1 - beta^t)  \n",
    "        # s_dw = s_dw / (1 - beta2^t)\n",
    "        # s_db = s_db / (1 - beta2^t)\n",
    "\n",
    "        \n",
    "\n",
    "        # update weights\n",
    "        \"\"\"\n",
    "        print('s_dw_1_1: ' + str(s_dw_1_1))\n",
    "        print('epsilon: ' + str(epsilon))\n",
    "        print('epsilon: ' + str(epsilon + s_dw_1_1))\n",
    "        print('np.sqrt(s_dw_1_1 + epsilon)')\n",
    "        print(type(s_dw_1_1))\n",
    "        print((s_dw_1_1.shape))\n",
    "        \"\"\"\n",
    "        \"\"\"\n",
    "        print('B_1_1 dim earlier: ' + str(B_1_1.shape))\n",
    "        print('v_db_1_1 dim earlier: ' + str(v_db_1_1.shape))\n",
    "        print('s_db_1_1 dim earlier: ' + str(s_db_1_1.shape))\n",
    "        \"\"\"\n",
    "        \n",
    "        W_1_1 = W_1_1 - (lr * v_dw_1_1) / np.sqrt(s_dw_1_1 + epsilon)\n",
    "        B_1_1 = B_1_1 - (lr * v_db_1_1) / np.sqrt(s_db_1_1 + epsilon)\n",
    "        \n",
    "        W_1_2 = W_1_2 - (lr * v_dw_1_2) / np.sqrt(s_dw_1_2 + epsilon)\n",
    "        B_1_2 = B_1_2 - (lr * v_db_1_2) / np.sqrt(s_db_1_2 + epsilon)\n",
    "        \n",
    "        W_1_3 = W_1_3 - (lr * v_dw_1_3) / np.sqrt(s_dw_1_3 + epsilon)\n",
    "        B_1_3 = B_1_3 - (lr * v_db_1_3) / np.sqrt(s_db_1_3 + epsilon)\n",
    "        \n",
    "        W_2 = W_2 - (lr * v_dw_2) / np.sqrt(s_dw_2 + epsilon)\n",
    "        B_2 = B_2 - (lr * v_db_2) / np.sqrt(s_db_2 + epsilon)\n",
    "                \n",
    "        if (np.mod(i, 1000) == 0):\n",
    "            print('iteration done: ' + str(i))\n",
    "\n",
    "            \"\"\"\n",
    "        W_1_1 = W_1_1 - lr * dW_1_1\n",
    "        W_1_2 = W_1_2 - lr * dW_1_2\n",
    "        W_1_3 = W_1_3 - lr * dW_1_3\n",
    "        B_1_1 = B_1_1 - lr * dB_1_1\n",
    "        B_1_2 = B_1_2 - lr * dB_1_2\n",
    "        B_1_3 = B_1_3 - lr * dB_1_3\n",
    "        W_2 = W_2 - lr * dW_2\n",
    "        B_2 = B_2 - lr * dB_2\n",
    "        \"\"\"\n",
    "        \n",
    "    \n",
    "    avg_iter_time = (time.time() - start_time) / iterations\n",
    "\n",
    "    return W_1_1, W_1_2, W_1_3, B_1_1,B_1_2, B_1_3, W_2, B_2, loss_store, avg_iter_time\n",
    "\n",
    "    \n"
   ]
  },
  {
   "cell_type": "code",
   "execution_count": 334,
   "id": "postal-creature",
   "metadata": {},
   "outputs": [
    {
     "name": "stdout",
     "output_type": "stream",
     "text": [
      "iteration done: 0\n",
      "iteration done: 1000\n",
      "iteration done: 2000\n",
      "iteration done: 3000\n",
      "iteration done: 4000\n",
      "iteration done: 5000\n",
      "iteration done: 6000\n",
      "avg_iter_time: 0.0019890242985316684\n"
     ]
    }
   ],
   "source": [
    "## training model weights. n_layer represents the number of nodes in each layer\n",
    "W_1_1, W_1_2, W_1_3, B_1_1,B_1_2, B_1_3, W_2, B_2, loss_store, avg_iter_time = gradient_descent(train_input, \n",
    "                                                                                                train_labs, \n",
    "                                                                                                n_layer = 10, \n",
    "                                                                                                lr_init = 0.04, \n",
    "                                                                                                iterations = 7000, \n",
    "                                                                                                decay_rate = 0.02)\n",
    "print('avg_iter_time: ' + str(avg_iter_time))\n",
    "# avg_iter_time of 0.005 seconds on full batch\n",
    "# avg_iter_time of 0.0012 - 0.0019 seconds on 1/6 minibatch\n",
    "# avg_iter_time of 0.00165 - 0.0032 on minibatch with Adam optimisation"
   ]
  },
  {
   "cell_type": "code",
   "execution_count": 335,
   "id": "continuing-election",
   "metadata": {},
   "outputs": [
    {
     "data": {
      "text/plain": [
       "[<matplotlib.lines.Line2D at 0x13d01cd00>]"
      ]
     },
     "execution_count": 335,
     "metadata": {},
     "output_type": "execute_result"
    },
    {
     "data": {
      "image/png": "[encoded data removed]",
      "text/plain": [
       "<Figure size 432x288 with 1 Axes>"
      ]
     },
     "metadata": {
      "needs_background": "light"
     },
     "output_type": "display_data"
    }
   ],
   "source": [
    "# viewing trend in loss: dropout stops it being monotonic if the cost function is applied without the dropout process\n",
    "plt.plot(loss_store)\n",
    "\n",
    "# looks like it would benefit from a decreasing learning rate"
   ]
  },
  {
   "cell_type": "code",
   "execution_count": 336,
   "id": "square-sentence",
   "metadata": {},
   "outputs": [],
   "source": [
    "# applying to test set (Z matrices are created but not used)\n",
    "A_1_1, Z_1_1 = feedforward_relu_layer(test_input, W_1_1, B_1_1)\n",
    "A_1_2, Z_1_2 = feedforward_relu_layer(A_1_1, W_1_2, B_1_2)\n",
    "A_1_3, Z_1_3 = feedforward_relu_layer(A_1_2, W_1_3, B_1_3)\n",
    "Z_2 = np.dot(W_2, A_1_3) + B_2\n",
    "Z_2 = Z_2.astype(np.float) # ensure is float; needed for sigmoid() to work\n",
    "predictions = sigmoid(Z_2)"
   ]
  },
  {
   "cell_type": "code",
   "execution_count": 337,
   "id": "included-emission",
   "metadata": {
    "scrolled": true
   },
   "outputs": [
    {
     "data": {
      "text/plain": [
       "<matplotlib.collections.PathCollection at 0x13d0fc670>"
      ]
     },
     "execution_count": 337,
     "metadata": {},
     "output_type": "execute_result"
    },
    {
     "data": {
      "image/png": "[encoded data removed]",
      "text/plain": [
       "<Figure size 432x288 with 1 Axes>"
      ]
     },
     "metadata": {
      "needs_background": "light"
     },
     "output_type": "display_data"
    }
   ],
   "source": [
    "# evaluating accuracy on test set: predictions seem to converge on a single value (overfit) when Adam used\n",
    "plt.scatter(predictions, test_labs)"
   ]
  },
  {
   "cell_type": "code",
   "execution_count": 338,
   "id": "later-assistant",
   "metadata": {},
   "outputs": [
    {
     "data": {
      "text/plain": [
       "array([[0.6833206, 0.6833206, 0.6833206, 0.6833206, 0.6833206, 0.6833206,\n",
       "        0.6833206, 0.6833206, 0.6833206, 0.6833206, 0.6833206, 0.6833206,\n",
       "        0.6833206, 0.6833206, 0.6833206, 0.6833206, 0.6833206, 0.6833206,\n",
       "        0.6833206, 0.6833206, 0.6833206, 0.6833206, 0.6833206, 0.6833206,\n",
       "        0.6833206, 0.6833206, 0.6833206, 0.6833206, 0.6833206, 0.6833206]])"
      ]
     },
     "execution_count": 338,
     "metadata": {},
     "output_type": "execute_result"
    }
   ],
   "source": [
    "predictions     "
   ]
  },
  {
   "cell_type": "code",
   "execution_count": null,
   "id": "spiritual-fellowship",
   "metadata": {},
   "outputs": [],
   "source": []
  }
 ],
 "metadata": {
  "kernelspec": {
   "display_name": "Python 3",
   "language": "python",
   "name": "python3"
  },
  "language_info": {
   "codemirror_mode": {
    "name": "ipython",
    "version": 3
   },
   "file_extension": ".py",
   "mimetype": "text/x-python",
   "name": "python",
   "nbconvert_exporter": "python",
   "pygments_lexer": "ipython3",
   "version": "3.9.1"
  }
 },
 "nbformat": 4,
 "nbformat_minor": 5
}
