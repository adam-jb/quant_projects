{
 "cells": [
  {
   "cell_type": "markdown",
   "id": "accurate-pickup",
   "metadata": {},
   "source": [
    "\n",
    "From this talk: https://www.youtube.com/watch?v=7lmCu8wz8ro&ab_channel=CodingTech\n",
    "\n",
    "\n"
   ]
  },
  {
   "cell_type": "code",
   "execution_count": 4,
   "id": "harmful-intranet",
   "metadata": {},
   "outputs": [
    {
     "data": {
      "text/plain": [
       "<__main__.Polynomial at 0x104ed7af0>"
      ]
     },
     "execution_count": 4,
     "metadata": {},
     "output_type": "execute_result"
    }
   ],
   "source": [
    "class Polynomial:\n",
    "    pass\n",
    "\n",
    "p1 = Polynomial()\n",
    "p1.coeffs = [1, 2, 3]\n",
    "p1"
   ]
  },
  {
   "cell_type": "code",
   "execution_count": 6,
   "id": "formed-matrix",
   "metadata": {},
   "outputs": [
    {
     "data": {
      "text/plain": [
       "(1, 2, 3)"
      ]
     },
     "execution_count": 6,
     "metadata": {},
     "output_type": "execute_result"
    }
   ],
   "source": [
    "class Polynomial:\n",
    "    def __init__(self, *coeffs):\n",
    "        self.coeffs = coeffs\n",
    "        \n",
    "p1 = Polynomial(1, 2, 3)\n",
    "p1.coeffs"
   ]
  },
  {
   "cell_type": "code",
   "execution_count": 13,
   "id": "prepared-bidder",
   "metadata": {},
   "outputs": [
    {
     "name": "stdout",
     "output_type": "stream",
     "text": [
      "Polynomial of (1, 2, 3)\n"
     ]
    }
   ],
   "source": [
    "class Polynomial:\n",
    "    def __init__(self, *coeffs):\n",
    "        self.coeffs = coeffs\n",
    "        \n",
    "    def __repr__(self):\n",
    "        #return 'Polynomial of {!r}'.format(self.coeffs)\n",
    "        return f\"Polynomial of {self.coeffs}\"             # this and line above return same thing\n",
    "        \n",
    "p1 = Polynomial(1, 2, 3)\n",
    "print(p1)"
   ]
  },
  {
   "cell_type": "code",
   "execution_count": 34,
   "id": "tribal-swing",
   "metadata": {},
   "outputs": [
    {
     "data": {
      "text/plain": [
       "Polynomial of (2, 4, 41)"
      ]
     },
     "execution_count": 34,
     "metadata": {},
     "output_type": "execute_result"
    }
   ],
   "source": [
    "class Polynomial:\n",
    "    \n",
    "    def __init__(self, *coeffs):\n",
    "        self.coeffs = coeffs\n",
    "        \n",
    "    def __repr__(self):\n",
    "        return f\"Polynomial of {self.coeffs}\"             # this and line above return same thing\n",
    "    \n",
    "    def __add__(self, other):\n",
    "        return Polynomial(*(x+y for x,y in zip(self.coeffs, other.coeffs)))  # to use '+'\n",
    "    \n",
    "    def timestwo(self):\n",
    "        return list(x*2 for x in self.coeffs)\n",
    "    \n",
    "p1 = Polynomial(1, 2, 3)\n",
    "p2 = Polynomial(1, 2, 38)\n",
    "p1 + p2"
   ]
  },
  {
   "cell_type": "code",
   "execution_count": 17,
   "id": "played-turning",
   "metadata": {},
   "outputs": [
    {
     "data": {
      "text/plain": [
       "[2, 4, 6]"
      ]
     },
     "execution_count": 17,
     "metadata": {},
     "output_type": "execute_result"
    }
   ],
   "source": [
    "list(x+y for x,y in zip(p1.coeffs, p1.coeffs))\n"
   ]
  },
  {
   "cell_type": "code",
   "execution_count": 35,
   "id": "hispanic-access",
   "metadata": {},
   "outputs": [
    {
     "data": {
      "text/plain": [
       "[2, 4, 6]"
      ]
     },
     "execution_count": 35,
     "metadata": {},
     "output_type": "execute_result"
    }
   ],
   "source": [
    "p1.timestwo()"
   ]
  },
  {
   "cell_type": "markdown",
   "id": "uniform-paris",
   "metadata": {},
   "source": [
    "Dunder methods = Data Model methods (docs with all __functions__ here: https://docs.python.org/3/reference/datamodel.html)\n",
    "\n",
    "\n",
    "__call__: func run with obj()\n",
    "\n",
    "__len__: len(obj)\n",
    "\n",
    "\n"
   ]
  },
  {
   "cell_type": "markdown",
   "id": "excessive-implement",
   "metadata": {},
   "source": []
  },
  {
   "cell_type": "code",
   "execution_count": 38,
   "id": "spare-northern",
   "metadata": {},
   "outputs": [],
   "source": [
    "# check obj has a certain method. Useful if inheriting class from a library and need that method\n",
    "assert hasattr(Polynomial, 'timestwo'), 'error! timestwo isnt there'"
   ]
  },
  {
   "cell_type": "code",
   "execution_count": 39,
   "id": "wired-portsmouth",
   "metadata": {},
   "outputs": [
    {
     "ename": "AssertionError",
     "evalue": "error! timesthree isnt there",
     "output_type": "error",
     "traceback": [
      "\u001b[0;31m---------------------------------------------------------------------------\u001b[0m",
      "\u001b[0;31mAssertionError\u001b[0m                            Traceback (most recent call last)",
      "\u001b[0;32m<ipython-input-39-5eb291123d71>\u001b[0m in \u001b[0;36m<module>\u001b[0;34m\u001b[0m\n\u001b[0;32m----> 1\u001b[0;31m \u001b[0;32massert\u001b[0m \u001b[0mhasattr\u001b[0m\u001b[0;34m(\u001b[0m\u001b[0mPolynomial\u001b[0m\u001b[0;34m,\u001b[0m \u001b[0;34m'timesthree'\u001b[0m\u001b[0;34m)\u001b[0m\u001b[0;34m,\u001b[0m \u001b[0;34m'error! timesthree isnt there'\u001b[0m\u001b[0;34m\u001b[0m\u001b[0;34m\u001b[0m\u001b[0m\n\u001b[0m",
      "\u001b[0;31mAssertionError\u001b[0m: error! timesthree isnt there"
     ]
    }
   ],
   "source": [
    "assert hasattr(Polynomial, 'timesthree'), 'error! timesthree isnt there'"
   ]
  },
  {
   "cell_type": "code",
   "execution_count": 43,
   "id": "medieval-momentum",
   "metadata": {},
   "outputs": [
    {
     "name": "stdout",
     "output_type": "stream",
     "text": [
      "  3           0 LOAD_CONST               0 (None)\n",
      "              2 RETURN_VALUE\n"
     ]
    }
   ],
   "source": [
    "from dis import dis\n",
    "def h():\n",
    "    pass\n",
    "\n",
    "dis(h)   # disassemble compilation stages\n"
   ]
  },
  {
   "cell_type": "markdown",
   "id": "earned-monthly",
   "metadata": {},
   "source": [
    "Metaclasses are to classes as classes are to objects. They are classes for classes. This is different to inheritance\n",
    "\n",
    "super() alone returns a temporary object of the superclass that then allows you to call that superclass’s methods\n",
    "\n",
    "\n"
   ]
  },
  {
   "cell_type": "code",
   "execution_count": 54,
   "id": "fatal-annotation",
   "metadata": {},
   "outputs": [
    {
     "name": "stdout",
     "output_type": "stream",
     "text": [
      "This is \"Meta\" metaclass\n"
     ]
    },
    {
     "data": {
      "text/plain": [
       "'Worked!!!'"
      ]
     },
     "execution_count": 54,
     "metadata": {},
     "output_type": "execute_result"
    }
   ],
   "source": [
    "class Meta(type):\n",
    "    test = 'Worked!!!'\n",
    "    def __repr__(self):\n",
    "        return 'This is \"Meta\" metaclass'\n",
    "    \n",
    "class ObjectWithMetaClass(metaclass=Meta):\n",
    "    pass\n",
    "\n",
    "print(type(ObjectWithMetaClass()))\n",
    "ObjectWithMetaClass.test"
   ]
  },
  {
   "cell_type": "code",
   "execution_count": 57,
   "id": "powered-baghdad",
   "metadata": {},
   "outputs": [
    {
     "name": "stdout",
     "output_type": "stream",
     "text": [
      "<code object add at 0x104e100e0, file \"<ipython-input-57-b52a9c8ac2a5>\", line 1>\n",
      "b'|\\x00|\\x01\\x17\\x00S\\x00'\n",
      "('x', 'y')\n",
      "(10,)\n"
     ]
    }
   ],
   "source": [
    "def add(x, y=10):\n",
    "    return x + y\n",
    "\n",
    "print(add.__code__)\n",
    "print(add.__code__.co_code)     # bytecode of func\n",
    "print(add.__code__.co_varnames)\n",
    "print(add.__defaults__)\n"
   ]
  },
  {
   "cell_type": "code",
   "execution_count": 64,
   "id": "simplified-vinyl",
   "metadata": {},
   "outputs": [
    {
     "data": {
      "text/plain": [
       "'def add(x, y=10):\\n    return x + y\\n'"
      ]
     },
     "execution_count": 64,
     "metadata": {},
     "output_type": "execute_result"
    }
   ],
   "source": [
    "# view sourcecode of func\n",
    "from inspect import getsource\n",
    "getsource(add)   "
   ]
  },
  {
   "cell_type": "code",
   "execution_count": 68,
   "id": "northern-survey",
   "metadata": {},
   "outputs": [
    {
     "data": {
      "text/plain": [
       "(9.5367431640625e-07, 5, 'add2')"
      ]
     },
     "execution_count": 68,
     "metadata": {},
     "output_type": "execute_result"
    }
   ],
   "source": [
    "## a wrapper func can be called as a decorator\n",
    "\n",
    "from time import time\n",
    "\n",
    "def timing_val(func):\n",
    "    def wrapper(*arg, **kw):\n",
    "        t1 = time()\n",
    "        res = func(*arg, **kw)\n",
    "        t2 = time()\n",
    "        return (t2 - t1), res, func.__name__\n",
    "    return wrapper\n",
    "    \n",
    "@timing_val\n",
    "def add2(x, y):\n",
    "    return x + y\n",
    "\n",
    "add2(3, 2)"
   ]
  },
  {
   "cell_type": "code",
   "execution_count": 70,
   "id": "vocational-course",
   "metadata": {},
   "outputs": [
    {
     "data": {
      "text/plain": [
       "(9.5367431640625e-07, 5, 'add')"
      ]
     },
     "execution_count": 70,
     "metadata": {},
     "output_type": "execute_result"
    }
   ],
   "source": [
    "# the decorator method does the same as this\n",
    "def add(x, y):\n",
    "    return x + y\n",
    "\n",
    "timing_val(add)(2, 3)"
   ]
  },
  {
   "cell_type": "code",
   "execution_count": 78,
   "id": "knowing-secretariat",
   "metadata": {},
   "outputs": [
    {
     "data": {
      "text/plain": [
       "[5, 5, 5, 5]"
      ]
     },
     "execution_count": 78,
     "metadata": {},
     "output_type": "execute_result"
    }
   ],
   "source": [
    "def run_n_times(func, n):\n",
    "    \"\"\"runs function n times and returns outputs in a list\"\"\"\n",
    "    def wrapper(*arg, **kw):\n",
    "        store = []\n",
    "        for i in range(n):\n",
    "            store.append(func(*arg, **kw))\n",
    "        return store\n",
    "    return wrapper\n",
    "\n",
    "run_n_times(add, 4)(2, 3)  # works; in this form it doesnt work as a decorator\n",
    "\n"
   ]
  },
  {
   "cell_type": "code",
   "execution_count": 81,
   "id": "terminal-contamination",
   "metadata": {},
   "outputs": [
    {
     "data": {
      "text/plain": [
       "[5, 5, 5, 5, 5, 5, 5, 5, 5, 5, 5, 5]"
      ]
     },
     "execution_count": 81,
     "metadata": {},
     "output_type": "execute_result"
    }
   ],
   "source": [
    "# split the no of iters and func into separate levels of nesting to make it work as a decorator\n",
    "def run_n_times(n):\n",
    "    def inner(func):\n",
    "        def wrapper(*arg, **kw):\n",
    "            store = []\n",
    "            for i in range(n):\n",
    "                store.append(func(*arg, **kw))\n",
    "            return store\n",
    "        return wrapper\n",
    "    return inner\n",
    "\n",
    "@run_n_times(12)\n",
    "def add(x, y):\n",
    "    return x + y\n",
    "\n",
    "add(3, 2)\n"
   ]
  },
  {
   "cell_type": "markdown",
   "id": "closed-toronto",
   "metadata": {},
   "source": [
    "stateful behaviour = state of thing is remembered over time\n",
    "\n",
    "some classes might be stateful, unlike functions"
   ]
  },
  {
   "cell_type": "markdown",
   "id": "defined-intent",
   "metadata": {},
   "source": [
    "Generators: give user objects as they ask for them (inc computing them), one at a time. Rather than computing everything and then returning everything to user, as functions do (which could take a long time).\n",
    "\n"
   ]
  },
  {
   "cell_type": "code",
   "execution_count": 99,
   "id": "tropical-tuner",
   "metadata": {},
   "outputs": [],
   "source": [
    "## using generator to ensure three funcs are called in order, returning control to user between\n",
    "# each of the 3 funcs using 'yield'\n",
    "\n",
    "def first():\n",
    "    return 1\n",
    "\n",
    "def second():\n",
    "    return 2\n",
    "\n",
    "def third():\n",
    "    return 3\n",
    "\n",
    "def ordered_api():\n",
    "    \"\"\"This 'func' returns a generator obj\"\"\"\n",
    "    a = first()\n",
    "    yield a         # just do 'yield' without the 'a' if you want to return control to user without returning anything\n",
    "    b = second()\n",
    "    yield b\n",
    "    c = third()\n",
    "    yield c"
   ]
  },
  {
   "cell_type": "code",
   "execution_count": 100,
   "id": "amino-involvement",
   "metadata": {},
   "outputs": [
    {
     "name": "stdout",
     "output_type": "stream",
     "text": [
      "1\n",
      "2\n",
      "3\n"
     ]
    }
   ],
   "source": [
    "init = ordered_api()\n",
    "print(next(init))\n",
    "print(next(init))\n",
    "print(next(init))"
   ]
  },
  {
   "cell_type": "code",
   "execution_count": null,
   "id": "czech-maple",
   "metadata": {},
   "outputs": [],
   "source": [
    "### Context manager\n",
    "### inclues setup and teardown actions. eg: open and close db or file connection\n",
    "\n",
    "\n",
    "\n",
    "\n",
    "\n"
   ]
  },
  {
   "cell_type": "code",
   "execution_count": null,
   "id": "pressing-forge",
   "metadata": {},
   "outputs": [],
   "source": []
  },
  {
   "cell_type": "code",
   "execution_count": null,
   "id": "narrow-relief",
   "metadata": {},
   "outputs": [],
   "source": []
  },
  {
   "cell_type": "code",
   "execution_count": null,
   "id": "according-wesley",
   "metadata": {},
   "outputs": [],
   "source": []
  },
  {
   "cell_type": "code",
   "execution_count": null,
   "id": "incident-reward",
   "metadata": {},
   "outputs": [],
   "source": []
  },
  {
   "cell_type": "code",
   "execution_count": null,
   "id": "following-congo",
   "metadata": {},
   "outputs": [],
   "source": []
  },
  {
   "cell_type": "code",
   "execution_count": null,
   "id": "annoying-jesus",
   "metadata": {},
   "outputs": [],
   "source": []
  },
  {
   "cell_type": "code",
   "execution_count": null,
   "id": "preliminary-table",
   "metadata": {},
   "outputs": [],
   "source": []
  },
  {
   "cell_type": "code",
   "execution_count": null,
   "id": "temporal-atlanta",
   "metadata": {},
   "outputs": [],
   "source": []
  }
 ],
 "metadata": {
  "kernelspec": {
   "display_name": "Python 3",
   "language": "python",
   "name": "python3"
  },
  "language_info": {
   "codemirror_mode": {
    "name": "ipython",
    "version": 3
   },
   "file_extension": ".py",
   "mimetype": "text/x-python",
   "name": "python",
   "nbconvert_exporter": "python",
   "pygments_lexer": "ipython3",
   "version": "3.9.7"
  }
 },
 "nbformat": 4,
 "nbformat_minor": 5
}
