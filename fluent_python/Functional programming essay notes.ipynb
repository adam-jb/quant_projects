{
 "cells": [
  {
   "cell_type": "markdown",
   "id": "handed-pocket",
   "metadata": {},
   "source": [
    "\n",
    "### essay here: https://docs.python.org/3/howto/functional.html\n",
    "\n",
    "\n"
   ]
  },
  {
   "cell_type": "markdown",
   "id": "approximate-occurrence",
   "metadata": {},
   "source": [
    "Iterator = obj that takes one value at a time, like a stream\n",
    "\n",
    "A Python iterator must support a method called __next__() that takes no arguments and always returns the next element of the stream\n",
    "\n",
    "If there are no more elements in the stream, __next__() must raise the StopIteration exception.\n",
    "\n",
    "Iterators don’t have to be finite, \n",
    "\n",
    "\n",
    "\n",
    "\n"
   ]
  },
  {
   "cell_type": "code",
   "execution_count": 25,
   "id": "genuine-inventory",
   "metadata": {},
   "outputs": [],
   "source": [
    "import time\n",
    "\n"
   ]
  },
  {
   "cell_type": "code",
   "execution_count": 5,
   "id": "mighty-recovery",
   "metadata": {},
   "outputs": [
    {
     "name": "stdout",
     "output_type": "stream",
     "text": [
      "<list_iterator object at 0x105a1a730>\n",
      "1\n",
      "2\n"
     ]
    }
   ],
   "source": [
    "L = [1, 2, 3]\n",
    "it = iter(L)\n",
    "print(it)\n",
    "print(it.__next__())  # this and row below do same thing\n",
    "print(next(it)) "
   ]
  },
  {
   "cell_type": "code",
   "execution_count": 8,
   "id": "filled-dominant",
   "metadata": {},
   "outputs": [
    {
     "data": {
      "text/plain": [
       "[1, 2, 3]"
      ]
     },
     "execution_count": 8,
     "metadata": {},
     "output_type": "execute_result"
    }
   ],
   "source": [
    "# can convert iterator to string or tuple\n",
    "L = [1, 2, 3]\n",
    "it = iter(L)\n",
    "list(it)"
   ]
  },
  {
   "cell_type": "code",
   "execution_count": 9,
   "id": "annoying-incentive",
   "metadata": {},
   "outputs": [
    {
     "name": "stdout",
     "output_type": "stream",
     "text": [
      "2\n"
     ]
    }
   ],
   "source": [
    "# can 'sequence unpack' iterators\n",
    "L = [1, 2, 3]\n",
    "it = iter(L)\n",
    "a, b, c = it\n",
    "print(b)"
   ]
  },
  {
   "cell_type": "code",
   "execution_count": 11,
   "id": "superb-dragon",
   "metadata": {},
   "outputs": [
    {
     "data": {
      "text/plain": [
       "3"
      ]
     },
     "execution_count": 11,
     "metadata": {},
     "output_type": "execute_result"
    }
   ],
   "source": [
    "# can apply max/min to iterators\n",
    "it = iter(L)\n",
    "max(it)"
   ]
  },
  {
   "cell_type": "code",
   "execution_count": 12,
   "id": "apparent-halifax",
   "metadata": {},
   "outputs": [
    {
     "name": "stdout",
     "output_type": "stream",
     "text": [
      "<class 'int'>\n",
      "<class 'int'>\n",
      "<class 'int'>\n"
     ]
    }
   ],
   "source": [
    "for k in L:\n",
    "    print(type(k))"
   ]
  },
  {
   "cell_type": "code",
   "execution_count": 14,
   "id": "italian-listing",
   "metadata": {},
   "outputs": [
    {
     "name": "stdout",
     "output_type": "stream",
     "text": [
      "{'Italy': 'Rome', 'France': 'Paris', 'US': 'Washington DC'}\n",
      "{'Italy': 'Rome', 'France': 'Paris', 'US': 'Washington DC'}\n"
     ]
    }
   ],
   "source": [
    "L = [('Italy', 'Rome'), ('France', 'Paris'), ('US', 'Washington DC')]\n",
    "print(dict(L))\n",
    "print(dict(iter(L)))  # can feed iter of key/value pairs to a dict (does same thing as line above so not sure\n",
    "                        # how useful)"
   ]
  },
  {
   "cell_type": "code",
   "execution_count": null,
   "id": "previous-scholarship",
   "metadata": {},
   "outputs": [],
   "source": [
    "# listcomp uses [], generators use ()"
   ]
  },
  {
   "cell_type": "code",
   "execution_count": 23,
   "id": "existing-promotion",
   "metadata": {},
   "outputs": [
    {
     "name": "stdout",
     "output_type": "stream",
     "text": [
      "<class 'type'>\n"
     ]
    },
    {
     "data": {
      "text/plain": [
       "90"
      ]
     },
     "execution_count": 23,
     "metadata": {},
     "output_type": "execute_result"
    }
   ],
   "source": [
    "xx = range(10)\n",
    "print(type(type((x*2 for x in xx)  ) ))\n",
    "sum(x*2 for x in xx)   # generator can be passed to something as an iterator"
   ]
  },
  {
   "cell_type": "code",
   "execution_count": 22,
   "id": "suffering-tunnel",
   "metadata": {},
   "outputs": [
    {
     "data": {
      "text/plain": [
       "90"
      ]
     },
     "execution_count": 22,
     "metadata": {},
     "output_type": "execute_result"
    }
   ],
   "source": [
    "sum([x*2 for x in xx])  # listcomp can too: and it's no slower (see next cell)"
   ]
  },
  {
   "cell_type": "code",
   "execution_count": 27,
   "id": "alone-hearing",
   "metadata": {},
   "outputs": [
    {
     "name": "stdout",
     "output_type": "stream",
     "text": [
      "0.10296797752380371\n",
      "0.10602426528930664\n"
     ]
    }
   ],
   "source": [
    "start = time.time()\n",
    "xx = range(1000000)\n",
    "sum(x*2 for x in xx)\n",
    "print(time.time() - start)\n",
    "\n",
    "start = time.time()\n",
    "xx = range(1000000)\n",
    "sum([x*2 for x in xx])\n",
    "print(time.time() - start)\n"
   ]
  },
  {
   "cell_type": "code",
   "execution_count": 34,
   "id": "sacred-navigator",
   "metadata": {},
   "outputs": [
    {
     "data": {
      "text/plain": [
       "[('a', 1),\n",
       " ('a', 2),\n",
       " ('a', 3),\n",
       " ('b', 1),\n",
       " ('b', 2),\n",
       " ('b', 3),\n",
       " ('c', 1),\n",
       " ('c', 2),\n",
       " ('c', 3)]"
      ]
     },
     "execution_count": 34,
     "metadata": {},
     "output_type": "execute_result"
    }
   ],
   "source": [
    "# nested loop in listcomp to create list of tuples\n",
    "seq1 = 'abc'\n",
    "seq2 = (1, 2, 3)\n",
    "[(x, y) for x in seq1 for y in seq2]  "
   ]
  },
  {
   "cell_type": "markdown",
   "id": "successful-column",
   "metadata": {},
   "source": [
    "Normally on finishing a function, all the objects in function's namespace are deleted. Generator lets you keep going where you left off (or something like that)"
   ]
  },
  {
   "cell_type": "code",
   "execution_count": 47,
   "id": "collect-communications",
   "metadata": {},
   "outputs": [
    {
     "name": "stdout",
     "output_type": "stream",
     "text": [
      "0\n",
      "2\n",
      "4\n",
      "0\n",
      "2\n",
      "4\n"
     ]
    }
   ],
   "source": [
    "def generate_ints(N):\n",
    "    for i in range(N):\n",
    "        yield i*2       # yield keyword tells python this is a generator function \n",
    "                            # ('yield' is detected by the bytecode compiler)\n",
    "        \n",
    "for i in generate_ints(3):  # loops through generator\n",
    "    print(i)\n",
    "    \n",
    "x = generate_ints(3)  # these 4 lines do same thing as loop above\n",
    "print(next(x))\n",
    "print(next(x))\n",
    "print(next(x))"
   ]
  },
  {
   "cell_type": "code",
   "execution_count": 50,
   "id": "smart-april",
   "metadata": {},
   "outputs": [
    {
     "name": "stdout",
     "output_type": "stream",
     "text": [
      "(1, 2)\n",
      "(1, 3)\n",
      "(1, 4)\n",
      "(1, 5)\n",
      "(2, 3)\n",
      "(2, 4)\n",
      "(2, 5)\n",
      "(3, 4)\n",
      "(3, 5)\n",
      "(4, 5)\n"
     ]
    }
   ],
   "source": [
    "import itertools\n",
    "x = itertools.combinations([1, 2, 3, 4, 5], 2) # make all possible combinations of length 2\n",
    "for a in x:\n",
    "    print(a)"
   ]
  },
  {
   "cell_type": "code",
   "execution_count": 53,
   "id": "documentary-stylus",
   "metadata": {},
   "outputs": [
    {
     "name": "stdout",
     "output_type": "stream",
     "text": [
      "(1, 2)\n",
      "(1, 3)\n",
      "(1, 4)\n",
      "(1, 5)\n",
      "(2, 1)\n",
      "(2, 3)\n",
      "(2, 4)\n",
      "(2, 5)\n",
      "(3, 1)\n",
      "(3, 2)\n",
      "(3, 4)\n",
      "(3, 5)\n",
      "(4, 1)\n",
      "(4, 2)\n",
      "(4, 3)\n",
      "(4, 5)\n",
      "(5, 1)\n",
      "(5, 2)\n",
      "(5, 3)\n",
      "(5, 4)\n"
     ]
    }
   ],
   "source": [
    "x = itertools.permutations([1, 2, 3, 4, 5], 2) # make 5x4: each paired with each other\n",
    "for a in x:\n",
    "    print(a)"
   ]
  },
  {
   "cell_type": "code",
   "execution_count": 59,
   "id": "moving-lesbian",
   "metadata": {},
   "outputs": [
    {
     "name": "stdout",
     "output_type": "stream",
     "text": [
      "0 [0, 1, 2, 3, 4]\n",
      "1 [5, 6, 7, 8, 9]\n",
      "2 [10, 11]\n"
     ]
    }
   ],
   "source": [
    "# use groupby() to chunk up iters\n",
    "for key, igroup in itertools.groupby(range(12), lambda x: x // 5):\n",
    "    print(key, list(igroup))"
   ]
  },
  {
   "cell_type": "code",
   "execution_count": 60,
   "id": "graduate-expansion",
   "metadata": {},
   "outputs": [
    {
     "data": {
      "text/plain": [
       "'ABBC'"
      ]
     },
     "execution_count": 60,
     "metadata": {},
     "output_type": "execute_result"
    }
   ],
   "source": [
    "import operator, functools\n",
    "functools.reduce(operator.concat, ['A', 'BB', 'C'])"
   ]
  },
  {
   "cell_type": "code",
   "execution_count": 65,
   "id": "greater-photograph",
   "metadata": {},
   "outputs": [
    {
     "data": {
      "text/plain": [
       "6"
      ]
     },
     "execution_count": 65,
     "metadata": {},
     "output_type": "execute_result"
    }
   ],
   "source": [
    "product = 0\n",
    "for i in [1, 2, 3]:\n",
    "    product += i\n",
    "product"
   ]
  },
  {
   "cell_type": "code",
   "execution_count": 70,
   "id": "waiting-garage",
   "metadata": {},
   "outputs": [
    {
     "name": "stdout",
     "output_type": "stream",
     "text": [
      "<class 'itertools.accumulate'>\n"
     ]
    },
    {
     "data": {
      "text/plain": [
       "[1, 3, 6, 10, 15]"
      ]
     },
     "execution_count": 70,
     "metadata": {},
     "output_type": "execute_result"
    }
   ],
   "source": [
    "x = itertools.accumulate([1, 2, 3, 4, 5])\n",
    "print(type(x))\n",
    "list(x)\n"
   ]
  },
  {
   "cell_type": "markdown",
   "id": "smooth-description",
   "metadata": {},
   "source": [
    "### Some functions operator module\n",
    "\n",
    "Math operations: add(), sub(), mul(), floordiv(), abs(), …\n",
    "\n",
    "Logical operations: not_(), truth().\n",
    "\n",
    "Bitwise operations: and_(), or_(), invert().\n",
    "\n",
    "Comparisons: eq(), ne(), lt(), le(), gt(), and ge().\n",
    "\n",
    "Object identity: is_(), is_not()."
   ]
  },
  {
   "cell_type": "code",
   "execution_count": null,
   "id": "freelance-miniature",
   "metadata": {},
   "outputs": [],
   "source": []
  },
  {
   "cell_type": "code",
   "execution_count": null,
   "id": "accredited-tampa",
   "metadata": {},
   "outputs": [],
   "source": []
  },
  {
   "cell_type": "code",
   "execution_count": null,
   "id": "ideal-columbia",
   "metadata": {},
   "outputs": [],
   "source": []
  },
  {
   "cell_type": "code",
   "execution_count": null,
   "id": "democratic-caribbean",
   "metadata": {},
   "outputs": [],
   "source": []
  },
  {
   "cell_type": "code",
   "execution_count": null,
   "id": "metallic-montreal",
   "metadata": {},
   "outputs": [],
   "source": []
  },
  {
   "cell_type": "code",
   "execution_count": null,
   "id": "entitled-attendance",
   "metadata": {},
   "outputs": [],
   "source": []
  }
 ],
 "metadata": {
  "kernelspec": {
   "display_name": "Python 3",
   "language": "python",
   "name": "python3"
  },
  "language_info": {
   "codemirror_mode": {
    "name": "ipython",
    "version": 3
   },
   "file_extension": ".py",
   "mimetype": "text/x-python",
   "name": "python",
   "nbconvert_exporter": "python",
   "pygments_lexer": "ipython3",
   "version": "3.9.7"
  }
 },
 "nbformat": 4,
 "nbformat_minor": 5
}
