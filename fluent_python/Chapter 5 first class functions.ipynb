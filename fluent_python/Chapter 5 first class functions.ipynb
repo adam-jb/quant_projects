{
 "cells": [
  {
   "cell_type": "markdown",
   "id": "electric-gather",
   "metadata": {},
   "source": [
    "#### One way to speed up functions which are called often: use @cache decorator\n",
    "\n",
    "from functools import lru_cache as cache\\\n",
    "@cache(maxsize=None)\\\n",
    "def ... "
   ]
  },
  {
   "cell_type": "code",
   "execution_count": 8,
   "id": "general-payday",
   "metadata": {},
   "outputs": [
    {
     "name": "stdout",
     "output_type": "stream",
     "text": [
      "[1, 1, 2, 6, 24, 120, 720, 5040, 40320, 362880, 3628800]\n"
     ]
    },
    {
     "data": {
      "text/plain": [
       "[1, 1, 2, 6, 24, 120, 720, 5040, 40320, 362880, 3628800]"
      ]
     },
     "execution_count": 8,
     "metadata": {},
     "output_type": "execute_result"
    }
   ],
   "source": [
    "\n",
    "def factorial(n):\n",
    "    return 1 if n < 2 else n * factorial(n - 1)\n",
    "\n",
    "print(list(map(factorial, range(11))))  # do same thing\n",
    "[factorial(x) for x in range(11)]"
   ]
  },
  {
   "cell_type": "code",
   "execution_count": 14,
   "id": "ruled-management",
   "metadata": {},
   "outputs": [
    {
     "name": "stdout",
     "output_type": "stream",
     "text": [
      "['dense', 'apple', 'banana']\n",
      "['banana', 'apple', 'dense']\n",
      "['banana', 'apple', 'dense']\n"
     ]
    }
   ],
   "source": [
    "def reverse(word):\n",
    "    return word[::-1]\n",
    "\n",
    "cake = ['dense', 'banana', 'apple']\n",
    "print(sorted(cake, key=len))\n",
    "print(sorted(cake, key=reverse))   # key can be any function\n",
    "\n",
    "print(sorted(cake, key=lambda word: word[::-1]))  # same as above with lambda"
   ]
  },
  {
   "cell_type": "code",
   "execution_count": 36,
   "id": "multiple-married",
   "metadata": {},
   "outputs": [
    {
     "data": {
      "text/plain": [
       "4950"
      ]
     },
     "execution_count": 36,
     "metadata": {},
     "output_type": "execute_result"
    }
   ],
   "source": [
    "from functools import reduce\n",
    "from operator import add, mul   # cos + or * can't be passed to reduce()\n",
    "from operator import itemgetter\n",
    "\n",
    "reduce(add, range(100))  # apply aggregation function to something"
   ]
  },
  {
   "cell_type": "code",
   "execution_count": 13,
   "id": "single-first",
   "metadata": {},
   "outputs": [
    {
     "name": "stdout",
     "output_type": "stream",
     "text": [
      "False\n"
     ]
    },
    {
     "data": {
      "text/plain": [
       "True"
      ]
     },
     "execution_count": 13,
     "metadata": {},
     "output_type": "execute_result"
    }
   ],
   "source": [
    "print(all([True, True, False]))\n",
    "any([True, True, False])"
   ]
  },
  {
   "cell_type": "code",
   "execution_count": 18,
   "id": "lucky-tragedy",
   "metadata": {},
   "outputs": [
    {
     "data": {
      "text/plain": [
       "[2, 3, 4, 5, 6, 7]"
      ]
     },
     "execution_count": 18,
     "metadata": {},
     "output_type": "execute_result"
    }
   ],
   "source": [
    "args = [2, 8]\n",
    "list(range(*args)) # single * 'explodes' func input"
   ]
  },
  {
   "cell_type": "code",
   "execution_count": 34,
   "id": "expensive-iraqi",
   "metadata": {},
   "outputs": [
    {
     "data": {
      "text/plain": [
       "3628800"
      ]
     },
     "execution_count": 34,
     "metadata": {},
     "output_type": "execute_result"
    }
   ],
   "source": [
    "def factorial(x):\n",
    "    \"\"\"use reduce and mul\"\"\"\n",
    "    return reduce(mul, range(1,x+1))\n",
    "\n",
    "factorial(10)"
   ]
  },
  {
   "cell_type": "code",
   "execution_count": 30,
   "id": "dried-jersey",
   "metadata": {},
   "outputs": [
    {
     "data": {
      "text/plain": [
       "[1, 2, 3, 4, 5, 6, 7, 8, 9, 10]"
      ]
     },
     "execution_count": 30,
     "metadata": {},
     "output_type": "execute_result"
    }
   ],
   "source": [
    "list(range(1,x+1))"
   ]
  },
  {
   "cell_type": "code",
   "execution_count": 44,
   "id": "successful-bangkok",
   "metadata": {},
   "outputs": [
    {
     "name": "stdout",
     "output_type": "stream",
     "text": [
      "('Delhi NCR', 'IN', 21.935, (28.613889, 77.208889))\n",
      "('Mexico City', 'MX', 20.142, (19.433333, -99.133333))\n",
      "('New York-Newark', 'US', 20.104, (40.808611, -74.020386))\n",
      "('Sao Paulo', 'BR', 19.649, (-23.547778, -46.635833))\n",
      "('Tokyo', 'JP', 36.933, (35.689722, 139.691667))\n"
     ]
    }
   ],
   "source": [
    "metro_data = [\n",
    "    ('Tokyo', 'JP', 36.933, (35.689722, 139.691667)),\n",
    "    ('Delhi NCR', 'IN', 21.935, (28.613889, 77.208889)),\n",
    "    ('Mexico City', 'MX', 20.142, (19.433333, -99.133333)),\n",
    "    ('New York-Newark', 'US', 20.104, (40.808611, -74.020386)),\n",
    "    ('Sao Paulo', 'BR', 19.649, (-23.547778, -46.635833)),\n",
    "    ]\n",
    "\n",
    "for city in sorted(metro_data, key=itemgetter(0)):  # orders by nth value in tuples, where n is passed to itemgetter\n",
    "    print(city)"
   ]
  },
  {
   "cell_type": "code",
   "execution_count": 45,
   "id": "impaired-guatemala",
   "metadata": {},
   "outputs": [
    {
     "name": "stdout",
     "output_type": "stream",
     "text": [
      "('JP', 'Tokyo')\n",
      "('IN', 'Delhi NCR')\n",
      "('MX', 'Mexico City')\n",
      "('US', 'New York-Newark')\n",
      "('BR', 'Sao Paulo')\n"
     ]
    }
   ],
   "source": [
    "cc_name = itemgetter(1, 0)    # returns elements of each tuple by position\n",
    "for city in metro_data:\n",
    "    print(cc_name(city))"
   ]
  },
  {
   "cell_type": "markdown",
   "id": "improving-yellow",
   "metadata": {},
   "source": [
    "attrgetter() would do something similar based on object names, so would work on namedtuple but not tuple"
   ]
  },
  {
   "cell_type": "code",
   "execution_count": 56,
   "id": "quantitative-upset",
   "metadata": {},
   "outputs": [
    {
     "data": {
      "text/plain": [
       "['In',\n",
       " 'Out',\n",
       " 'add',\n",
       " 'args',\n",
       " 'cake',\n",
       " 'cc_name',\n",
       " 'city',\n",
       " 'exit',\n",
       " 'factorial',\n",
       " 'get_ipython',\n",
       " 'itemgetter',\n",
       " 'metro_data',\n",
       " 'mul',\n",
       " 'quit',\n",
       " 'reduce',\n",
       " 'reverse',\n",
       " 'x']"
      ]
     },
     "execution_count": 56,
     "metadata": {},
     "output_type": "execute_result"
    }
   ],
   "source": [
    " [name for name in dir() if not name.startswith('_')]"
   ]
  },
  {
   "cell_type": "code",
   "execution_count": 57,
   "id": "critical-seattle",
   "metadata": {},
   "outputs": [
    {
     "data": {
      "text/plain": [
       "['In',\n",
       " 'Out',\n",
       " 'add',\n",
       " 'args',\n",
       " 'city',\n",
       " 'exit',\n",
       " 'factorial',\n",
       " 'get_ipython',\n",
       " 'itemgetter',\n",
       " 'metro_data',\n",
       " 'mul',\n",
       " 'quit',\n",
       " 'x']"
      ]
     },
     "execution_count": 57,
     "metadata": {},
     "output_type": "execute_result"
    }
   ],
   "source": [
    "# chaining filters \n",
    "[name for name in dir() if not name.startswith('_') if not name.endswith('e')]"
   ]
  },
  {
   "cell_type": "code",
   "execution_count": 58,
   "id": "enormous-heating",
   "metadata": {},
   "outputs": [
    {
     "data": {
      "text/plain": [
       "9"
      ]
     },
     "execution_count": 58,
     "metadata": {},
     "output_type": "execute_result"
    }
   ],
   "source": [
    "from functools import partial # partial() makes a func on the fly where only some args need be called. \n",
    "                        # normal func defining seems fine without this though\n",
    "triple = partial(mul, 3)\n",
    "triple(3)"
   ]
  },
  {
   "cell_type": "code",
   "execution_count": 61,
   "id": "fossil-bicycle",
   "metadata": {},
   "outputs": [
    {
     "data": {
      "text/plain": [
       "'THE TIME HAS COME'"
      ]
     },
     "execution_count": 61,
     "metadata": {},
     "output_type": "execute_result"
    }
   ],
   "source": [
    "from operator import methodcaller\n",
    "upcase = methodcaller('upper')     # makes a method a function\n",
    "s = 'The time has come'\n",
    "upcase(s)"
   ]
  },
  {
   "cell_type": "code",
   "execution_count": 62,
   "id": "typical-salmon",
   "metadata": {},
   "outputs": [
    {
     "ename": "AttributeError",
     "evalue": "'str' object has no attribute 'upcase'",
     "output_type": "error",
     "traceback": [
      "\u001b[0;31m---------------------------------------------------------------------------\u001b[0m",
      "\u001b[0;31mAttributeError\u001b[0m                            Traceback (most recent call last)",
      "\u001b[0;32m<ipython-input-62-b598e3bf321a>\u001b[0m in \u001b[0;36m<module>\u001b[0;34m\u001b[0m\n\u001b[1;32m      1\u001b[0m \u001b[0;31m# cant chain methodcaller: not sure its that useful\u001b[0m\u001b[0;34m\u001b[0m\u001b[0;34m\u001b[0m\u001b[0m\n\u001b[1;32m      2\u001b[0m \u001b[0mhiphenate\u001b[0m \u001b[0;34m=\u001b[0m \u001b[0mmethodcaller\u001b[0m\u001b[0;34m(\u001b[0m\u001b[0;34m'upcase'\u001b[0m\u001b[0;34m,\u001b[0m \u001b[0;34m' '\u001b[0m\u001b[0;34m,\u001b[0m \u001b[0;34m'-'\u001b[0m\u001b[0;34m)\u001b[0m\u001b[0;34m\u001b[0m\u001b[0;34m\u001b[0m\u001b[0m\n\u001b[0;32m----> 3\u001b[0;31m \u001b[0mhiphenate\u001b[0m\u001b[0;34m(\u001b[0m\u001b[0ms\u001b[0m\u001b[0;34m)\u001b[0m\u001b[0;34m\u001b[0m\u001b[0;34m\u001b[0m\u001b[0m\n\u001b[0m",
      "\u001b[0;31mAttributeError\u001b[0m: 'str' object has no attribute 'upcase'"
     ]
    }
   ],
   "source": [
    "# cant chain methodcaller: not sure its that useful\n",
    "hiphenate = methodcaller('upcase', ' ', '-')\n",
    "hiphenate(s)"
   ]
  },
  {
   "cell_type": "code",
   "execution_count": null,
   "id": "affiliated-middle",
   "metadata": {},
   "outputs": [],
   "source": []
  },
  {
   "cell_type": "code",
   "execution_count": null,
   "id": "worth-village",
   "metadata": {},
   "outputs": [],
   "source": []
  },
  {
   "cell_type": "code",
   "execution_count": null,
   "id": "sixth-joint",
   "metadata": {},
   "outputs": [],
   "source": []
  },
  {
   "cell_type": "code",
   "execution_count": null,
   "id": "aware-terminal",
   "metadata": {},
   "outputs": [],
   "source": []
  },
  {
   "cell_type": "code",
   "execution_count": null,
   "id": "meaningful-hampshire",
   "metadata": {},
   "outputs": [],
   "source": []
  },
  {
   "cell_type": "code",
   "execution_count": null,
   "id": "colored-xerox",
   "metadata": {},
   "outputs": [],
   "source": []
  },
  {
   "cell_type": "code",
   "execution_count": null,
   "id": "allied-quarter",
   "metadata": {},
   "outputs": [],
   "source": []
  },
  {
   "cell_type": "code",
   "execution_count": null,
   "id": "vulnerable-dairy",
   "metadata": {},
   "outputs": [],
   "source": []
  },
  {
   "cell_type": "code",
   "execution_count": null,
   "id": "excited-carroll",
   "metadata": {},
   "outputs": [],
   "source": []
  },
  {
   "cell_type": "code",
   "execution_count": null,
   "id": "alert-ending",
   "metadata": {},
   "outputs": [],
   "source": []
  },
  {
   "cell_type": "code",
   "execution_count": null,
   "id": "paperback-picnic",
   "metadata": {},
   "outputs": [],
   "source": []
  }
 ],
 "metadata": {
  "kernelspec": {
   "display_name": "Python 3",
   "language": "python",
   "name": "python3"
  },
  "language_info": {
   "codemirror_mode": {
    "name": "ipython",
    "version": 3
   },
   "file_extension": ".py",
   "mimetype": "text/x-python",
   "name": "python",
   "nbconvert_exporter": "python",
   "pygments_lexer": "ipython3",
   "version": "3.9.7"
  }
 },
 "nbformat": 4,
 "nbformat_minor": 5
}
