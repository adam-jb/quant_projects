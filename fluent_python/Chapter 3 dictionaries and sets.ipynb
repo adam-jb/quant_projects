{
 "cells": [
  {
   "cell_type": "code",
   "execution_count": 39,
   "id": "sapphire-uniform",
   "metadata": {},
   "outputs": [],
   "source": [
    "import collections\n",
    "import sys\n",
    "import re\n",
    "\n",
    "# Thought for the day:\n",
    "# Optimization is the altar where maintainability is sacrificed\n"
   ]
  },
  {
   "cell_type": "code",
   "execution_count": 10,
   "id": "headed-notification",
   "metadata": {},
   "outputs": [
    {
     "data": {
      "text/plain": [
       "529344067295497451"
      ]
     },
     "execution_count": 10,
     "metadata": {},
     "output_type": "execute_result"
    }
   ],
   "source": [
    "# obj is hashable if it has a hash value that never changes over it's lifetime\n",
    "# needs a __hash__() method\n",
    "# atomic immutable types (str, bytes, numeric types) are all hashable\n",
    "# lists arent hashable , I think because mutable\n",
    "\n",
    "a = (1, 2, 3)\n",
    "hash(a)\n",
    "\n",
    "# hash[1, 2, 4]  would get error"
   ]
  },
  {
   "cell_type": "code",
   "execution_count": 5,
   "id": "built-circumstances",
   "metadata": {},
   "outputs": [
    {
     "name": "stdout",
     "output_type": "stream",
     "text": [
      "frozenset({1, 2, 4, 5})\n"
     ]
    },
    {
     "data": {
      "text/plain": [
       "-7299030190757708740"
      ]
     },
     "execution_count": 5,
     "metadata": {},
     "output_type": "execute_result"
    }
   ],
   "source": [
    "s = frozenset([1, 2, 4, 5])  # returns immutable obj from mutable input\n",
    "print(s)\n",
    "hash(s)"
   ]
  },
  {
   "cell_type": "code",
   "execution_count": 15,
   "id": "altered-mortality",
   "metadata": {},
   "outputs": [
    {
     "data": {
      "text/plain": [
       "{'UK': 1, 'China': 2, 'USA': 3}"
      ]
     },
     "execution_count": 15,
     "metadata": {},
     "output_type": "execute_result"
    }
   ],
   "source": [
    "# dictcomp = dictionary comprehension. A way to make a dict. Similar syntax to listcomp:\n",
    "nation_data = [('UK', 1), ('China', 2), ('USA', 3)]\n",
    "nation_dict = {country:code for country, code in nation_data} # iterates over each pair\n",
    "nation_dict"
   ]
  },
  {
   "cell_type": "code",
   "execution_count": 14,
   "id": "possible-trading",
   "metadata": {},
   "outputs": [
    {
     "data": {
      "text/plain": [
       "7811147137430375765"
      ]
     },
     "execution_count": 14,
     "metadata": {},
     "output_type": "execute_result"
    }
   ],
   "source": [
    "hash(frozenset(nation_dict))"
   ]
  },
  {
   "cell_type": "code",
   "execution_count": 19,
   "id": "complete-welcome",
   "metadata": {},
   "outputs": [
    {
     "data": {
      "text/plain": [
       "{'a': 1, 'b': 2, 'c': 7}"
      ]
     },
     "execution_count": 19,
     "metadata": {},
     "output_type": "execute_result"
    }
   ],
   "source": [
    "# 'duck typing' = see if there is a keys method; if so use it, if not iterate assuming items are key/value pairs\n",
    "\n",
    "\n",
    "# set default adds a key/value pair if the key is missing, otherwise does nothing\n",
    "index = {'a': 1, 'b': 2}\n",
    "index.setdefault('a', 3)  \n",
    "index.setdefault('c', 7)\n",
    "index"
   ]
  },
  {
   "cell_type": "code",
   "execution_count": 37,
   "id": "induced-maker",
   "metadata": {},
   "outputs": [
    {
     "data": {
      "text/plain": [
       "defaultdict(list, {'red': [2, 3], 'orange': [3]})"
      ]
     },
     "execution_count": 37,
     "metadata": {},
     "output_type": "execute_result"
    }
   ],
   "source": [
    "# defaultdict = dict subtype, provides factory func to coerce value of key/value pairs to certain types\n",
    "\n",
    "d = collections.defaultdict(list)  # sets values in key/value pairs as list type\n",
    "\n",
    "d['red'].append(2)\n",
    "d['red'].append(3)\n",
    "d['orange'].append(3)\n",
    "\n",
    "d"
   ]
  },
  {
   "cell_type": "code",
   "execution_count": 47,
   "id": "powered-commission",
   "metadata": {},
   "outputs": [
    {
     "data": {
      "text/plain": [
       "dict_keys(['b'])"
      ]
     },
     "execution_count": 47,
     "metadata": {},
     "output_type": "execute_result"
    }
   ],
   "source": [
    "class StrKeyDict0(dict):\n",
    "    def __missing__(self, key): \n",
    "        if isinstance(key, str):  # check if key obj is of type string\n",
    "            raise KeyError(key) \n",
    "        return self[str(key)]\n",
    "    def get(self, key, default=None): \n",
    "        try:\n",
    "            return self[key] \n",
    "        except KeyError:\n",
    "            return default\n",
    "    def __contains__(self, key):\n",
    "        return key in self.keys() or str(key) in self.keys()\n",
    "\n",
    "a = StrKeyDict0()\n",
    "a['b'] = 4\n",
    "print(a['b'])\n",
    "a.keys()"
   ]
  },
  {
   "cell_type": "code",
   "execution_count": 80,
   "id": "pressed-hierarchy",
   "metadata": {},
   "outputs": [
    {
     "name": "stdout",
     "output_type": "stream",
     "text": [
      "311\n",
      "['__name__', '__doc__', '__package__', '__loader__', '__spec__', '__build_class__', '__import__', 'abs', 'all', 'any']\n",
      "[('UK', 1), ('China', 2), ('USA', 3)]\n"
     ]
    }
   ],
   "source": [
    "##### types of dict\n",
    "# collections.OrderedDict: can iterate in order as well as use keys\n",
    "\n",
    "# chainmap: groups 1+ dicts or mappings in a ChainMap (like a single dict). Get keys using list(chain_map_name)\n",
    "import builtins\n",
    "pylookup = collections.ChainMap(locals(), globals(), vars(builtins))\n",
    "print(len(list(pylookup)))\n",
    "print(list(pylookup)[:10])  # view first 10 items\n",
    "print(pylookup['nation_data'])  \n"
   ]
  },
  {
   "cell_type": "code",
   "execution_count": 83,
   "id": "likely-burton",
   "metadata": {},
   "outputs": [
    {
     "name": "stdout",
     "output_type": "stream",
     "text": [
      "Counter({'a': 5, 'b': 2, 'r': 2, 'c': 1, 'd': 1})\n",
      "Counter({'a': 9, 'b': 2, 'r': 2, 'c': 1, 'd': 1})\n",
      "[('a', 9), ('b', 2), ('r', 2), ('c', 1)]\n"
     ]
    }
   ],
   "source": [
    "## counter dict: tells you freq of times things included, increases counter whenever something mentioned\n",
    "ct = collections.Counter('abracadabra')\n",
    "print(ct)\n",
    "ct.update('aaaa')\n",
    "print(ct)\n",
    "print(ct.most_common(4))"
   ]
  },
  {
   "cell_type": "code",
   "execution_count": 85,
   "id": "young-nursing",
   "metadata": {},
   "outputs": [
    {
     "name": "stdout",
     "output_type": "stream",
     "text": [
      "4\n",
      "KeysView({'b': 4})\n"
     ]
    }
   ],
   "source": [
    "# collections.UserDict - works just like a normal dict apparently\n",
    "# userDict is easier to subclass than std dict, eg: below which subclasses it\n",
    "\n",
    "class StrKeyDict(collections.UserDict):\n",
    "    def __missing__(self, key): \n",
    "        if isinstance(key, str):\n",
    "            raise KeyError(key) \n",
    "        return self[str(key)]\n",
    "    def __contains__(self, key): \n",
    "        return str(key) in self.data\n",
    "    def __setitem__(self, key, item): \n",
    "        self.data[str(key)] = item\n",
    "        \n",
    "a = StrKeyDict()\n",
    "a['b'] = 4\n",
    "print(a['b'])\n",
    "print(a.keys())\n",
    "\n",
    "\n",
    "# UserDict subclasses  collections.MutableMapping (mutable obj that supports key/value pairs)"
   ]
  },
  {
   "cell_type": "code",
   "execution_count": 100,
   "id": "handled-chrome",
   "metadata": {},
   "outputs": [
    {
     "name": "stdout",
     "output_type": "stream",
     "text": [
      "frozenset({1, 2, 3})\n",
      "{1, 2, 3}\n",
      "[1, 2, 3]\n",
      "frozenset({1, 2, 3})\n",
      "frozenset({1, 2, 3, 4, 10})\n"
     ]
    },
    {
     "data": {
      "text/plain": [
       "{}"
      ]
     },
     "execution_count": 100,
     "metadata": {},
     "output_type": "execute_result"
    }
   ],
   "source": [
    "fset = frozenset([1, 2, 3, 3, 3])  # takes iterable and returns immutable set\n",
    "print(fset)        # removes duplicates\n",
    "print(set(fset))         \n",
    "print(list(fset))     # returns de-duped list: a popular use for sets (unnecessary to use a frozen set for this)\n",
    "\n",
    "set2 = {1, 4, 3, 2 , 10}  # defining a set this way is using \"set literals\"\n",
    "                        # assigns twice as fast as set([list])  (the set constructor)\n",
    "                    # according to https://renzolucioni.com/pythons-set-literals/\n",
    "print(fset.intersection(set2)) # searching fset takes order of 1microsec per val in set2 \n",
    "                # (more or less insensitive to size of fset)\n",
    "print(fset.union(set2))\n",
    "\n",
    "{}  # makes an empty dict, not set\n",
    "\n",
    "\n",
    "\n",
    "\n",
    "# iterable = any object capable of returning values one at a time"
   ]
  },
  {
   "cell_type": "code",
   "execution_count": 102,
   "id": "corrected-television",
   "metadata": {},
   "outputs": [
    {
     "name": "stdout",
     "output_type": "stream",
     "text": [
      "  1           0 LOAD_NAME                0 (set)\n",
      "              2 LOAD_CONST               0 (1)\n",
      "              4 BUILD_LIST               1\n",
      "              6 CALL_FUNCTION            1\n",
      "              8 RETURN_VALUE\n",
      "None\n",
      "  1           0 LOAD_CONST               0 (1)\n",
      "              2 BUILD_SET                1\n",
      "              4 RETURN_VALUE\n",
      "None\n"
     ]
    }
   ],
   "source": [
    "# byte code for constructor and set literal processes of initialisation\n",
    "from dis import dis\n",
    "print(dis('set([1])'))\n",
    "print(dis('{1}'))\n",
    "# one involves more operations. Either this or the values in the final column show it will take longer"
   ]
  },
  {
   "cell_type": "code",
   "execution_count": 108,
   "id": "direct-medication",
   "metadata": {},
   "outputs": [
    {
     "name": "stdout",
     "output_type": "stream",
     "text": [
      "LATIN SMALL LETTER D\n",
      "LATIN SMALL LETTER D\n"
     ]
    },
    {
     "data": {
      "text/plain": [
       "{'#',\n",
       " '$',\n",
       " '%',\n",
       " '+',\n",
       " '<',\n",
       " '=',\n",
       " '>',\n",
       " '¢',\n",
       " '£',\n",
       " '¤',\n",
       " '¥',\n",
       " '§',\n",
       " '©',\n",
       " '¬',\n",
       " '®',\n",
       " '°',\n",
       " '±',\n",
       " 'µ',\n",
       " '¶',\n",
       " '×',\n",
       " '÷'}"
      ]
     },
     "execution_count": 108,
     "metadata": {},
     "output_type": "execute_result"
    }
   ],
   "source": [
    "from unicodedata import name\n",
    "print(name(chr(100)))   # name() returns long name of that character\n",
    "print(name('d')) \n",
    "{chr(i) for i in range(32, 256) if 'SIGN' in name(chr(i),'')}  # see chars with 'SIGN' in their names\n"
   ]
  },
  {
   "cell_type": "code",
   "execution_count": 7,
   "id": "still-location",
   "metadata": {},
   "outputs": [
    {
     "name": "stdout",
     "output_type": "stream",
     "text": [
      "354905103511653659\n",
      "23058429953\n",
      "46116860417\n",
      "0b10101011110011000111011100000000001\n",
      "0b101010111100110001110111001000000001\n",
      "0b1000000011011001010110010101000000001\n"
     ]
    },
    {
     "ename": "NameError",
     "evalue": "name 'eq' is not defined",
     "output_type": "error",
     "traceback": [
      "\u001b[0;31m---------------------------------------------------------------------------\u001b[0m",
      "\u001b[0;31mNameError\u001b[0m                                 Traceback (most recent call last)",
      "\u001b[0;32m<ipython-input-7-bfd678aa6302>\u001b[0m in \u001b[0;36m<module>\u001b[0;34m\u001b[0m\n\u001b[1;32m     20\u001b[0m \u001b[0;34m\u001b[0m\u001b[0m\n\u001b[1;32m     21\u001b[0m \u001b[0;31m#\u001b[0m\u001b[0;34m\u001b[0m\u001b[0;34m\u001b[0m\u001b[0;34m\u001b[0m\u001b[0m\n\u001b[0;32m---> 22\u001b[0;31m \u001b[0mprint\u001b[0m\u001b[0;34m(\u001b[0m\u001b[0meq\u001b[0m\u001b[0;34m(\u001b[0m\u001b[0;36m1.0\u001b[0m\u001b[0;34m,\u001b[0m \u001b[0;36m1\u001b[0m\u001b[0;34m)\u001b[0m\u001b[0;34m)\u001b[0m\u001b[0;34m\u001b[0m\u001b[0;34m\u001b[0m\u001b[0m\n\u001b[0m\u001b[1;32m     23\u001b[0m \u001b[0;34m\u001b[0m\u001b[0m\n",
      "\u001b[0;31mNameError\u001b[0m: name 'eq' is not defined"
     ]
    }
   ],
   "source": [
    "# hash table is a sparse array. The cells in the table are called 'buckets'\n",
    "# at least a third of buckets are kept empty\n",
    "# a dict hash table has a bucket for each item, which contains a reference to the key and a reference to the value\n",
    "# \n",
    "print(hash('adam'))\n",
    "print(hash(1.00000001))\n",
    "print(hash(1.00000002))\n",
    "\n",
    "# objects that are similar but not equal should have hash values that differ hugely\n",
    "\n",
    "print(bin(hash(1.00000001)))  # view hash codes in binary\n",
    "print(bin(hash(1.00000002)))\n",
    "print(bin(hash(1.00000003)))\n",
    "\n",
    "# not all bits of the hashed value will be used to search a dictionary's hash table: esp for\n",
    "# smaller tables only some are used. If the lookup returns multiple matches this is a 'hash collision',\n",
    "# in which case another sample of bits will be sampled from the input hash and the lookup\n",
    "# tried again. If this still doesnt work you might get an error (IRL it never gets to the point of having an error)\n",
    "# perturb() in C is used to shuffle hash bits in the event of hash collision\n",
    "\n",
    "# whenever an item is added to a dict, it evaluates whether it needs to grow the hash table. This\n",
    "# may also involve reordering the items in the dict, so iterating through it making changes\n",
    "# might get messed up if it reorders itself halfway through your iterating\n",
    "# If you need a dict to be ordered, used collections.OrderedDict\n",
    "\n",
    "# for an object to be hashable it needs to respond to hash() and == operator, which are initialised by defining:\n",
    "# __hash__()\n",
    "# __eq__().   eg: a == b invokes a.__eq__(b)\n",
    "\n",
    "\n",
    "\n"
   ]
  },
  {
   "cell_type": "code",
   "execution_count": null,
   "id": "naughty-abortion",
   "metadata": {},
   "outputs": [],
   "source": [
    "# tuples are more memory efficient than dicts, as dont have to store hash tables\n",
    "\n",
    "# defining __slots__() lets you change how obj's data is stored: it's a dict by default, which might\n",
    "# be generally good, but not always memory-optimal (though with a modern machine, might take a while\n",
    "# before you have to worry about this)\n",
    "\n",
    "#  __missing__() on a dict-type sets what to do if a key can't be found\n",
    "\n"
   ]
  },
  {
   "cell_type": "code",
   "execution_count": null,
   "id": "uniform-minnesota",
   "metadata": {},
   "outputs": [],
   "source": []
  },
  {
   "cell_type": "code",
   "execution_count": null,
   "id": "fifteen-function",
   "metadata": {},
   "outputs": [],
   "source": []
  }
 ],
 "metadata": {
  "kernelspec": {
   "display_name": "Python 3",
   "language": "python",
   "name": "python3"
  },
  "language_info": {
   "codemirror_mode": {
    "name": "ipython",
    "version": 3
   },
   "file_extension": ".py",
   "mimetype": "text/x-python",
   "name": "python",
   "nbconvert_exporter": "python",
   "pygments_lexer": "ipython3",
   "version": "3.9.1"
  }
 },
 "nbformat": 4,
 "nbformat_minor": 5
}
