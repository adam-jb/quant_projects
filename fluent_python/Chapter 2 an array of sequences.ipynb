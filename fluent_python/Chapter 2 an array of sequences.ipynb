{
 "cells": [
  {
   "cell_type": "code",
   "execution_count": null,
   "id": "approximate-musician",
   "metadata": {},
   "outputs": [],
   "source": [
    "# to visualise sequence of execution of python code: https://pythontutor.com/"
   ]
  },
  {
   "cell_type": "code",
   "execution_count": 247,
   "id": "behind-scroll",
   "metadata": {},
   "outputs": [],
   "source": [
    "import numpy as np\n",
    "import array\n",
    "from random import random\n",
    "import time\n",
    "from time import perf_counter as pc\n",
    "from collections import deque\n",
    "import bisect\n",
    "import sys"
   ]
  },
  {
   "cell_type": "code",
   "execution_count": 1,
   "id": "blind-receiver",
   "metadata": {},
   "outputs": [
    {
     "data": {
      "text/plain": [
       "[116, 104, 101, 32, 119, 111, 114, 108, 100]"
      ]
     },
     "execution_count": 1,
     "metadata": {},
     "output_type": "execute_result"
    }
   ],
   "source": [
    "# container sequences: hold data of different types. These hold references to the objs they contain.\n",
    "# flat sequences: hold data of a single type. Tends to store value of each item in that memory space (more compact).\n",
    "\n",
    "# can also classify sequences by (im)mutability\n",
    "\n",
    "# listcomp = list comprehensions. Suggests (convincingly) these are faster and easier to read than map(). \n",
    "# only make lists\n",
    "# These are loops in this style:\n",
    "txt = 'the world'\n",
    "[ord(x) for x in txt]\n"
   ]
  },
  {
   "cell_type": "code",
   "execution_count": 4,
   "id": "vocal-revision",
   "metadata": {},
   "outputs": [
    {
     "data": {
      "text/plain": [
       "[1, 2, 3, 2, 3, 4]"
      ]
     },
     "execution_count": 4,
     "metadata": {},
     "output_type": "execute_result"
    }
   ],
   "source": [
    "[a + b for a in range(1, 3) for b in range(0, 3)]   # nested loops as listcomp"
   ]
  },
  {
   "cell_type": "code",
   "execution_count": 6,
   "id": "outside-tomato",
   "metadata": {},
   "outputs": [
    {
     "data": {
      "text/plain": [
       "(116, 104, 101, 32, 119, 111, 114, 108, 100)"
      ]
     },
     "execution_count": 6,
     "metadata": {},
     "output_type": "execute_result"
    }
   ],
   "source": [
    "# genexps = generator expressions. Similar to listcomps, but can make things other than lists\n",
    "tuple(ord(x) for x in txt)  # tuple() instead of [] returns a tuple instead of list\n"
   ]
  },
  {
   "cell_type": "code",
   "execution_count": 11,
   "id": "optical-headline",
   "metadata": {},
   "outputs": [
    {
     "data": {
      "text/plain": [
       "array('i', [-116, -104, -101, -32, -119, -111, -114, -108, -100])"
      ]
     },
     "execution_count": 11,
     "metadata": {},
     "output_type": "execute_result"
    }
   ],
   "source": [
    "array.array('i',(-ord(x) for x in txt) )  # genexp makes array of signed int \n",
    "# (change i to uppercase to make unsigned int)"
   ]
  },
  {
   "cell_type": "code",
   "execution_count": 21,
   "id": "champion-macintosh",
   "metadata": {},
   "outputs": [
    {
     "name": "stdout",
     "output_type": "stream",
     "text": [
      "sh\n",
      "sh\n",
      "sh\n",
      "nh\n",
      "nh\n",
      "nh\n",
      "vh\n",
      "vh\n",
      "vh\n",
      "kh\n",
      "kh\n",
      "kh\n",
      "bh\n",
      "bh\n",
      "bh\n"
     ]
    }
   ],
   "source": [
    "for t in (a + b for a in 'snvkb' for b in 'hhh'):  # iterating over a generator object\n",
    "    print(t)"
   ]
  },
  {
   "cell_type": "code",
   "execution_count": 24,
   "id": "invalid-lotus",
   "metadata": {},
   "outputs": [
    {
     "name": "stdout",
     "output_type": "stream",
     "text": [
      "adam, 17\n",
      "jen, 20\n"
     ]
    },
    {
     "data": {
      "text/plain": [
       "[None, None]"
      ]
     },
     "execution_count": 24,
     "metadata": {},
     "output_type": "execute_result"
    }
   ],
   "source": [
    "# tuples: more than just immutable lists. \n",
    "# Also useful as records without field names: order of fields is critical\n",
    "people = [('adam', 17), ('jen', 20)]\n",
    "[print('%s, %s' % person) for person in people]  # '%' treats each each tuple's item as a separate field\n"
   ]
  },
  {
   "cell_type": "code",
   "execution_count": 30,
   "id": "eleven-mainstream",
   "metadata": {},
   "outputs": [
    {
     "data": {
      "text/plain": [
       "('adam', 17)"
      ]
     },
     "execution_count": 30,
     "metadata": {},
     "output_type": "execute_result"
    }
   ],
   "source": [
    "firstname, age = people[0]  # tuples can be 'unpacked' as here, and print() in the cell above, and other methods\n",
    "people[0]"
   ]
  },
  {
   "cell_type": "code",
   "execution_count": 34,
   "id": "roman-circular",
   "metadata": {},
   "outputs": [
    {
     "data": {
      "text/plain": [
       "(0, 3)"
      ]
     },
     "execution_count": 34,
     "metadata": {},
     "output_type": "execute_result"
    }
   ],
   "source": [
    "vals = (3, 8)\n",
    "divmod(*vals)  # unpack tuples directly into function inputs"
   ]
  },
  {
   "cell_type": "code",
   "execution_count": 39,
   "id": "fantastic-negative",
   "metadata": {},
   "outputs": [
    {
     "name": "stdout",
     "output_type": "stream",
     "text": [
      "[2, 3, 4, 5, 6]\n",
      "[1, 2, 3, 4, 5]\n"
     ]
    }
   ],
   "source": [
    "a, b, *rest = range(7)  # rest mops up all but the first two values as it's own tuple\n",
    "print(rest)\n",
    "a, *rest, b = range(7)   # mops up all but first and last values\n",
    "print(rest)"
   ]
  },
  {
   "cell_type": "code",
   "execution_count": 41,
   "id": "celtic-finance",
   "metadata": {},
   "outputs": [
    {
     "name": "stdout",
     "output_type": "stream",
     "text": [
      "35.689722 139.691667\n",
      "28.613889 77.208889\n"
     ]
    }
   ],
   "source": [
    "# extract embedded coords in embedded tuple\n",
    "metro_areas = [ ('Tokyo','JP',36.933,(35.689722,139.691667)), \n",
    "               ('Delhi NCR', 'IN', 21.935, (28.613889, 77.208889))]\n",
    "for name, cc, pop, (latitude, longitude) in metro_areas:   \n",
    "    print(str(latitude) + ' ' + str(longitude))"
   ]
  },
  {
   "cell_type": "code",
   "execution_count": 44,
   "id": "sweet-milton",
   "metadata": {},
   "outputs": [
    {
     "data": {
      "text/plain": [
       "36.933"
      ]
     },
     "execution_count": 44,
     "metadata": {},
     "output_type": "execute_result"
    }
   ],
   "source": [
    "# named tuples seem like classes: need to be defined\n",
    "from collections import namedtuple\n",
    "City = namedtuple('City', 'name country population coordinates') # sets names of fields, separated by spaces\n",
    "tokyo = City('Tokyo', 'JP', 36.933, (35.689722, 139.691667))\n",
    "tokyo.population"
   ]
  },
  {
   "cell_type": "code",
   "execution_count": 47,
   "id": "behind-sheffield",
   "metadata": {},
   "outputs": [
    {
     "data": {
      "text/plain": [
       "{'name': 'London',\n",
       " 'country': 'UK',\n",
       " 'population': 36.933,\n",
       " 'coordinates': (35.689722, 139.691667)}"
      ]
     },
     "execution_count": 47,
     "metadata": {},
     "output_type": "execute_result"
    }
   ],
   "source": [
    "london_data = ('London', 'UK', 36.933, (35.689722, 139.691667))\n",
    "london = City._make(london_data)  # alternative way of making namedtuple\n",
    "london._asdict()     "
   ]
  },
  {
   "cell_type": "code",
   "execution_count": 61,
   "id": "hungarian-payday",
   "metadata": {},
   "outputs": [
    {
     "name": "stdout",
     "output_type": "stream",
     "text": [
      "12\n",
      "<reversed object at 0x1029d7c40>\n"
     ]
    },
    {
     "data": {
      "text/plain": [
       "[4, 2, 1]"
      ]
     },
     "execution_count": 61,
     "metadata": {},
     "output_type": "execute_result"
    }
   ],
   "source": [
    "a = (1, 2, 4, 5)\n",
    "print(sum(a))   # tuples support same methods as lists, apart from .reverse() - use reversed(tuple) instead\n",
    "\n",
    "\n",
    "a = [1, 2, 4]\n",
    "a.reverse()\n",
    "a"
   ]
  },
  {
   "cell_type": "code",
   "execution_count": 63,
   "id": "light-uganda",
   "metadata": {},
   "outputs": [
    {
     "name": "stdout",
     "output_type": "stream",
     "text": [
      "[0, 1, 2, 3, 4]\n",
      "[5, 6, 7, 8, 9, 10]\n"
     ]
    }
   ],
   "source": [
    "a = list(range(11))\n",
    "print(a[:5])    # easy to split lists in half as use same number in index, just change position of :\n",
    "print(a[5:])"
   ]
  },
  {
   "cell_type": "code",
   "execution_count": 86,
   "id": "brief-probe",
   "metadata": {},
   "outputs": [
    {
     "name": "stdout",
     "output_type": "stream",
     "text": [
      "bye\n",
      "bcce\n",
      "icycle\n",
      "iy\n",
      "iyl\n",
      "elcycib\n",
      "eccb\n",
      "eyb\n"
     ]
    }
   ],
   "source": [
    "# slicing backwards and with leaps \n",
    "s = 'bicycle'\n",
    "print(s[::3])  # every 3rd letter\n",
    "print(s[::2])\n",
    "print(s[1::1])\n",
    "print(s[1:4:2])\n",
    "print(s[1::2])\n",
    "print(s[::-1])\n",
    "print(s[::-2])\n",
    "print(s[::-3])\n",
    "\n",
    "# behind the scenes python is calling seq.__getitem__(slice(start, stop, step))"
   ]
  },
  {
   "cell_type": "code",
   "execution_count": 93,
   "id": "complete-doctrine",
   "metadata": {},
   "outputs": [
    {
     "data": {
      "text/plain": [
       "Ellipsis"
      ]
     },
     "execution_count": 93,
     "metadata": {},
     "output_type": "execute_result"
    }
   ],
   "source": [
    "# all base python sequences are 1-dimensional, unlike some in packages (Eg numpy)\n",
    "\n",
    "# ...  = alias of the \"Ellipsis\" obj\n",
    "# ... can be put as part of a function input\n",
    "..."
   ]
  },
  {
   "cell_type": "code",
   "execution_count": 109,
   "id": "velvet-hazard",
   "metadata": {},
   "outputs": [
    {
     "name": "stdout",
     "output_type": "stream",
     "text": [
      "[[[18 19 20]\n",
      "  [21 22 23]]\n",
      "\n",
      " [[24 25 26]\n",
      "  [27 28 29]]\n",
      "\n",
      " [[30 31 32]\n",
      "  [33 34 35]]]\n",
      "2nd:\n",
      "[[19 22]\n",
      " [25 28]\n",
      " [31 34]]\n"
     ]
    }
   ],
   "source": [
    "a = np.arange(72)\n",
    "a = np.reshape(a, (4,3,2,3))  # these 2 lines make dummy 4d array\n",
    "\n",
    "a[1, :, :, :,]   # slice by first dimension\n",
    "print(a[1, ...])        # Ellipsis gives shorthand for same thing\n",
    "print('2nd:')\n",
    "print(a[1, ..., 1] )  "
   ]
  },
  {
   "cell_type": "code",
   "execution_count": 111,
   "id": "supposed-trinidad",
   "metadata": {},
   "outputs": [
    {
     "name": "stdout",
     "output_type": "stream",
     "text": [
      "(1, 2, 3, 1, 2, 3, 1, 2, 3, 1, 2, 3, 1, 2, 3)\n",
      "absabsabsabsabs\n"
     ]
    }
   ],
   "source": [
    "print((1, 2, 3) * 5)\n",
    "print('abs' * 5)"
   ]
  },
  {
   "cell_type": "code",
   "execution_count": 113,
   "id": "changed-retailer",
   "metadata": {},
   "outputs": [
    {
     "data": {
      "text/plain": [
       "[['_', '_', '_'], ['_', '_', '_'], ['_', '_', '_']]"
      ]
     },
     "execution_count": 113,
     "metadata": {},
     "output_type": "execute_result"
    }
   ],
   "source": [
    "[ ['_'] * 3 for x in range(3)]  # making list of lists"
   ]
  },
  {
   "cell_type": "code",
   "execution_count": 117,
   "id": "constant-luther",
   "metadata": {},
   "outputs": [
    {
     "name": "stdout",
     "output_type": "stream",
     "text": [
      "5\n",
      "25\n"
     ]
    }
   ],
   "source": [
    "# += refers to __iadd__ method (in place addition)\n",
    "a = 1\n",
    "a += 4\n",
    "print(a)\n",
    "\n",
    "a *= 5   # __imul__\n",
    "print(a)"
   ]
  },
  {
   "cell_type": "code",
   "execution_count": 120,
   "id": "arabic-attraction",
   "metadata": {},
   "outputs": [
    {
     "data": {
      "text/plain": [
       "4301827120"
      ]
     },
     "execution_count": 120,
     "metadata": {},
     "output_type": "execute_result"
    }
   ],
   "source": [
    "id(a)   # identity value of the object"
   ]
  },
  {
   "cell_type": "code",
   "execution_count": 126,
   "id": "stable-voluntary",
   "metadata": {},
   "outputs": [
    {
     "name": "stdout",
     "output_type": "stream",
     "text": [
      "  1           0 LOAD_NAME                0 (a)\n",
      "              2 LOAD_CONST               0 (5)\n",
      "              4 INPLACE_ADD\n",
      "              6 STORE_NAME               0 (a)\n",
      "              8 LOAD_CONST               1 (None)\n",
      "             10 RETURN_VALUE\n"
     ]
    }
   ],
   "source": [
    "import dis\n",
    "dis.dis('a += 5')  # view bytecode execution"
   ]
  },
  {
   "cell_type": "code",
   "execution_count": 133,
   "id": "fifty-awareness",
   "metadata": {},
   "outputs": [
    {
     "ename": "AttributeError",
     "evalue": "'Bytecode' object has no attribute 'disassemble'",
     "output_type": "error",
     "traceback": [
      "\u001b[0;31m---------------------------------------------------------------------------\u001b[0m",
      "\u001b[0;31mAttributeError\u001b[0m                            Traceback (most recent call last)",
      "\u001b[0;32m<ipython-input-133-d66834d68d34>\u001b[0m in \u001b[0;36m<module>\u001b[0;34m\u001b[0m\n\u001b[1;32m      1\u001b[0m \u001b[0mbcode\u001b[0m \u001b[0;34m=\u001b[0m \u001b[0mdis\u001b[0m\u001b[0;34m.\u001b[0m\u001b[0mBytecode\u001b[0m\u001b[0;34m(\u001b[0m\u001b[0;34m'a += 5'\u001b[0m\u001b[0;34m)\u001b[0m\u001b[0;34m\u001b[0m\u001b[0;34m\u001b[0m\u001b[0m\n\u001b[1;32m      2\u001b[0m \u001b[0mdis\u001b[0m\u001b[0;34m.\u001b[0m\u001b[0mcode_info\u001b[0m\u001b[0;34m(\u001b[0m\u001b[0;34m'a += 5'\u001b[0m\u001b[0;34m)\u001b[0m\u001b[0;34m\u001b[0m\u001b[0;34m\u001b[0m\u001b[0m\n\u001b[0;32m----> 3\u001b[0;31m \u001b[0mbcode\u001b[0m\u001b[0;34m.\u001b[0m\u001b[0mdisassemble\u001b[0m\u001b[0;34m(\u001b[0m\u001b[0;34m)\u001b[0m\u001b[0;34m\u001b[0m\u001b[0;34m\u001b[0m\u001b[0m\n\u001b[0m",
      "\u001b[0;31mAttributeError\u001b[0m: 'Bytecode' object has no attribute 'disassemble'"
     ]
    }
   ],
   "source": [
    "# see more on looking at bytecode compilation with dis module: https://docs.python.org/3/library/dis.html\n",
    "dis.code_info('a += 5')\n"
   ]
  },
  {
   "cell_type": "code",
   "execution_count": 139,
   "id": "possible-mexico",
   "metadata": {},
   "outputs": [
    {
     "data": {
      "text/plain": [
       "['osnvlkrv', 'ons', 'hi']"
      ]
     },
     "execution_count": 139,
     "metadata": {},
     "output_type": "execute_result"
    }
   ],
   "source": [
    "a = ['hi', 'osnvlkrv', 'ons']\n",
    "a.sort(reverse = True, key = len)     # inplace by default; returns None so can't chain dot operations\n",
    "a          # on row about 'key' sets criteria for sorting\n",
    "\n",
    "# sequences should be sorted for fast searching"
   ]
  },
  {
   "cell_type": "code",
   "execution_count": 143,
   "id": "corrected-connection",
   "metadata": {},
   "outputs": [],
   "source": []
  },
  {
   "cell_type": "code",
   "execution_count": 157,
   "id": "artistic-technician",
   "metadata": {},
   "outputs": [
    {
     "data": {
      "text/plain": [
       "2"
      ]
     },
     "execution_count": 157,
     "metadata": {},
     "output_type": "execute_result"
    }
   ],
   "source": [
    "HAYSTACK = [1, 4, 5, 6, 8, 12, 15, 20, 21, 23, 23, 26, 29, 30]\n",
    "needle = 5\n",
    "idx = bisect.bisect_right(HAYSTACK, needle)  # left/right sets which side of identical values we return for \"needle\" value\n",
    "bisect.bisect_left(HAYSTACK, needle)"
   ]
  },
  {
   "cell_type": "code",
   "execution_count": 158,
   "id": "expensive-sunset",
   "metadata": {},
   "outputs": [
    {
     "data": {
      "text/plain": [
       "[1, 4, 5, 6, 8, 3, 12, 15, 20, 21, 23, 23, 26, 29, 30]"
      ]
     },
     "execution_count": 158,
     "metadata": {},
     "output_type": "execute_result"
    }
   ],
   "source": [
    "HAYSTACK.insert(idx, needle)\n",
    "HAYSTACK"
   ]
  },
  {
   "cell_type": "code",
   "execution_count": 160,
   "id": "western-election",
   "metadata": {},
   "outputs": [
    {
     "data": {
      "text/plain": [
       "[1, 4, 5, 5, 6, 8, 12, 15, 20, 21, 23, 23, 26, 29, 30]"
      ]
     },
     "execution_count": 160,
     "metadata": {},
     "output_type": "execute_result"
    }
   ],
   "source": [
    "# more efficienct than cell above is bisect.insort() which combined bisect() and insert()\n",
    "HAYSTACK = [1, 4, 5, 6, 8, 12, 15, 20, 21, 23, 23, 26, 29, 30]\n",
    "needle = 5\n",
    "bisect.insort(HAYSTACK, needle)   # equiv of bisect_right and insert. insort_left() for bisect_left() equiv\n",
    "HAYSTACK"
   ]
  },
  {
   "cell_type": "code",
   "execution_count": 186,
   "id": "noted-consequence",
   "metadata": {},
   "outputs": [
    {
     "data": {
      "text/plain": [
       "81940352"
      ]
     },
     "execution_count": 186,
     "metadata": {},
     "output_type": "execute_result"
    }
   ],
   "source": [
    "# says if you're using lists of numbers, better to put them in arrays\n",
    "# if adding and removing items from ends of array, better to use a deque (double ended queue)\n",
    "\n",
    "# arrays are as lean as arrays in C. for example, making an array of 10 million 8byte floats. Will be close to 8*10^7 bytes\n",
    "# in size, having little overhead \n",
    "floats = array.array('d', (random() for i in range(10**7)))   # takes 3-4 seconds to make 10m values\n",
    "sys.getsizeof(floats)"
   ]
  },
  {
   "cell_type": "code",
   "execution_count": 190,
   "id": "fitted-version",
   "metadata": {},
   "outputs": [
    {
     "data": {
      "text/plain": [
       "1.3570830821990967"
      ]
     },
     "execution_count": 190,
     "metadata": {},
     "output_type": "execute_result"
    }
   ],
   "source": [
    "a = time.time()\n",
    "floats2 = [f * 2 for f in floats]\n",
    "b = time.time()\n",
    "b - a   # just over 1 second to multiply 10m values: arrays are fast!"
   ]
  },
  {
   "cell_type": "code",
   "execution_count": 193,
   "id": "aquatic-better",
   "metadata": {},
   "outputs": [
    {
     "data": {
      "text/plain": [
       "[1.1134023770386026,\n",
       " 1.7309273672306238,\n",
       " 1.1847057096754787,\n",
       " 1.9812085789342493,\n",
       " 1.7306939014870493,\n",
       " 1.8411784759096046,\n",
       " 1.204247133724379,\n",
       " 0.6918232415303285,\n",
       " 0.7868675689353266,\n",
       " 1.4358686357448047]"
      ]
     },
     "execution_count": 193,
     "metadata": {},
     "output_type": "execute_result"
    }
   ],
   "source": [
    "floats2[:10]"
   ]
  },
  {
   "cell_type": "code",
   "execution_count": 169,
   "id": "eleven-period",
   "metadata": {},
   "outputs": [
    {
     "data": {
      "text/plain": [
       "184"
      ]
     },
     "execution_count": 169,
     "metadata": {},
     "output_type": "execute_result"
    }
   ],
   "source": [
    "# sets are optimised for fast membership checking: good if you need to know if someone is in a group\n",
    "# sets arent ordered, just key values"
   ]
  },
  {
   "cell_type": "code",
   "execution_count": null,
   "id": "tight-performer",
   "metadata": {},
   "outputs": [],
   "source": [
    "sys.getsizeof(HAYSTACK)  # size of object in bytes"
   ]
  },
  {
   "cell_type": "code",
   "execution_count": null,
   "id": "supreme-mapping",
   "metadata": {},
   "outputs": [],
   "source": [
    "# pickle.dump as a good way of saving arrays and more flexible with object structures and formatting"
   ]
  },
  {
   "cell_type": "code",
   "execution_count": 195,
   "id": "acute-display",
   "metadata": {},
   "outputs": [
    {
     "data": {
      "text/plain": [
       "[3.814934779189372e-07,\n",
       " 5.731365886330053e-07,\n",
       " 6.191980364000926e-07,\n",
       " 6.871367632665937e-07,\n",
       " 7.930918486387384e-07,\n",
       " 1.1726723645466564e-06,\n",
       " 1.9383024376651292e-06,\n",
       " 2.1088299060334492e-06,\n",
       " 2.136180758283146e-06,\n",
       " 2.1808767001196827e-06]"
      ]
     },
     "execution_count": 195,
     "metadata": {},
     "output_type": "execute_result"
    }
   ],
   "source": [
    "floats2 = sorted(floats2)\n",
    "floats2[:10]"
   ]
  },
  {
   "cell_type": "code",
   "execution_count": 217,
   "id": "coupled-sperm",
   "metadata": {},
   "outputs": [
    {
     "data": {
      "text/plain": [
       "array('h', [-2, -1, 1024, 1, 2])"
      ]
     },
     "execution_count": 217,
     "metadata": {},
     "output_type": "execute_result"
    }
   ],
   "source": [
    "# Memory View ('memorview' class) = sequence type that can slice arrays without copying bytes\n",
    "# inspired by NumPy, but isnt' limited to that, includes sql DBs, PIL images, etc\n",
    "# Much faster than methods that involve copying bytes\n",
    "numbers = array.array('h', [-2, -1, 0, 1, 2])\n",
    "memv = memoryview(numbers)\n",
    "memv_oct = memv.cast('B')  # setting up to look at Bytes\n",
    "memv_oct[5] = 4  # changing one of the bytes, which chanegs the memory view obj \n",
    "                    # and the 'numbers' obj it points at\n",
    "numbers         \n",
    "# this can be a fast way to do things\n",
    "\n",
    "\n",
    "# SciPy is based on C and Fortran, so it's very fast"
   ]
  },
  {
   "cell_type": "code",
   "execution_count": 222,
   "id": "fatal-digit",
   "metadata": {},
   "outputs": [
    {
     "data": {
      "text/plain": [
       "array([[ 0,  1,  2,  3,  4],\n",
       "       [ 5,  6,  7,  8,  9],\n",
       "       [10, 11, 12, 13, 14],\n",
       "       [15, 16, 17, 18, 19]])"
      ]
     },
     "execution_count": 222,
     "metadata": {},
     "output_type": "execute_result"
    }
   ],
   "source": [
    "a = np.arange(20)\n",
    "a.shape = 4, 5\n",
    "a"
   ]
  },
  {
   "cell_type": "code",
   "execution_count": 229,
   "id": "molecular-buddy",
   "metadata": {},
   "outputs": [
    {
     "data": {
      "text/plain": [
       "0.11609937899993383"
      ]
     },
     "execution_count": 229,
     "metadata": {},
     "output_type": "execute_result"
    }
   ],
   "source": [
    "floats_np = np.array(floats)\n",
    "t0 = pc(); floats2 = floats * 2; pc() - t0  # 0.1 seconds: much faster than listcomp. So use numpy for array maths!"
   ]
  },
  {
   "cell_type": "code",
   "execution_count": 234,
   "id": "underlying-excitement",
   "metadata": {},
   "outputs": [
    {
     "data": {
      "text/plain": [
       "array([ 0,  1,  2,  3,  4,  5,  6,  7,  8,  9, 10, 11, 12, 13, 14, 15, 16,\n",
       "       17, 18, 19], dtype=int8)"
      ]
     },
     "execution_count": 234,
     "metadata": {},
     "output_type": "execute_result"
    }
   ],
   "source": [
    "# making an 8-bit array in numpy\n",
    "dt = np.dtype(np.int8)  \n",
    "x = np.array(range(20), dtype=dt)\n",
    "x"
   ]
  },
  {
   "cell_type": "code",
   "execution_count": 246,
   "id": "universal-speaking",
   "metadata": {},
   "outputs": [
    {
     "name": "stdout",
     "output_type": "stream",
     "text": [
      "deque([0, 1, 2, 3, 4, 5, 6, 7, 8, 9], maxlen=20)\n",
      "deque([5, 6, 7, 8, 9, 0, 1, 2, 3, 4], maxlen=20)\n",
      "deque([5, 6, 7, 8, 9, 0, 1, 2, 3, 4, 99, 100, 101, 102, 103], maxlen=20)\n",
      "deque([496, 492, 488, 484, 480, 476, 472, 468, 464, 460, 456, 452, 448, 444, 440, 436, 432, 428, 424, 420], maxlen=20)\n"
     ]
    }
   ],
   "source": [
    "dq = deque(range(10), maxlen=20)  # a double queue\n",
    "print(dq)\n",
    "dq.rotate(5)   \n",
    "print(dq)\n",
    "dq.extend(range(99, 104))\n",
    "print(dq)\n",
    "dq.extendleft(range(100, 500, 4))  # overwrites as many data up to maxlen limit\n",
    "print(dq)   \n",
    "\n",
    "# queue stores data in order with first-in-first-out approach"
   ]
  }
 ],
 "metadata": {
  "kernelspec": {
   "display_name": "Python 3",
   "language": "python",
   "name": "python3"
  },
  "language_info": {
   "codemirror_mode": {
    "name": "ipython",
    "version": 3
   },
   "file_extension": ".py",
   "mimetype": "text/x-python",
   "name": "python",
   "nbconvert_exporter": "python",
   "pygments_lexer": "ipython3",
   "version": "3.9.1"
  }
 },
 "nbformat": 4,
 "nbformat_minor": 5
}
