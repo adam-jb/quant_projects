{
 "cells": [
  {
   "cell_type": "code",
   "execution_count": 224,
   "id": "bearing-bosnia",
   "metadata": {},
   "outputs": [],
   "source": [
    "\n",
    "# Notes from https://learn.datacamp.com/courses/introduction-to-portfolio-risk-management-in-python\n",
    "\n",
    "import numpy as np\n",
    "import pandas as pd\n",
    "import os\n",
    "import matplotlib.pyplot as plt\n",
    "from scipy.stats import skew, kurtosis, shapiro, norm, t\n",
    "import statsmodels.formula.api as smf\n"
   ]
  },
  {
   "cell_type": "code",
   "execution_count": 6,
   "id": "stopped-there",
   "metadata": {},
   "outputs": [
    {
     "name": "stdout",
     "output_type": "stream",
     "text": [
      "0.999999695226903\n"
     ]
    },
    {
     "data": {
      "text/plain": [
       "1.999999390453806"
      ]
     },
     "execution_count": 6,
     "metadata": {},
     "output_type": "execute_result"
    }
   ],
   "source": [
    "# log returns: for compounding\n",
    "def log_return(portfolio_time1, portfolio_time2):\n",
    "    return np.log(portfolio_time2) - np.log(portfolio_time1)  # np.log() = ln()\n",
    "\n",
    "\n",
    "print(np.log(2.718281))  # confirm to base of e\n",
    "np.log(np.power(2.718281, 2))"
   ]
  },
  {
   "cell_type": "code",
   "execution_count": 28,
   "id": "coordinated-genre",
   "metadata": {},
   "outputs": [
    {
     "name": "stdout",
     "output_type": "stream",
     "text": [
      "stocks: ['iba.us.txt', 'wpz.us.txt', 'opnt.us.txt', 'indf.us.txt', 'flic.us.txt']\n",
      "Open       float64\n",
      "High       float64\n",
      "Low        float64\n",
      "Close      float64\n",
      "Volume       int64\n",
      "OpenInt      int64\n",
      "dtype: object\n"
     ]
    }
   ],
   "source": [
    "# get stock for a company\n",
    "os.chdir('/Users/apple/Desktop/quant_py_notebooks/kaggle_finance_data/Stocks')\n",
    "print('stocks: ' + str(os.listdir()[:5]))\n",
    "\n",
    "wpz = pd.read_csv('wpz.us.txt', parse_dates = ['Date'])  # tell it which columns to treat as a date\n",
    "wpz = wpz.sort_values(by = 'Date')\n",
    "wpz.set_index('Date', inplace = True)\n",
    "\n",
    "print(wpz.dtypes)"
   ]
  },
  {
   "cell_type": "code",
   "execution_count": 33,
   "id": "subject-hebrew",
   "metadata": {},
   "outputs": [
    {
     "data": {
      "text/html": [
       "<div>\n",
       "<style scoped>\n",
       "    .dataframe tbody tr th:only-of-type {\n",
       "        vertical-align: middle;\n",
       "    }\n",
       "\n",
       "    .dataframe tbody tr th {\n",
       "        vertical-align: top;\n",
       "    }\n",
       "\n",
       "    .dataframe thead th {\n",
       "        text-align: right;\n",
       "    }\n",
       "</style>\n",
       "<table border=\"1\" class=\"dataframe\">\n",
       "  <thead>\n",
       "    <tr style=\"text-align: right;\">\n",
       "      <th></th>\n",
       "      <th>Open</th>\n",
       "      <th>High</th>\n",
       "      <th>Low</th>\n",
       "      <th>Close</th>\n",
       "      <th>Volume</th>\n",
       "      <th>OpenInt</th>\n",
       "      <th>returns</th>\n",
       "    </tr>\n",
       "    <tr>\n",
       "      <th>Date</th>\n",
       "      <th></th>\n",
       "      <th></th>\n",
       "      <th></th>\n",
       "      <th></th>\n",
       "      <th></th>\n",
       "      <th></th>\n",
       "      <th></th>\n",
       "    </tr>\n",
       "  </thead>\n",
       "  <tbody>\n",
       "    <tr>\n",
       "      <th>2005-08-16</th>\n",
       "      <td>15.297</td>\n",
       "      <td>15.297</td>\n",
       "      <td>15.297</td>\n",
       "      <td>15.297</td>\n",
       "      <td>0</td>\n",
       "      <td>0</td>\n",
       "      <td>NaN</td>\n",
       "    </tr>\n",
       "    <tr>\n",
       "      <th>2005-08-18</th>\n",
       "      <td>17.716</td>\n",
       "      <td>19.033</td>\n",
       "      <td>17.707</td>\n",
       "      <td>18.142</td>\n",
       "      <td>5107636</td>\n",
       "      <td>0</td>\n",
       "      <td>0.244231</td>\n",
       "    </tr>\n",
       "    <tr>\n",
       "      <th>2005-08-19</th>\n",
       "      <td>18.142</td>\n",
       "      <td>18.568</td>\n",
       "      <td>18.142</td>\n",
       "      <td>18.427</td>\n",
       "      <td>474374</td>\n",
       "      <td>0</td>\n",
       "      <td>-0.024431</td>\n",
       "    </tr>\n",
       "    <tr>\n",
       "      <th>2005-08-22</th>\n",
       "      <td>18.536</td>\n",
       "      <td>18.776</td>\n",
       "      <td>18.447</td>\n",
       "      <td>18.719</td>\n",
       "      <td>257919</td>\n",
       "      <td>0</td>\n",
       "      <td>0.011202</td>\n",
       "    </tr>\n",
       "    <tr>\n",
       "      <th>2005-08-23</th>\n",
       "      <td>18.812</td>\n",
       "      <td>19.637</td>\n",
       "      <td>18.766</td>\n",
       "      <td>19.341</td>\n",
       "      <td>292214</td>\n",
       "      <td>0</td>\n",
       "      <td>0.045856</td>\n",
       "    </tr>\n",
       "  </tbody>\n",
       "</table>\n",
       "</div>"
      ],
      "text/plain": [
       "              Open    High     Low   Close   Volume  OpenInt   returns\n",
       "Date                                                                  \n",
       "2005-08-16  15.297  15.297  15.297  15.297        0        0       NaN\n",
       "2005-08-18  17.716  19.033  17.707  18.142  5107636        0  0.244231\n",
       "2005-08-19  18.142  18.568  18.142  18.427   474374        0 -0.024431\n",
       "2005-08-22  18.536  18.776  18.447  18.719   257919        0  0.011202\n",
       "2005-08-23  18.812  19.637  18.766  19.341   292214        0  0.045856"
      ]
     },
     "execution_count": 33,
     "metadata": {},
     "output_type": "execute_result"
    }
   ],
   "source": [
    "wpz['returns'] = wpz.High.pct_change()  # calc change from previous value in column 'High'\n",
    "wpz.head()"
   ]
  },
  {
   "cell_type": "code",
   "execution_count": 40,
   "id": "amazing-window",
   "metadata": {},
   "outputs": [
    {
     "data": {
      "image/png": "[encoded data removed]",
      "text/plain": [
       "<Figure size 432x288 with 1 Axes>"
      ]
     },
     "metadata": {
      "needs_background": "light"
     },
     "output_type": "display_data"
    }
   ],
   "source": [
    "plt.hist(wpz['returns'].dropna(), bins = 60, density = False) # density=F makes freq appear on y axis, not probability\n",
    "plt.show()"
   ]
  },
  {
   "cell_type": "code",
   "execution_count": 51,
   "id": "residential-certification",
   "metadata": {},
   "outputs": [
    {
     "name": "stdout",
     "output_type": "stream",
     "text": [
      "annual return of: 0.1467947660454485\n",
      "0.02252452025630455\n",
      "volatility scales with sqrt of days trading:  0.35756567399531214\n",
      "volatility scales with sqrt of days trading:  0.10322031906708172\n"
     ]
    }
   ],
   "source": [
    "print('annual return of: ' + str((1 + np.mean(wpz.returns))**252 - 1))  # 252 trading days in a year\n",
    "print(np.std(wpz.returns))  # sdev\n",
    "\n",
    "print('volatility annual: ', str(np.std(wpz.returns) * np.sqrt(252)))\n",
    "print('volatility monthly: ', str(np.std(wpz.returns) * np.sqrt(252 / 12)))\n",
    "print('volatility scales with sqrt of days trading: linked to SD being square root of the variance')"
   ]
  },
  {
   "cell_type": "code",
   "execution_count": 54,
   "id": "artificial-execution",
   "metadata": {},
   "outputs": [
    {
     "data": {
      "text/plain": [
       "1.1520306018605941"
      ]
     },
     "execution_count": 54,
     "metadata": {},
     "output_type": "execute_result"
    }
   ],
   "source": [
    "skew(wpz.returns.dropna())  # skew above 0 suggests non-normality: >0 means positive skew (mean=higher than median)"
   ]
  },
  {
   "cell_type": "code",
   "execution_count": 58,
   "id": "accepted-browse",
   "metadata": {},
   "outputs": [
    {
     "name": "stdout",
     "output_type": "stream",
     "text": [
      "kurtosis :16.008408023061946\n"
     ]
    }
   ],
   "source": [
    "# Leptokurtic = tend to have kurtoisis above 3 (which is a expected value for kurtosis in normal distribution)\n",
    "\n",
    "def excess_kurtosis(input_kurtosis):\n",
    "    return input_kurtosis - 3 \n",
    "\n",
    "print('kurtosis :' + str(excess_kurtosis(kurtosis(wpz.returns.dropna()) )))\n",
    "\n",
    "# high kurtosis = 'thick tails', which outliers with high positive returns are more common"
   ]
  },
  {
   "cell_type": "code",
   "execution_count": 62,
   "id": "optimum-husband",
   "metadata": {},
   "outputs": [
    {
     "data": {
      "text/plain": [
       "ShapiroResult(statistic=0.8140473365783691, pvalue=0.0)"
      ]
     },
     "execution_count": 62,
     "metadata": {},
     "output_type": "execute_result"
    }
   ],
   "source": [
    "# shapiro-wilk test for normality\n",
    "shapiro(wpz.returns.dropna())    # p-value below 0.05 suggests data isnt normally distributed"
   ]
  },
  {
   "cell_type": "code",
   "execution_count": 82,
   "id": "systematic-quest",
   "metadata": {},
   "outputs": [],
   "source": [
    "# getting stocks for more companies\n",
    "opnt = pd.read_csv('opnt.us.txt', parse_dates = ['Date'])  # tell it which columns to treat as a date\n",
    "opnt = opnt.sort_values(by = 'Date')\n",
    "opnt.set_index('Date', inplace = True)\n",
    "opnt['returns'] = opnt.High.pct_change() \n",
    "\n",
    "\n",
    "flic = pd.read_csv('flic.us.txt', parse_dates = ['Date'])  # tell it which columns to treat as a date\n",
    "flic = flic.sort_values(by = 'Date')\n",
    "flic.set_index('Date', inplace = True)\n",
    "flic['returns'] = flic.High.pct_change() \n"
   ]
  },
  {
   "cell_type": "code",
   "execution_count": 72,
   "id": "elegant-butterfly",
   "metadata": {},
   "outputs": [
    {
     "name": "stdout",
     "output_type": "stream",
     "text": [
      "[1 1 1 1 1]\n",
      "Date\n",
      "2017-08-29    279.5\n",
      "2017-08-30    363.0\n",
      "2017-08-31    366.0\n",
      "2017-09-01    405.0\n",
      "2017-09-05    400.0\n",
      "Name: High, dtype: float64\n"
     ]
    }
   ],
   "source": [
    "print(np.repeat(1, 5))\n",
    "print(opnt.High.mul(10).head())  # multiply all values in col 'High' by 10"
   ]
  },
  {
   "cell_type": "code",
   "execution_count": 75,
   "id": "grave-candidate",
   "metadata": {},
   "outputs": [
    {
     "data": {
      "text/plain": [
       "[<matplotlib.lines.Line2D at 0x13e647640>]"
      ]
     },
     "execution_count": 75,
     "metadata": {},
     "output_type": "execute_result"
    },
    {
     "data": {
      "image/png": "[encoded data removed]",
      "text/plain": [
       "<Figure size 432x288 with 1 Axes>"
      ]
     },
     "metadata": {
      "needs_background": "light"
     },
     "output_type": "display_data"
    }
   ],
   "source": [
    "flic['cumulative_returns'] = (1 + flic.returns).cumprod() - 1\n",
    "plt.plot(flic['cumulative_returns'])"
   ]
  },
  {
   "cell_type": "code",
   "execution_count": 102,
   "id": "sustained-benefit",
   "metadata": {},
   "outputs": [
    {
     "name": "stdout",
     "output_type": "stream",
     "text": [
      "           returns_x  returns_y   returns\n",
      "returns_x   1.000000  -0.125084  0.163866\n",
      "returns_y  -0.125084   1.000000 -0.146104\n",
      "returns     0.163866  -0.146104  1.000000\n"
     ]
    }
   ],
   "source": [
    "# to get correlation between all stocks\n",
    "stocks = wpz.merge(opnt, how = 'inner', on = 'Date').merge(flic, how = 'inner', on = 'Date')\n",
    "stock_returns = stocks[['returns_x', 'returns_y', 'returns']]\n",
    "print(stock_returns.corr())\n",
    "\n"
   ]
  },
  {
   "cell_type": "code",
   "execution_count": 103,
   "id": "stupid-boost",
   "metadata": {},
   "outputs": [
    {
     "name": "stdout",
     "output_type": "stream",
     "text": [
      "           returns_x  returns_y   returns\n",
      "returns_x   0.000100  -0.000156  0.000027\n",
      "returns_y  -0.000156   0.015229 -0.000300\n",
      "returns     0.000027  -0.000300  0.000272\n"
     ]
    }
   ],
   "source": [
    "print(stock_returns.cov())   # correlation is scaled covariance"
   ]
  },
  {
   "cell_type": "code",
   "execution_count": 104,
   "id": "juvenile-reserve",
   "metadata": {},
   "outputs": [
    {
     "name": "stdout",
     "output_type": "stream",
     "text": [
      "           returns_x  returns_y   returns\n",
      "returns_x   0.025252  -0.039302  0.006819\n",
      "returns_y  -0.039302   3.837658 -0.075609\n",
      "returns     0.006819  -0.075609  0.068566\n"
     ]
    }
   ],
   "source": [
    "print(stock_returns.cov() * 252)    # covariance scales linearly with days trading"
   ]
  },
  {
   "cell_type": "code",
   "execution_count": 105,
   "id": "hawaiian-soviet",
   "metadata": {},
   "outputs": [
    {
     "name": "stdout",
     "output_type": "stream",
     "text": [
      "daily_portfolio_volatility: [[0.03512208]]\n",
      "annual_portfolio_volatility: [[0.5575457]]\n"
     ]
    }
   ],
   "source": [
    "### calculate portfolio standard deviation\n",
    "cov_mat = stock_returns.cov()\n",
    "weights = np.random.randn(3, 1)   # weight given to each stock\n",
    "\n",
    "daily_portfolio_volatility = np.sqrt(np.dot(weights.T, np.dot(cov_mat, weights)))  # mult by rows and cols with weights\n",
    "print('daily_portfolio_volatility: ' + str(daily_portfolio_volatility))\n",
    "print('annual_portfolio_volatility: ' + str(daily_portfolio_volatility * np.sqrt(252)))"
   ]
  },
  {
   "cell_type": "code",
   "execution_count": 137,
   "id": "surgical-absolute",
   "metadata": {},
   "outputs": [],
   "source": [
    "# may have 100,000s of portfolio combinations to select from \n",
    "\n",
    "# sharpe ratio = measure of return from each additional unit of risk\n",
    "def sharpe_ratio(R_a, r_f, sigma):\n",
    "    \"\"\"\n",
    "    R_a = asset return\n",
    "    r_f = risk free rate of return (this is sometimes set to zero)\n",
    "    sigma = asset volatility\n",
    "    \n",
    "    excess return = R_a - r_f\n",
    "    \"\"\"\n",
    "    return (R_a - r_f) / sigma\n",
    "\n",
    "\n",
    "# theory: there's a frontier of possible returns for a given level of risk (a curve of volatility and expected return)\n",
    "# want to find portfolios on this frontier\n",
    "\n",
    "### There are two common optimal portfolios, they come under the banner 'Markowitz portfolios':\n",
    "# Max Sharpe Ratio (MSR), trading off risk and return\n",
    "# Global Minimum Volatility (GMV), lowest volatility\n",
    "\n",
    "# says GMV tends to do well over time whereas MSR can be inconsistent"
   ]
  },
  {
   "cell_type": "code",
   "execution_count": 143,
   "id": "matched-future",
   "metadata": {},
   "outputs": [
    {
     "data": {
      "text/html": [
       "<div>\n",
       "<style scoped>\n",
       "    .dataframe tbody tr th:only-of-type {\n",
       "        vertical-align: middle;\n",
       "    }\n",
       "\n",
       "    .dataframe tbody tr th {\n",
       "        vertical-align: top;\n",
       "    }\n",
       "\n",
       "    .dataframe thead th {\n",
       "        text-align: right;\n",
       "    }\n",
       "</style>\n",
       "<table border=\"1\" class=\"dataframe\">\n",
       "  <thead>\n",
       "    <tr style=\"text-align: right;\">\n",
       "      <th></th>\n",
       "      <th>Sharpe</th>\n",
       "    </tr>\n",
       "  </thead>\n",
       "  <tbody>\n",
       "    <tr>\n",
       "      <th>0</th>\n",
       "      <td>0.198192</td>\n",
       "    </tr>\n",
       "    <tr>\n",
       "      <th>1</th>\n",
       "      <td>0.743544</td>\n",
       "    </tr>\n",
       "    <tr>\n",
       "      <th>2</th>\n",
       "      <td>1.146168</td>\n",
       "    </tr>\n",
       "  </tbody>\n",
       "</table>\n",
       "</div>"
      ],
      "text/plain": [
       "     Sharpe\n",
       "0  0.198192\n",
       "1  0.743544\n",
       "2  1.146168"
      ]
     },
     "execution_count": 143,
     "metadata": {},
     "output_type": "execute_result"
    }
   ],
   "source": [
    "def get_annual_volatility(x):\n",
    "    x = x[~np.isnan(x)]  # drop na (tilde ~ inverts logic)\n",
    "    return np.std(x) * np.sqrt(252)\n",
    "\n",
    "def get_annual_return(x):\n",
    "    x = x[~np.isnan(x)]   \n",
    "    out =  [(1 + x).cumprod() - 1]  # cumulative return\n",
    "    return (out[0][-1]) * 252 / len(x)   # annualised value, taking last value in cumprod vector\n",
    "\n",
    "\n",
    "# get returns and volatility, putting them into Sharpe ratio calc\n",
    "annual_volatility = np.apply_along_axis(get_annual_volatility, 0, stock_returns)\n",
    "annual_return = np.apply_along_axis(get_annual_return, 0, stock_returns)\n",
    "\n",
    "sharpe_values = sharpe_ratio(annual_return, 0, annual_volatility)\n",
    "sharpe_values_df = pd.DataFrame({'Sharpe': sharpe_values})\n",
    "\n",
    "sharpe_values_df\n",
    "# Sharpe ratios can change dramatically over time!"
   ]
  },
  {
   "cell_type": "code",
   "execution_count": 149,
   "id": "relative-wiring",
   "metadata": {},
   "outputs": [
    {
     "name": "stdout",
     "output_type": "stream",
     "text": [
      "     Sharpe\n",
      "0  0.094924\n",
      "1  0.356120\n",
      "2  0.548956\n"
     ]
    }
   ],
   "source": [
    "MSR = sharpe_values_df / np.sum(sharpe_values_df)  # Max Sharpe Ratio, trading off risk and return\n",
    "print(MSR)"
   ]
  },
  {
   "cell_type": "code",
   "execution_count": 152,
   "id": "listed-marker",
   "metadata": {},
   "outputs": [
    {
     "data": {
      "text/plain": [
       "array([0.06678556, 0.82316486, 0.11004958])"
      ]
     },
     "execution_count": 152,
     "metadata": {},
     "output_type": "execute_result"
    }
   ],
   "source": [
    "GMV = annual_volatility / np.sum(annual_volatility)  # Global Minimum Volatility (GMV), lowest volatility\n",
    "print(GMV)"
   ]
  },
  {
   "cell_type": "code",
   "execution_count": 170,
   "id": "roman-marble",
   "metadata": {},
   "outputs": [
    {
     "data": {
      "text/plain": [
       "array([[ 0.00683493, -0.01044203],\n",
       "       [-0.01044203,  1.01960784]])"
      ]
     },
     "execution_count": 170,
     "metadata": {},
     "output_type": "execute_result"
    }
   ],
   "source": [
    "def capital_asset_pricing_model():\n",
    "    \"\"\"\n",
    "    beta = exposure to broad market portfolio\n",
    "    RF = regional risk-free rate of return. It varies by region\n",
    "    (Not finished this!)\n",
    "    \"\"\"\n",
    "    \n",
    "\n",
    "def beta(R_p, R_b):\n",
    "    \"\"\"\n",
    "    Quantify exposure across two portfolios. \n",
    "    It's lower when benchmark market is more volatile\n",
    "    It's higher when two portfolios are more correlated\n",
    "    \n",
    "    R_p = portfolio index\n",
    "    R_b = benchmark market index\n",
    "    \"\"\"\n",
    "    return np.cov(R_p, R_b) / np.var(R_b)\n",
    "\n",
    "\n",
    "stock_returns_nonan = stock_returns.dropna()\n",
    "beta(stock_returns_nonan.returns_x, stock_returns_nonan.returns_y)\n"
   ]
  },
  {
   "cell_type": "code",
   "execution_count": 171,
   "id": "administrative-mounting",
   "metadata": {},
   "outputs": [
    {
     "name": "stdout",
     "output_type": "stream",
     "text": [
      "0.01564598618043178\n",
      "-0.004041094095959652\n",
      "beta is almost identical to result with beta() above: -0.01024122172037703\n"
     ]
    },
    {
     "data": {
      "text/plain": [
       "Intercept    0.000251\n",
       "returns_y   -0.010241\n",
       "dtype: float64"
      ]
     },
     "execution_count": 171,
     "metadata": {},
     "output_type": "execute_result"
    }
   ],
   "source": [
    "# the beta is also the coefficient when training a linear regression on one portfolio index to predict another, eg:\n",
    "model = smf.ols('returns_x ~ returns_y', data = stock_returns)   # columns are 'excess returns'\n",
    "fit = model.fit()\n",
    "print(fit.rsquared)\n",
    "print(fit.rsquared_adj)\n",
    "\n",
    "beta = fit.params.returns_y\n",
    "print('beta is almost identical to result with beta() above: ' + str(beta))\n",
    "\n"
   ]
  },
  {
   "cell_type": "code",
   "execution_count": 185,
   "id": "english-reform",
   "metadata": {},
   "outputs": [
    {
     "name": "stdout",
     "output_type": "stream",
     "text": [
      "Intercept    0.794210\n",
      "returns_y    0.416525\n",
      "SMB          0.617062\n",
      "HML          0.935464\n",
      "dtype: float64\n",
      "Intercept    0.000385\n",
      "returns_y   -0.009633\n",
      "SMB          0.000840\n",
      "HML         -0.000116\n",
      "dtype: float64\n",
      "-0.00011598779118155109\n",
      "0.0008403428981255431\n",
      "annualised_portfolio_alpha:  0.10199630166713658\n"
     ]
    },
    {
     "name": "stderr",
     "output_type": "stream",
     "text": [
      "<ipython-input-185-4d7e712468b3>:17: SettingWithCopyWarning: \n",
      "A value is trying to be set on a copy of a slice from a DataFrame.\n",
      "Try using .loc[row_indexer,col_indexer] = value instead\n",
      "\n",
      "See the caveats in the documentation: https://pandas.pydata.org/pandas-docs/stable/user_guide/indexing.html#returning-a-view-versus-a-copy\n",
      "  stock_returns['SMB'] = np.random.randn(53)\n",
      "<ipython-input-185-4d7e712468b3>:18: SettingWithCopyWarning: \n",
      "A value is trying to be set on a copy of a slice from a DataFrame.\n",
      "Try using .loc[row_indexer,col_indexer] = value instead\n",
      "\n",
      "See the caveats in the documentation: https://pandas.pydata.org/pandas-docs/stable/user_guide/indexing.html#returning-a-view-versus-a-copy\n",
      "  stock_returns['HML'] = np.random.randn(53)\n"
     ]
    }
   ],
   "source": [
    "\n",
    "##### Fama-French 3-factor model\n",
    "\n",
    "# SMB = Small Minus Big factor. As small stocks tend to outperform big stocks \n",
    "    # (SMB = small stock return - big stock return)\n",
    "\n",
    "# HML = High Minus Low. Historic return of Value stocks over Growth stocks\n",
    "# Value stocks = buying stocks below their market value\n",
    "# growth stocks = above average revenue and earning growth potential\n",
    "## Stocks can be categorised as one of these two\n",
    "\n",
    "# value stocks = stock with high book-to-price ratio (market cap vs it's book value)\n",
    "# book value = assets - liabilities\n",
    "\n",
    "\n",
    "# says Fama-French 3-factor model explains 90% of portfolio variance\n",
    "# can calculate it with OLS, similar to beta\n",
    "\n",
    "\n",
    "# making random data: IRL it's not random but does vary with time\n",
    "stock_returns['SMB'] = np.random.randn(53)  \n",
    "stock_returns['HML'] = np.random.randn(53)\n",
    "\n",
    "# here returns_y should be the 'market excess' and returns_x the 'portfolio excess'\n",
    "model = smf.ols('returns_x ~ returns_y + SMB + HML', data = stock_returns)   \n",
    "fit = model.fit()\n",
    "print(fit.pvalues)   # see if coefficients have low enough p values to trust\n",
    "print(fit.params)     # see coefficients themselves\n",
    "\n",
    "print(fit.params['HML'])  # positive val means positive expose to HML: so when HML stocks rise, this portfolio rise\n",
    "print(fit.params['SMB'])   # same meaning for positive val as line above\n",
    "\n",
    "\n",
    "portfolio_alpha = fit.params['Intercept']       # intercept gives alpha (excess return above benchmark index)\n",
    "annualised_portfolio_alpha = ((1 + portfolio_alpha) ** 252) - 1\n",
    "print('annualised_portfolio_alpha: ', str(annualised_portfolio_alpha))"
   ]
  },
  {
   "cell_type": "code",
   "execution_count": null,
   "id": "backed-minimum",
   "metadata": {},
   "outputs": [],
   "source": [
    "\n",
    "# Some have argued a term for Momentum should be added to the 3-factor Fama-French model\n",
    "# momentum = direction of stock\n"
   ]
  },
  {
   "cell_type": "code",
   "execution_count": 188,
   "id": "close-reservoir",
   "metadata": {},
   "outputs": [
    {
     "name": "stdout",
     "output_type": "stream",
     "text": [
      "Intercept    0.735786\n",
      "returns_y    0.473196\n",
      "SMB          0.720819\n",
      "HML          0.839168\n",
      "RMW          0.113141\n",
      "CMA          0.753107\n",
      "dtype: float64\n",
      "Intercept   -0.000536\n",
      "returns_y   -0.008457\n",
      "SMB          0.000599\n",
      "HML         -0.000290\n",
      "RMW         -0.002058\n",
      "CMA         -0.000444\n",
      "dtype: float64\n",
      "-0.002058358661930106\n",
      "-0.0004437134910457857\n",
      "fit.rsquared_adj: -0.024918938716783412\n"
     ]
    },
    {
     "name": "stderr",
     "output_type": "stream",
     "text": [
      "<ipython-input-188-0f4bd7093410>:4: SettingWithCopyWarning: \n",
      "A value is trying to be set on a copy of a slice from a DataFrame.\n",
      "Try using .loc[row_indexer,col_indexer] = value instead\n",
      "\n",
      "See the caveats in the documentation: https://pandas.pydata.org/pandas-docs/stable/user_guide/indexing.html#returning-a-view-versus-a-copy\n",
      "  stock_returns['RMW'] = np.random.randn(53)\n",
      "<ipython-input-188-0f4bd7093410>:5: SettingWithCopyWarning: \n",
      "A value is trying to be set on a copy of a slice from a DataFrame.\n",
      "Try using .loc[row_indexer,col_indexer] = value instead\n",
      "\n",
      "See the caveats in the documentation: https://pandas.pydata.org/pandas-docs/stable/user_guide/indexing.html#returning-a-view-versus-a-copy\n",
      "  stock_returns['CMA'] = np.random.randn(53)\n"
     ]
    }
   ],
   "source": [
    "\n",
    "#### Other ways of extending Fama-French model:\n",
    "# RMW: returns from companies with high operating profitability vs low\n",
    "# CMA: returns from companies with aggresive investments vs more conservative investments\n",
    "stock_returns['RMW'] = np.random.randn(53)  \n",
    "stock_returns['CMA'] = np.random.randn(53)\n",
    "\n",
    "# here returns_y should be the 'market excess' and returns_x the 'portfolio excess'\n",
    "model = smf.ols('returns_x ~ returns_y + SMB + HML + RMW + CMA', data = stock_returns)   \n",
    "fit = model.fit()\n",
    "print(fit.pvalues)   \n",
    "print(fit.params)     \n",
    "\n",
    "print(fit.params['RMW'])  # positive val means positive expose to HML: so when HML stocks rise, this portfolio rise\n",
    "print(fit.params['CMA'])\n",
    "\n",
    "print('fit.rsquared_adj: ' + str(fit.rsquared_adj) )  \n",
    "\n"
   ]
  },
  {
   "cell_type": "code",
   "execution_count": 209,
   "id": "optimum-guidance",
   "metadata": {},
   "outputs": [],
   "source": [
    "def drawdown(r_t, RM):\n",
    "    \"\"\"\n",
    "    Drawdown quantifies negative tail risk exposure\n",
    "    Want it to be as low as possible\n",
    "    \n",
    "    r_t = cumulative return at time t\n",
    "    RM = running maximum\n",
    "    \"\"\"\n",
    "    return (r_t / RM) - 1\n",
    "\n",
    "\n",
    "# One form of QA: the drawdown stat should always be negative (closer to zero is better)\n"
   ]
  },
  {
   "cell_type": "code",
   "execution_count": 216,
   "id": "foster-holiday",
   "metadata": {},
   "outputs": [
    {
     "name": "stdout",
     "output_type": "stream",
     "text": [
      "VaR 95 = -0.024471263464108862\n",
      "CVaR 95 = -0.037783054650116964\n",
      "VaR 99.5 = -0.04066290805668113\n",
      "CVaR 99.5 = -0.04131534569983131\n"
     ]
    }
   ],
   "source": [
    "# Value at Risk (VaR) = risk of single day of negative price movement\n",
    "# VaR(95) = -2.3%, means that in worst 5% of scenarios, losses will exceed 2.3%\n",
    "\n",
    "# Conditional Value at Risk (CVaR) = average losses in worst X% of cases\n",
    "    # eg: on the worst 5% days, loses averaged 2.5%\n",
    "    \n",
    "# do this in py using percentiles, eg:\n",
    "var95 = np.percentile(stock_returns.returns, 5)\n",
    "print('VaR 95 = ' + str(var95))\n",
    "print('CVaR 95 = ' + str(stock_returns.returns[stock_returns.returns <= var95].mean()))\n",
    "\n",
    "\n",
    "# looking at worst 0.5% of days\n",
    "var995 = np.percentile(stock_returns.returns, 0.5)\n",
    "print('VaR 99.5 = ' + str(var995))\n",
    "print('CVaR 99.5 = ' + str(stock_returns.returns[stock_returns.returns <= var995].mean()))"
   ]
  },
  {
   "cell_type": "code",
   "execution_count": 223,
   "id": "apparent-orbit",
   "metadata": {},
   "outputs": [
    {
     "name": "stdout",
     "output_type": "stream",
     "text": [
      "-0.02559714786046298\n"
     ]
    }
   ],
   "source": [
    "# fitting normal distribution to historic data (assuming daily returns are normally distributed)\n",
    "mu = np.mean(stock_returns.returns)\n",
    "std = np.std(stock_returns.returns)\n",
    "conf = 0.05\n",
    "VaR = norm.ppf(conf, mu, std)  # gets 0.05 value from normal func as defined by historic stock data\n",
    "print(VaR)\n",
    "\n",
    "\n",
    "# maybe a t-distribution would better account for the possibility for extreme outliers in daily return\n"
   ]
  },
  {
   "cell_type": "code",
   "execution_count": 226,
   "id": "recorded-conservation",
   "metadata": {},
   "outputs": [
    {
     "data": {
      "text/plain": [
       "-0.05723696264610852"
      ]
     },
     "execution_count": 226,
     "metadata": {},
     "output_type": "execute_result"
    }
   ],
   "source": [
    "# calculating 5-day VaR\n",
    "var_5days = VaR * np.sqrt(5)  # multiply by sqrt of days under consideration\n",
    "var_5days"
   ]
  },
  {
   "cell_type": "code",
   "execution_count": 233,
   "id": "organized-insert",
   "metadata": {},
   "outputs": [
    {
     "data": {
      "image/png": "[encoded data removed]",
      "text/plain": [
       "<Figure size 432x288 with 1 Axes>"
      ]
     },
     "metadata": {
      "needs_background": "light"
     },
     "output_type": "display_data"
    }
   ],
   "source": [
    "# forecasting with a random walk, assuming daily returns follow a normal distribution and are independent\n",
    "# (No momentum here)\n",
    "rand_vals_one_year = np.random.normal(mu, std, 252) + 1\n",
    "initial_stock_price = 10\n",
    "forecasted_values = initial_stock_price * rand_vals_one_year.cumprod()\n",
    "\n",
    "plt.plot(forecasted_values)\n",
    "plt.ylabel('Stock price (£)')\n",
    "plt.show()"
   ]
  },
  {
   "cell_type": "code",
   "execution_count": 253,
   "id": "duplicate-framework",
   "metadata": {},
   "outputs": [
    {
     "data": {
      "image/png": "[encoded data removed]",
      "text/plain": [
       "<Figure size 432x288 with 1 Axes>"
      ]
     },
     "metadata": {
      "needs_background": "light"
     },
     "output_type": "display_data"
    }
   ],
   "source": [
    "# Monte Carlo to get possible stock values a year from now\n",
    "returns = []\n",
    "for i in range(1000):\n",
    "    rand_vals_one_year = np.random.normal(mu, std, 252) + 1\n",
    "    forecasted_values = initial_stock_price * rand_vals_one_year.cumprod()\n",
    "    returns.append(forecasted_values[-1])\n",
    "\n",
    "plt.hist(returns, bins = 50)\n",
    "vline_max = np.histogram(returns, bins = 50)[0].max()\n",
    "plt.vlines(x = 10, ymin = 0, ymax = vline_max, colors = 'red')\n",
    "plt.show()"
   ]
  },
  {
   "cell_type": "code",
   "execution_count": 254,
   "id": "outstanding-ecuador",
   "metadata": {},
   "outputs": [
    {
     "data": {
      "text/plain": [
       "8.731917249233614"
      ]
     },
     "execution_count": 254,
     "metadata": {},
     "output_type": "execute_result"
    }
   ],
   "source": [
    "# VaR over the next year could also be calculated using Monte Carlo"
   ]
  }
 ],
 "metadata": {
  "kernelspec": {
   "display_name": "Python 3",
   "language": "python",
   "name": "python3"
  },
  "language_info": {
   "codemirror_mode": {
    "name": "ipython",
    "version": 3
   },
   "file_extension": ".py",
   "mimetype": "text/x-python",
   "name": "python",
   "nbconvert_exporter": "python",
   "pygments_lexer": "ipython3",
   "version": "3.9.1"
  }
 },
 "nbformat": 4,
 "nbformat_minor": 5
}
