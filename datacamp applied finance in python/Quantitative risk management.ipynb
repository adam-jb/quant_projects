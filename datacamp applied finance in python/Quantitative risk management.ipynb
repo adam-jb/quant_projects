{
 "cells": [
  {
   "cell_type": "code",
   "execution_count": 6,
   "id": "sealed-island",
   "metadata": {},
   "outputs": [],
   "source": [
    "\n",
    "# Notes from \n",
    "# https://learn.datacamp.com/courses/quantitative-risk-management-in-python\n",
    "# only did 4th section as looks like sections 1-3 overlap with 'Portfolio risk management' course\n",
    "\n",
    "\n",
    "import numpy as np\n",
    "import pandas as pd\n",
    "from scipy.stats import genextreme\n",
    "import matplotlib.pyplot as plt\n"
   ]
  },
  {
   "cell_type": "code",
   "execution_count": null,
   "id": "pretty-jonathan",
   "metadata": {},
   "outputs": [],
   "source": [
    "# Extreme value theory = distribution of most extreme values\n",
    "\n",
    "# block maxima: break time period into sub-periods and find maximum for each block\n",
    "\n",
    "# Peak over threshold (POT): find all losses over a given level\n",
    "\n",
    "\n"
   ]
  },
  {
   "cell_type": "code",
   "execution_count": 10,
   "id": "blank-carroll",
   "metadata": {},
   "outputs": [
    {
     "data": {
      "image/png": "[encoded data removed]",
      "text/plain": [
       "<Figure size 432x288 with 1 Axes>"
      ]
     },
     "metadata": {
      "needs_background": "light"
     },
     "output_type": "display_data"
    }
   ],
   "source": [
    "# create random distribution parameters\n",
    "mean, var, skew, kurt = genextreme.stats(0.1, moments='mvsk') \n",
    "\n",
    "r = genextreme.rvs(-0.1, size=1000) # generate random values from a generalised \"extreme\" distribution\n",
    "plt.hist(r, density=True, histtype='stepfilled', alpha=0.2, bins = 50)\n",
    "plt.show()"
   ]
  },
  {
   "cell_type": "code",
   "execution_count": null,
   "id": "geological-mileage",
   "metadata": {},
   "outputs": [],
   "source": [
    "\n",
    "# up to\n",
    "# https://campus.datacamp.com/courses/quantitative-risk-management-in-python/advanced-risk-management?ex=1\n",
    "\n"
   ]
  }
 ],
 "metadata": {
  "kernelspec": {
   "display_name": "Python 3",
   "language": "python",
   "name": "python3"
  },
  "language_info": {
   "codemirror_mode": {
    "name": "ipython",
    "version": 3
   },
   "file_extension": ".py",
   "mimetype": "text/x-python",
   "name": "python",
   "nbconvert_exporter": "python",
   "pygments_lexer": "ipython3",
   "version": "3.9.1"
  }
 },
 "nbformat": 4,
 "nbformat_minor": 5
}
