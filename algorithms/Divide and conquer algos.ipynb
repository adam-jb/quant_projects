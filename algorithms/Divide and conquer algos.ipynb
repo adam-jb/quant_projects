{
 "cells": [
  {
   "cell_type": "code",
   "execution_count": 6,
   "id": "ultimate-interface",
   "metadata": {},
   "outputs": [
    {
     "data": {
      "text/plain": [
       "'620'"
      ]
     },
     "execution_count": 6,
     "metadata": {},
     "output_type": "execute_result"
    }
   ],
   "source": [
    "\n",
    "# Karatsuba multiplication\n",
    "# more complicated for ints with >2 digits\n",
    "\n",
    "x,y = 20,31\n",
    "x = list(str(x))\n",
    "y = list(str(y))\n",
    "\n",
    "start = int(x[0]) * int(y[0])\n",
    "\n",
    "mid = int(x[1]) * int(y[0]) + int(x[0]) * int(y[1])\n",
    "\n",
    "end = int(x[-1]) * int(y[-1])\n",
    "\n",
    "str(start)+str(mid)+str(end)\n",
    "\n"
   ]
  },
  {
   "cell_type": "code",
   "execution_count": 46,
   "id": "behind-mustang",
   "metadata": {},
   "outputs": [
    {
     "name": "stdout",
     "output_type": "stream",
     "text": [
      "[1, 3]\n",
      "[2, 4]\n",
      "[1, 2, 3, 4]\n",
      "[2, 7]\n",
      "[0, 1]\n",
      "[0, 1, 2, 7]\n",
      "[0, 1, 1, 2, 2, 3, 4, 7]\n"
     ]
    },
    {
     "data": {
      "text/plain": [
       "[0, 1, 1, 2, 2, 3, 4, 7]"
      ]
     },
     "execution_count": 46,
     "metadata": {},
     "output_type": "execute_result"
    }
   ],
   "source": [
    "## mergesort array of numbers\n",
    "\n",
    "# split array in half and solve each half recursively\n",
    "\n",
    "def mergesort(input_list):\n",
    "    \"\"\"\n",
    "    The version only works on list of exactly 2^n length\n",
    "    \"\"\"\n",
    "\n",
    "    length = len(input_list)\n",
    "    middle_index = length//2\n",
    "    a = input_list[:middle_index]\n",
    "    b = input_list[middle_index:]\n",
    "\n",
    "\n",
    "    if len(a) > 1:\n",
    "        a = mergesort(a)\n",
    "        b = mergesort(b)\n",
    "\n",
    "    ## merge stage\n",
    "    #a = [3, 999] # add single val to make the below work\n",
    "    #b = [5]\n",
    "    a.append(999)  # add single val to ensure no subsetting errors below\n",
    "    b.append(999) \n",
    "    res = []\n",
    "    i = 0\n",
    "    j = 0\n",
    "    for k in range(len(a) + len(b) -2):\n",
    "        if a[i] < b[j]:\n",
    "            res.append(a[i])\n",
    "            i += 1\n",
    "        else:\n",
    "            res.append(b[j])\n",
    "            j += 1\n",
    "\n",
    "    print(res)\n",
    "    return res\n",
    "\n",
    "input_list = [1, 3, 4, 2, 7, 2, 1, 0]\n",
    "mergesort(input_list)\n"
   ]
  },
  {
   "cell_type": "code",
   "execution_count": null,
   "id": "vocational-irish",
   "metadata": {},
   "outputs": [],
   "source": [
    "# worst case analysis: imagine someone is trying to make the algo as slow as possible by picking mean inputs:\n",
    "# How slow could they make it?\n"
   ]
  },
  {
   "cell_type": "markdown",
   "id": "korean-lighter",
   "metadata": {},
   "source": [
    "\n",
    "Asymptotic analysis: run time as a function of n\n"
   ]
  },
  {
   "cell_type": "code",
   "execution_count": 55,
   "id": "spread-government",
   "metadata": {},
   "outputs": [
    {
     "name": "stdout",
     "output_type": "stream",
     "text": [
      "1\n",
      "1\n",
      "4\n"
     ]
    },
    {
     "data": {
      "text/plain": [
       "([1, 3, 4, 5], 4)"
      ]
     },
     "execution_count": 55,
     "metadata": {},
     "output_type": "execute_result"
    }
   ],
   "source": [
    "## Counting inversions in an array\n",
    "\n",
    "# inversion: pair of values where val1 > val2\n",
    "\n",
    "\n",
    "# have recursive algo both count inversions and sort; piggyback on mergesort\n",
    "\n",
    "\n",
    "\n",
    "\n",
    "def mergesort_and_count_inversions(input_list, inversions_count):\n",
    "    \"\"\"\n",
    "    The version only works on list of exactly 2^n length\n",
    "    \n",
    "    Overcounts inversions_count: something to do with the append(999) hack \n",
    "    \"\"\"\n",
    "\n",
    "    length = len(input_list)\n",
    "    middle_index = length//2\n",
    "    a = input_list[:middle_index]\n",
    "    b = input_list[middle_index:]\n",
    "\n",
    "\n",
    "    if len(a) > 1:\n",
    "        a, inv_count = mergesort_and_count_inversions(a, 0)\n",
    "        b, inv_count2 = mergesort_and_count_inversions(b, 0)  \n",
    "        inversions_count += inv_count\n",
    "        inversions_count += inv_count2\n",
    "\n",
    "    ## merge stage\n",
    "    #a = [3, 999] # add single val to make the below work\n",
    "    #b = [5]\n",
    "    a.append(999)  # add single val to ensure no subsetting errors below\n",
    "    b.append(999) \n",
    "    res = []\n",
    "    i = 0\n",
    "    j = 0\n",
    "    for k in range(len(a) + len(b) -2):\n",
    "        if a[i] < b[j]:\n",
    "            res.append(a[i])\n",
    "            i += 1\n",
    "        else:\n",
    "            res.append(b[j])\n",
    "            j += 1\n",
    "            inversions_count += 1\n",
    "\n",
    "    print(inversions_count)\n",
    "    return res, inversions_count\n",
    "\n",
    "input_list = [1, 4, 3, 5]\n",
    "mergesort_and_count_inversions(input_list, 0)\n"
   ]
  },
  {
   "cell_type": "markdown",
   "id": "convenient-carolina",
   "metadata": {},
   "source": [
    "Strassen's subcubic matrix multiplication: formula to recursively get results of matrix mult, in sub O(n^3) time\n"
   ]
  },
  {
   "cell_type": "code",
   "execution_count": null,
   "id": "caring-harbor",
   "metadata": {},
   "outputs": [],
   "source": [
    "## O(n log n) Closest pair on 2d plane. Euclidean distance.\n",
    "\n",
    "# for 1d distances, can mergesort (n log n) to put closest next to each other, which is faster than searching\n",
    "# all dimensions - which is O(n^2)\n",
    "\n",
    "# one option: mergesort both dimensions, then brute force search N nearby coordinates (or coords in a particular\n",
    "# subbucket)\n",
    "\n",
    "# mergesort O(n log n)\n",
    "# 2d mergesort + brute force = O(n log n) Because the N nearby coordinates searched is constant, and doing mergesort\n",
    "        # twice only double runtime, which doesn't affect big O notation\n",
    "    \n",
    "\n"
   ]
  },
  {
   "cell_type": "markdown",
   "id": "accompanied-merchandise",
   "metadata": {},
   "source": [
    "#### \"Master method\": for measuring Big-O runtime of algorithms\n",
    "\n",
    "Notation (T = work done in recursion call; O = work done outside recursion): 3T(n / 2) + O(n)  \n",
    "\n",
    "General formula for runtime of recursive functions (in some cases): \n",
    "\n",
    "T(n) <= aT(n / b) + O(n ^ d)\n",
    "\n",
    ">d = exponent of 'combine' step running time\n",
    "\n",
    ">a = number of subproblems in the recursion\n",
    "\n",
    ">b = input size shrinkage factor\n",
    "\n",
    "See google slides 2 + 3 \n",
    "\n",
    "\n",
    "\n",
    "\n"
   ]
  },
  {
   "cell_type": "code",
   "execution_count": 93,
   "id": "perceived-slide",
   "metadata": {},
   "outputs": [
    {
     "data": {
      "text/plain": [
       "[-4, 0, 1, 2, 3, 4, 5, 7, 9, 11]"
      ]
     },
     "execution_count": 93,
     "metadata": {},
     "output_type": "execute_result"
    }
   ],
   "source": [
    "## Quicksort\n",
    "\n",
    "# pick one element in array to act as 'pivot'; \n",
    "# rearrange so everything to left is less than pivot, and RHS are higher (side effect is to put \n",
    "# the pivot element in it's right place)\n",
    "\n",
    "# after arranging of RHS and LHS of pivot element, recursively do this on either side of the algo\n",
    "\n",
    "# says this requires less values in memory use than mergesort (if one does the 'inplace' implementation\n",
    "# which I don't do below)\n",
    "\n",
    "\n",
    "def quicksort(input_list):\n",
    "    \n",
    "    \"\"\"\n",
    "    pivot_ix should be median of input values for optimal performance, however 'close enough' pivot_ix\n",
    "    is good enough \n",
    "    \"\"\"\n",
    "    \n",
    "    pivot_ix = len(input_list) // 2\n",
    "    pivot_element = input_list.pop(pivot_ix)\n",
    "\n",
    "    a = []\n",
    "    b = []\n",
    "    for val in input_list:\n",
    "        if val < pivot_element:\n",
    "            a.append(val)\n",
    "        else:\n",
    "            b.append(val)\n",
    "\n",
    "    if len(a) > 1:\n",
    "        a = quicksort(a)\n",
    "        \n",
    "    if len(b) > 1:\n",
    "        b = quicksort(b)\n",
    "    \n",
    "    return a + [pivot_element] + b\n",
    "    \n",
    "\n",
    "\n",
    "input_list = [1, 4, 3, 5, 2, 9, 0, 7, 11, -4]\n",
    "quicksort(input_list)\n",
    "\n"
   ]
  },
  {
   "cell_type": "code",
   "execution_count": 101,
   "id": "convinced-plate",
   "metadata": {},
   "outputs": [
    {
     "name": "stdout",
     "output_type": "stream",
     "text": [
      "CPU times: user 56.7 ms, sys: 1.97 ms, total: 58.7 ms\n",
      "Wall time: 57.5 ms\n"
     ]
    }
   ],
   "source": [
    "%%time\n",
    "for i in range(10_000):\n",
    "    input_list = [1, 4, 3, 5, 2, 9, 0, 7, 11, -4]\n",
    "    quicksort(input_list)"
   ]
  },
  {
   "cell_type": "markdown",
   "id": "minimal-surface",
   "metadata": {},
   "source": [
    "reduction: applying a known solution to another problem\n",
    "\n",
    "eg: selecting i'th largest element in an array 'reduces' to mergesort\n"
   ]
  },
  {
   "cell_type": "code",
   "execution_count": 154,
   "id": "loved-malaysia",
   "metadata": {},
   "outputs": [
    {
     "name": "stdout",
     "output_type": "stream",
     "text": [
      "[1, 4, 3, 5, 2, 9, 0, 7, 11, -4]\n",
      "[1, 4, 3, 5, 2, 0, 7, -4] [11]\n",
      "9\n",
      "[1, 4, 3, 5, 2, 0, 7, -4]\n",
      "[1, 0, -4] [4, 3, 5, 7]\n",
      "2\n",
      "[1, 0, -4]\n",
      "[-4] [1]\n",
      "0\n"
     ]
    },
    {
     "ename": "IndexError",
     "evalue": "list index out of range",
     "output_type": "error",
     "traceback": [
      "\u001b[0;31m---------------------------------------------------------------------------\u001b[0m",
      "\u001b[0;31mIndexError\u001b[0m                                Traceback (most recent call last)",
      "\u001b[0;32m<ipython-input-154-a585aa873a87>\u001b[0m in \u001b[0;36m<module>\u001b[0;34m\u001b[0m\n\u001b[1;32m     38\u001b[0m \u001b[0;34m\u001b[0m\u001b[0m\n\u001b[1;32m     39\u001b[0m \u001b[0minput_list\u001b[0m \u001b[0;34m=\u001b[0m \u001b[0;34m[\u001b[0m\u001b[0;36m1\u001b[0m\u001b[0;34m,\u001b[0m \u001b[0;36m4\u001b[0m\u001b[0;34m,\u001b[0m \u001b[0;36m3\u001b[0m\u001b[0;34m,\u001b[0m \u001b[0;36m5\u001b[0m\u001b[0;34m,\u001b[0m \u001b[0;36m2\u001b[0m\u001b[0;34m,\u001b[0m \u001b[0;36m9\u001b[0m\u001b[0;34m,\u001b[0m \u001b[0;36m0\u001b[0m\u001b[0;34m,\u001b[0m \u001b[0;36m7\u001b[0m\u001b[0;34m,\u001b[0m \u001b[0;36m11\u001b[0m\u001b[0;34m,\u001b[0m \u001b[0;34m-\u001b[0m\u001b[0;36m4\u001b[0m\u001b[0;34m]\u001b[0m\u001b[0;34m\u001b[0m\u001b[0;34m\u001b[0m\u001b[0m\n\u001b[0;32m---> 40\u001b[0;31m \u001b[0mquickselect\u001b[0m\u001b[0;34m(\u001b[0m\u001b[0minput_list\u001b[0m\u001b[0;34m,\u001b[0m \u001b[0;36m2\u001b[0m\u001b[0;34m)\u001b[0m\u001b[0;34m\u001b[0m\u001b[0;34m\u001b[0m\u001b[0m\n\u001b[0m\u001b[1;32m     41\u001b[0m \u001b[0;34m\u001b[0m\u001b[0m\n\u001b[1;32m     42\u001b[0m \u001b[0;34m\u001b[0m\u001b[0m\n",
      "\u001b[0;32m<ipython-input-154-a585aa873a87>\u001b[0m in \u001b[0;36mquickselect\u001b[0;34m(input_list, n)\u001b[0m\n\u001b[1;32m     29\u001b[0m         \u001b[0;32mreturn\u001b[0m \u001b[0ma\u001b[0m\u001b[0;34m[\u001b[0m\u001b[0;36m1\u001b[0m\u001b[0;34m]\u001b[0m\u001b[0;34m\u001b[0m\u001b[0;34m\u001b[0m\u001b[0m\n\u001b[1;32m     30\u001b[0m     \u001b[0;32melif\u001b[0m \u001b[0mlen\u001b[0m\u001b[0;34m(\u001b[0m\u001b[0ma\u001b[0m\u001b[0;34m)\u001b[0m \u001b[0;34m>\u001b[0m \u001b[0mn\u001b[0m\u001b[0;34m:\u001b[0m\u001b[0;34m\u001b[0m\u001b[0;34m\u001b[0m\u001b[0m\n\u001b[0;32m---> 31\u001b[0;31m         \u001b[0mquickselect\u001b[0m\u001b[0;34m(\u001b[0m\u001b[0ma\u001b[0m\u001b[0;34m,\u001b[0m \u001b[0mn\u001b[0m\u001b[0;34m)\u001b[0m\u001b[0;34m\u001b[0m\u001b[0;34m\u001b[0m\u001b[0m\n\u001b[0m\u001b[1;32m     32\u001b[0m     \u001b[0;32melif\u001b[0m \u001b[0mlen\u001b[0m\u001b[0;34m(\u001b[0m\u001b[0mb\u001b[0m\u001b[0;34m)\u001b[0m \u001b[0;34m==\u001b[0m \u001b[0;36m1\u001b[0m\u001b[0;34m:\u001b[0m\u001b[0;34m\u001b[0m\u001b[0;34m\u001b[0m\u001b[0m\n\u001b[1;32m     33\u001b[0m         \u001b[0;32mreturn\u001b[0m \u001b[0mb\u001b[0m\u001b[0;34m[\u001b[0m\u001b[0;36m0\u001b[0m\u001b[0;34m]\u001b[0m\u001b[0;34m\u001b[0m\u001b[0;34m\u001b[0m\u001b[0m\n",
      "\u001b[0;32m<ipython-input-154-a585aa873a87>\u001b[0m in \u001b[0;36mquickselect\u001b[0;34m(input_list, n)\u001b[0m\n\u001b[1;32m     29\u001b[0m         \u001b[0;32mreturn\u001b[0m \u001b[0ma\u001b[0m\u001b[0;34m[\u001b[0m\u001b[0;36m1\u001b[0m\u001b[0;34m]\u001b[0m\u001b[0;34m\u001b[0m\u001b[0;34m\u001b[0m\u001b[0m\n\u001b[1;32m     30\u001b[0m     \u001b[0;32melif\u001b[0m \u001b[0mlen\u001b[0m\u001b[0;34m(\u001b[0m\u001b[0ma\u001b[0m\u001b[0;34m)\u001b[0m \u001b[0;34m>\u001b[0m \u001b[0mn\u001b[0m\u001b[0;34m:\u001b[0m\u001b[0;34m\u001b[0m\u001b[0;34m\u001b[0m\u001b[0m\n\u001b[0;32m---> 31\u001b[0;31m         \u001b[0mquickselect\u001b[0m\u001b[0;34m(\u001b[0m\u001b[0ma\u001b[0m\u001b[0;34m,\u001b[0m \u001b[0mn\u001b[0m\u001b[0;34m)\u001b[0m\u001b[0;34m\u001b[0m\u001b[0;34m\u001b[0m\u001b[0m\n\u001b[0m\u001b[1;32m     32\u001b[0m     \u001b[0;32melif\u001b[0m \u001b[0mlen\u001b[0m\u001b[0;34m(\u001b[0m\u001b[0mb\u001b[0m\u001b[0;34m)\u001b[0m \u001b[0;34m==\u001b[0m \u001b[0;36m1\u001b[0m\u001b[0;34m:\u001b[0m\u001b[0;34m\u001b[0m\u001b[0;34m\u001b[0m\u001b[0m\n\u001b[1;32m     33\u001b[0m         \u001b[0;32mreturn\u001b[0m \u001b[0mb\u001b[0m\u001b[0;34m[\u001b[0m\u001b[0;36m0\u001b[0m\u001b[0;34m]\u001b[0m\u001b[0;34m\u001b[0m\u001b[0;34m\u001b[0m\u001b[0m\n",
      "\u001b[0;32m<ipython-input-154-a585aa873a87>\u001b[0m in \u001b[0;36mquickselect\u001b[0;34m(input_list, n)\u001b[0m\n\u001b[1;32m     27\u001b[0m         \u001b[0;32mreturn\u001b[0m \u001b[0mpivot_element\u001b[0m \u001b[0;31m# answer. Not returning for some reason\u001b[0m\u001b[0;34m\u001b[0m\u001b[0;34m\u001b[0m\u001b[0m\n\u001b[1;32m     28\u001b[0m     \u001b[0;32melif\u001b[0m \u001b[0mlen\u001b[0m\u001b[0;34m(\u001b[0m\u001b[0ma\u001b[0m\u001b[0;34m)\u001b[0m \u001b[0;34m==\u001b[0m \u001b[0;36m1\u001b[0m\u001b[0;34m:\u001b[0m\u001b[0;34m\u001b[0m\u001b[0;34m\u001b[0m\u001b[0m\n\u001b[0;32m---> 29\u001b[0;31m         \u001b[0;32mreturn\u001b[0m \u001b[0ma\u001b[0m\u001b[0;34m[\u001b[0m\u001b[0;36m1\u001b[0m\u001b[0;34m]\u001b[0m\u001b[0;34m\u001b[0m\u001b[0;34m\u001b[0m\u001b[0m\n\u001b[0m\u001b[1;32m     30\u001b[0m     \u001b[0;32melif\u001b[0m \u001b[0mlen\u001b[0m\u001b[0;34m(\u001b[0m\u001b[0ma\u001b[0m\u001b[0;34m)\u001b[0m \u001b[0;34m>\u001b[0m \u001b[0mn\u001b[0m\u001b[0;34m:\u001b[0m\u001b[0;34m\u001b[0m\u001b[0;34m\u001b[0m\u001b[0m\n\u001b[1;32m     31\u001b[0m         \u001b[0mquickselect\u001b[0m\u001b[0;34m(\u001b[0m\u001b[0ma\u001b[0m\u001b[0;34m,\u001b[0m \u001b[0mn\u001b[0m\u001b[0;34m)\u001b[0m\u001b[0;34m\u001b[0m\u001b[0;34m\u001b[0m\u001b[0m\n",
      "\u001b[0;31mIndexError\u001b[0m: list index out of range"
     ]
    }
   ],
   "source": [
    "## quickselect: looking for i'th smallest element in array\n",
    "\n",
    "# like quicksort, but only recurse on one side (which ever side i'th value is), so it runs in O(n)\n",
    "\n",
    "\n",
    "def quickselect(input_list, n):\n",
    "    \"\"\"\n",
    "    Almost entirely works, though gets errors on some inputs (eg n = 2 in example below)\n",
    "    \"\"\"\n",
    "    \n",
    "    print(input_list)\n",
    "    pivot_ix = len(input_list) // 2\n",
    "    pivot_element = input_list.pop(pivot_ix)\n",
    "\n",
    "    a = []\n",
    "    b = []\n",
    "    for val in input_list:\n",
    "        if val < pivot_element:\n",
    "            a.append(val)\n",
    "        else:\n",
    "            b.append(val)\n",
    "        \n",
    "    print(a, b)\n",
    "    print(pivot_element)\n",
    "    \n",
    "    if len(a) == n:\n",
    "        return pivot_element # answer. Not returning for some reason\n",
    "    elif len(a) == 1:\n",
    "        return a[1]\n",
    "    elif len(a) > n:\n",
    "        quickselect(a, n)\n",
    "    elif len(b) == 1:\n",
    "        return b[0]\n",
    "    else:\n",
    "        quickselect(b, n)\n",
    "        \n",
    "\n",
    "\n",
    "input_list = [1, 4, 3, 5, 2, 9, 0, 7, 11, -4]\n",
    "quickselect(input_list, 2)\n",
    "\n",
    "\n",
    "\n",
    "\n"
   ]
  },
  {
   "cell_type": "code",
   "execution_count": null,
   "id": "disturbed-cleaning",
   "metadata": {},
   "outputs": [],
   "source": [
    "## Graphs and minimum cuts\n",
    "\n",
    "# minimum cut: partition graph into two, such that some metric is minimised\n",
    "\n",
    "# minimum cut can show network bottlenecks, weaknesses and key dependencies\n",
    "\n",
    "# n = no of nodes\n",
    "# m = no of edges\n",
    "\n",
    "# adjacency matrix: n*n matrix with '1' if link one way, '-1' if other way, 0 if no link for that egde pair\n",
    "\n"
   ]
  },
  {
   "cell_type": "code",
   "execution_count": 323,
   "id": "amateur-syntax",
   "metadata": {},
   "outputs": [
    {
     "name": "stdout",
     "output_type": "stream",
     "text": [
      "[1, 1, 1, 1, 3, 3, 3, 3]\n",
      "[1, 1, 1, 1, 3, 3, 3, 3]\n"
     ]
    }
   ],
   "source": [
    "# Random contraction: for undirected graph compute the cut with fewest crossing edges (aka the minimum cut)\n",
    "\n",
    "# pick a remaining edge at random\n",
    "# do contraction: merge 2 nodes into one. Log which nodes are contracted\n",
    "# continue until N nodes are left, which gives you N groups or 'cuts' (which sometimes approximates minimum cut)\n",
    "\n",
    "\n",
    "\n",
    "def contraction(edges, n):\n",
    "    \n",
    "    \"\"\"\n",
    "    Not yet done\n",
    "    \n",
    "    n = number of nodes you want to be left with\n",
    "    \"\"\"\n",
    "    \n",
    "    kept_node_store = []\n",
    "    \n",
    "    # get unique nodes list\n",
    "    nodes = []\n",
    "    for edge in edges:\n",
    "        nodes.extend(edge)\n",
    "\n",
    "    nodes = list(set(nodes))\n",
    "    \n",
    "    for i in range(len(edges) - n):\n",
    "        edge_ix = np.random.randint(0, len(edges))\n",
    "        edge_to_contract = edges[edge_ix]\n",
    "        \n",
    "        kept_node = edge_to_contract[0]\n",
    "        kept_node_store.append(kept_node)\n",
    "        \n",
    "        ### in progress: Want to change all values of 'node_to_change' in all edges to 'kept_node'\n",
    "        node_to_change = edge_to_contract[1]\n",
    "        print([f for f in edge for edge in edges])\n",
    "        \n",
    "        \n",
    "        [[float(y) for y in x] for x in l]\n",
    "        \n",
    "\n",
    "    \n",
    "\n",
    "        \n",
    "\n",
    "edges = [[0, 1], [1, 2], [2, 3], [1, 3]]\n",
    "nodes = []\n",
    "for edge in edges:\n",
    "    nodes.extend(edge)\n",
    "    \n",
    "nodes = list(set(nodes))\n",
    "contraction(edges, 2)"
   ]
  },
  {
   "cell_type": "code",
   "execution_count": 159,
   "id": "rising-above",
   "metadata": {},
   "outputs": [
    {
     "data": {
      "image/png": "[encoded data removed]",
      "text/plain": [
       "<Figure size 432x288 with 1 Axes>"
      ]
     },
     "metadata": {},
     "output_type": "display_data"
    }
   ],
   "source": [
    "import networkx as nx\n",
    "g = nx.Graph() \n",
    "for pair in edges:\n",
    "    g.add_edge(*pair)\n",
    "nx.draw(g, with_labels = True)\n"
   ]
  },
  {
   "cell_type": "code",
   "execution_count": null,
   "id": "behind-patch",
   "metadata": {},
   "outputs": [],
   "source": []
  },
  {
   "cell_type": "code",
   "execution_count": null,
   "id": "prime-fields",
   "metadata": {},
   "outputs": [],
   "source": []
  },
  {
   "cell_type": "code",
   "execution_count": null,
   "id": "demanding-floating",
   "metadata": {},
   "outputs": [],
   "source": []
  },
  {
   "cell_type": "code",
   "execution_count": null,
   "id": "reflected-suffering",
   "metadata": {},
   "outputs": [],
   "source": []
  },
  {
   "cell_type": "code",
   "execution_count": null,
   "id": "civilian-secondary",
   "metadata": {},
   "outputs": [],
   "source": []
  },
  {
   "cell_type": "code",
   "execution_count": null,
   "id": "executed-membership",
   "metadata": {},
   "outputs": [],
   "source": []
  }
 ],
 "metadata": {
  "kernelspec": {
   "display_name": "Python 3",
   "language": "python",
   "name": "python3"
  },
  "language_info": {
   "codemirror_mode": {
    "name": "ipython",
    "version": 3
   },
   "file_extension": ".py",
   "mimetype": "text/x-python",
   "name": "python",
   "nbconvert_exporter": "python",
   "pygments_lexer": "ipython3",
   "version": "3.9.7"
  }
 },
 "nbformat": 4,
 "nbformat_minor": 5
}
