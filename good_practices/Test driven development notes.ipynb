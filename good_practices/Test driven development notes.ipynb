{
 "cells": [
  {
   "cell_type": "markdown",
   "id": "visible-station",
   "metadata": {},
   "source": [
    "\n",
    "## Notes from https://www.youtube.com/watch?v=eAPmXQ0dC7Q&ab_channel=WesDoyle\n",
    "\n",
    "Process: write test (that will fail), then write just enough code to pass the test\n",
    "\n",
    "around minute 12-15, makes a few lines of code to load all files as a package\n",
    "\n",
    "Could perhaps do the below without using OOP. Could just test that each new thing made is of the desired type, shape, class, etc. Could write tests for that as a function before making the thing: example of doing this in test_add_func() below. \n",
    "\n",
    "I think functions could be stress tested for generating unusual data. Such a test could be functionalised and defined before making the tested function.\n",
    "\n",
    "\n",
    "\n"
   ]
  },
  {
   "cell_type": "code",
   "execution_count": 7,
   "id": "otherwise-momentum",
   "metadata": {},
   "outputs": [],
   "source": [
    "# test: in the video running this would run tests; doesn't do that here\n",
    "import unittest\n",
    "\n",
    "\n",
    "class TestClient(unittest.TestCase):\n",
    "    \n",
    "    def test_get_ents_returns_dictionary_given_empty_string(self):\n",
    "        ner = NamedEntityClient()\n",
    "        ents = ner.get_ents()\n",
    "        self.assertIsInstance(ents, dict)\n",
    "\n",
    "        \n",
    "        "
   ]
  },
  {
   "cell_type": "code",
   "execution_count": 8,
   "id": "choice-pantyhose",
   "metadata": {},
   "outputs": [
    {
     "data": {
      "text/plain": [
       "<__main__.TestClient testMethod=runTest>"
      ]
     },
     "execution_count": 8,
     "metadata": {},
     "output_type": "execute_result"
    }
   ],
   "source": [
    "TestClient()"
   ]
  },
  {
   "cell_type": "code",
   "execution_count": 5,
   "id": "chicken-vietnam",
   "metadata": {},
   "outputs": [],
   "source": [
    "# thing to make, which makes test pass (this would be in another script, which would be sourced by the test script)\n",
    "class NamedEntityClient():\n",
    "    def __init__(self):\n",
    "        pass\n",
    "\n"
   ]
  },
  {
   "cell_type": "code",
   "execution_count": null,
   "id": "charitable-hammer",
   "metadata": {},
   "outputs": [],
   "source": []
  },
  {
   "cell_type": "markdown",
   "id": "assured-ownership",
   "metadata": {},
   "source": [
    "## Notes from https://www.youtube.com/watch?v=etosV2IWBF0&ab_channel=MattLayman\n",
    "\n",
    "#### Pytest presentation\n",
    "\n",
    "pytest = most popular testing package\n",
    "\n",
    "assert() is the basis for many functions (eg: assertTrue, assertIs, assertNot, etc)\n",
    "\n",
    "can run 'pytest' as a CLI tool\n",
    "\n",
    "\n",
    "\n",
    "\n"
   ]
  },
  {
   "cell_type": "code",
   "execution_count": 9,
   "id": "alternative-finish",
   "metadata": {},
   "outputs": [],
   "source": [
    "import pytest"
   ]
  },
  {
   "cell_type": "code",
   "execution_count": 16,
   "id": "congressional-evolution",
   "metadata": {},
   "outputs": [],
   "source": [
    "a = 1\n",
    "assert 1 == a  # will throw error if fails"
   ]
  },
  {
   "cell_type": "code",
   "execution_count": 68,
   "id": "conservative-plaza",
   "metadata": {},
   "outputs": [],
   "source": [
    "def test_add_func():\n",
    "    d = add(2, 3)\n",
    "    assert d == 5\n",
    "    assert add(2, 9) == 11\n",
    "    assert str(type(add(2, 9))) == \"<class 'int'>\"\n",
    "        \n",
    "    with pytest.raises(TypeError):  # TypeError context manager somehow prevents line below from failing\n",
    "        add(2, '11')\n",
    "    "
   ]
  },
  {
   "cell_type": "code",
   "execution_count": 69,
   "id": "corporate-employment",
   "metadata": {},
   "outputs": [],
   "source": [
    "# def func and run it's corresponding test\n",
    "def add(a, b):\n",
    "    return a + b\n",
    "\n",
    "test_add_func()\n"
   ]
  },
  {
   "cell_type": "code",
   "execution_count": 79,
   "id": "finite-harvey",
   "metadata": {},
   "outputs": [
    {
     "ename": "CalcError",
     "evalue": "error message on fail: please ensure all inputs are int or float",
     "output_type": "error",
     "traceback": [
      "\u001b[0;31m---------------------------------------------------------------------------\u001b[0m",
      "\u001b[0;31mTypeError\u001b[0m                                 Traceback (most recent call last)",
      "\u001b[0;32m<ipython-input-79-af0c1cdd3a59>\u001b[0m in \u001b[0;36madd_type_catch\u001b[0;34m(a, b)\u001b[0m\n\u001b[1;32m      6\u001b[0m     \u001b[0;32mtry\u001b[0m\u001b[0;34m:\u001b[0m\u001b[0;34m\u001b[0m\u001b[0;34m\u001b[0m\u001b[0m\n\u001b[0;32m----> 7\u001b[0;31m         \u001b[0;32mreturn\u001b[0m \u001b[0ma\u001b[0m \u001b[0;34m+\u001b[0m \u001b[0mb\u001b[0m\u001b[0;34m\u001b[0m\u001b[0;34m\u001b[0m\u001b[0m\n\u001b[0m\u001b[1;32m      8\u001b[0m     \u001b[0;32mexcept\u001b[0m \u001b[0mTypeError\u001b[0m\u001b[0;34m:\u001b[0m\u001b[0;34m\u001b[0m\u001b[0;34m\u001b[0m\u001b[0m\n",
      "\u001b[0;31mTypeError\u001b[0m: unsupported operand type(s) for +: 'int' and 'str'",
      "\nDuring handling of the above exception, another exception occurred:\n",
      "\u001b[0;31mCalcError\u001b[0m                                 Traceback (most recent call last)",
      "\u001b[0;32m<ipython-input-79-af0c1cdd3a59>\u001b[0m in \u001b[0;36m<module>\u001b[0;34m\u001b[0m\n\u001b[1;32m      9\u001b[0m         \u001b[0;32mraise\u001b[0m \u001b[0mCalcError\u001b[0m\u001b[0;34m(\u001b[0m\u001b[0;34m\"error message on fail: please ensure all inputs are int or float\"\u001b[0m\u001b[0;34m)\u001b[0m\u001b[0;34m\u001b[0m\u001b[0;34m\u001b[0m\u001b[0m\n\u001b[1;32m     10\u001b[0m \u001b[0;34m\u001b[0m\u001b[0m\n\u001b[0;32m---> 11\u001b[0;31m \u001b[0madd_type_catch\u001b[0m\u001b[0;34m(\u001b[0m\u001b[0;36m1\u001b[0m\u001b[0;34m,\u001b[0m \u001b[0;34m\"a\"\u001b[0m\u001b[0;34m)\u001b[0m\u001b[0;34m\u001b[0m\u001b[0;34m\u001b[0m\u001b[0m\n\u001b[0m",
      "\u001b[0;32m<ipython-input-79-af0c1cdd3a59>\u001b[0m in \u001b[0;36madd_type_catch\u001b[0;34m(a, b)\u001b[0m\n\u001b[1;32m      7\u001b[0m         \u001b[0;32mreturn\u001b[0m \u001b[0ma\u001b[0m \u001b[0;34m+\u001b[0m \u001b[0mb\u001b[0m\u001b[0;34m\u001b[0m\u001b[0;34m\u001b[0m\u001b[0m\n\u001b[1;32m      8\u001b[0m     \u001b[0;32mexcept\u001b[0m \u001b[0mTypeError\u001b[0m\u001b[0;34m:\u001b[0m\u001b[0;34m\u001b[0m\u001b[0;34m\u001b[0m\u001b[0m\n\u001b[0;32m----> 9\u001b[0;31m         \u001b[0;32mraise\u001b[0m \u001b[0mCalcError\u001b[0m\u001b[0;34m(\u001b[0m\u001b[0;34m\"error message on fail: please ensure all inputs are int or float\"\u001b[0m\u001b[0;34m)\u001b[0m\u001b[0;34m\u001b[0m\u001b[0;34m\u001b[0m\u001b[0m\n\u001b[0m\u001b[1;32m     10\u001b[0m \u001b[0;34m\u001b[0m\u001b[0m\n\u001b[1;32m     11\u001b[0m \u001b[0madd_type_catch\u001b[0m\u001b[0;34m(\u001b[0m\u001b[0;36m1\u001b[0m\u001b[0;34m,\u001b[0m \u001b[0;34m\"a\"\u001b[0m\u001b[0;34m)\u001b[0m\u001b[0;34m\u001b[0m\u001b[0;34m\u001b[0m\u001b[0m\n",
      "\u001b[0;31mCalcError\u001b[0m: error message on fail: please ensure all inputs are int or float"
     ]
    }
   ],
   "source": [
    "### Exception handling in a func (there is no testing in this cell)\n",
    "class CalcError(Exception):\n",
    "    \"\"\"An exception class\"\"\"\n",
    "\n",
    "def add_type_catch(a, b):\n",
    "    try:\n",
    "        return a + b\n",
    "    except TypeError:\n",
    "        raise CalcError(\"error message on fail: please ensure all inputs are int or float\")\n",
    "\n",
    "add_type_catch(1, \"a\")"
   ]
  },
  {
   "cell_type": "code",
   "execution_count": 44,
   "id": "russian-update",
   "metadata": {},
   "outputs": [
    {
     "data": {
      "text/plain": [
       "\"Type is <class 'int'>\""
      ]
     },
     "execution_count": 44,
     "metadata": {},
     "output_type": "execute_result"
    }
   ],
   "source": [
    " f\"Type is {type(add(2, 9))}\"    # put it in an fstring. No purpose just for interest"
   ]
  },
  {
   "cell_type": "code",
   "execution_count": null,
   "id": "japanese-relations",
   "metadata": {},
   "outputs": [],
   "source": []
  },
  {
   "cell_type": "code",
   "execution_count": null,
   "id": "basic-adobe",
   "metadata": {},
   "outputs": [],
   "source": []
  },
  {
   "cell_type": "code",
   "execution_count": null,
   "id": "surrounded-christmas",
   "metadata": {},
   "outputs": [],
   "source": []
  },
  {
   "cell_type": "code",
   "execution_count": null,
   "id": "formal-improvement",
   "metadata": {},
   "outputs": [],
   "source": []
  },
  {
   "cell_type": "code",
   "execution_count": null,
   "id": "collaborative-orientation",
   "metadata": {},
   "outputs": [],
   "source": []
  },
  {
   "cell_type": "code",
   "execution_count": null,
   "id": "parliamentary-characteristic",
   "metadata": {},
   "outputs": [],
   "source": []
  },
  {
   "cell_type": "code",
   "execution_count": null,
   "id": "revised-announcement",
   "metadata": {},
   "outputs": [],
   "source": []
  },
  {
   "cell_type": "code",
   "execution_count": null,
   "id": "blond-dutch",
   "metadata": {},
   "outputs": [],
   "source": []
  },
  {
   "cell_type": "code",
   "execution_count": null,
   "id": "qualified-better",
   "metadata": {},
   "outputs": [],
   "source": []
  },
  {
   "cell_type": "code",
   "execution_count": null,
   "id": "latest-plaza",
   "metadata": {},
   "outputs": [],
   "source": []
  },
  {
   "cell_type": "code",
   "execution_count": null,
   "id": "intended-population",
   "metadata": {},
   "outputs": [],
   "source": []
  },
  {
   "cell_type": "code",
   "execution_count": null,
   "id": "level-crown",
   "metadata": {},
   "outputs": [],
   "source": []
  },
  {
   "cell_type": "code",
   "execution_count": null,
   "id": "preceding-attraction",
   "metadata": {},
   "outputs": [],
   "source": []
  },
  {
   "cell_type": "code",
   "execution_count": null,
   "id": "extra-highway",
   "metadata": {},
   "outputs": [],
   "source": []
  },
  {
   "cell_type": "code",
   "execution_count": null,
   "id": "anticipated-austin",
   "metadata": {},
   "outputs": [],
   "source": []
  }
 ],
 "metadata": {
  "kernelspec": {
   "display_name": "Python 3",
   "language": "python",
   "name": "python3"
  },
  "language_info": {
   "codemirror_mode": {
    "name": "ipython",
    "version": 3
   },
   "file_extension": ".py",
   "mimetype": "text/x-python",
   "name": "python",
   "nbconvert_exporter": "python",
   "pygments_lexer": "ipython3",
   "version": "3.9.7"
  }
 },
 "nbformat": 4,
 "nbformat_minor": 5
}
