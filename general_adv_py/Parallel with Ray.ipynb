{
 "cells": [
  {
   "cell_type": "code",
   "execution_count": 7,
   "id": "coastal-thesis",
   "metadata": {},
   "outputs": [],
   "source": [
    "\n",
    "# Notes from https://www.youtube.com/watch?v=q_aTbb7XeL4&list=PLd_Oyt6lAQ8TE2wgC-k3lDQGbih5t_bOu&index=8&ab_channel=JackofSom\n",
    "\n",
    "# ray lets you run in parallel locally or on GCP/AWS/etc\n",
    "\n",
    "import ray\n",
    "import time\n",
    "\n",
    "ray.init()   # call this once\n",
    "\n"
   ]
  },
  {
   "cell_type": "code",
   "execution_count": 8,
   "id": "fewer-fossil",
   "metadata": {},
   "outputs": [
    {
     "data": {
      "text/plain": [
       "[0, 1, 2, 3, 4, 5, 6, 7, 8, 9]"
      ]
     },
     "execution_count": 8,
     "metadata": {},
     "output_type": "execute_result"
    }
   ],
   "source": [
    "@ray.remote   # ray'ify any func just adding the decorator\n",
    "def f(i):\n",
    "    time.sleep(1)\n",
    "    return i\n",
    "\n",
    "\n",
    "future = [f.remote(i) for i in range(10)]  # call func with '.remote'. 'future' is a promise, or schedule, but not executed\n",
    "ray.get(future)       # collects the 'future' promise \n",
    "\n"
   ]
  },
  {
   "cell_type": "markdown",
   "id": "innovative-catalyst",
   "metadata": {},
   "source": [
    "### To start ray server from mac terminal:\n",
    "ray start --head --port=3456\n",
    "\n",
    "However I think it runs and connects automatically to local terminal when you run run.init()\n",
    "\n",
    "But similar process when connecting to remote ray server\n"
   ]
  },
  {
   "cell_type": "markdown",
   "id": "central-robinson",
   "metadata": {},
   "source": [
    "### Can connect multiple machines to a single ray\n",
    "\n",
    "Ray then automatically allocates work across them\n",
    "\n",
    "More on this around 7:00 onwards\n",
    "\n"
   ]
  }
 ],
 "metadata": {
  "kernelspec": {
   "display_name": "Python 3",
   "language": "python",
   "name": "python3"
  },
  "language_info": {
   "codemirror_mode": {
    "name": "ipython",
    "version": 3
   },
   "file_extension": ".py",
   "mimetype": "text/x-python",
   "name": "python",
   "nbconvert_exporter": "python",
   "pygments_lexer": "ipython3",
   "version": "3.9.7"
  }
 },
 "nbformat": 4,
 "nbformat_minor": 5
}
