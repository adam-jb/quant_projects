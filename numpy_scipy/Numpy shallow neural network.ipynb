{
 "cells": [
  {
   "cell_type": "code",
   "execution_count": 3,
   "id": "intended-practitioner",
   "metadata": {},
   "outputs": [],
   "source": [
    "\n",
    "## making a basic shallow NN in numpy, based on week 3 of Neural Networks and Deep Learning\n",
    "\n",
    "## Aiming to predict whether a plant is species setosa or not\n",
    "\n",
    "import numpy as np\n",
    "import pandas as pd\n",
    "import matplotlib.pyplot as plt"
   ]
  },
  {
   "cell_type": "code",
   "execution_count": null,
   "id": "raising-patrol",
   "metadata": {},
   "outputs": [],
   "source": [
    "# Deeplearning.ai notation: [1] = activations out of layer 1, [2] = activitions from layer 2, etc\n",
    "# instead of backprop from A (sig transformed) to Z (linear transformed) and that's it, that\n",
    "# is done several times a la A, Z, A, Z, etc for backprop, depending on the number of layers you have\n",
    "# a(i) refers to node i in that layer\n",
    "\n",
    "# '2 layer' NN has one hidden layer (plus input and output layers)\n",
    "\n",
    "# if 4 weights and 5 neurons in a hidden layer, w in that layer will have dims (5, 4) and b will have dims (5, 1)\n",
    "# and if so, output layer after this was w dims (1, 5) and b dims (1, 1)\n",
    "\n",
    "### hidden layer\n",
    "# multiply (5,4) hidden layer weights by (4, 1)  input features array (assuming 4 is number of input features)\n",
    "# (4,1) array might become (4, m) where m is training sample size\n",
    "# assuming input is (4, 1), gets a result of (5, 1) which goes through sigmoid to get A=(5,1) array\n",
    "\n",
    "### output layer\n",
    "# multiply weights layer (1, 5) by input (5,1), plus b for linear trans to get (1,1)\n",
    "# then sigmoid transform to get (1,1) output\n",
    "\n",
    "\n",
    "\n",
    "#####\n",
    "# x :dims = n * m (input of n features and m data)\n",
    "# Z (output of linear regession), dims = lc * m\n",
    "# A (output of sigmoid), dims = lc * m (lc = layer count)\n",
    "\n",
    "\n"
   ]
  },
  {
   "cell_type": "code",
   "execution_count": null,
   "id": "impaired-coalition",
   "metadata": {},
   "outputs": [],
   "source": [
    "## steps:\n",
    "\n",
    "# forward pass through layers\n",
    "# get derivatives for all weights\n",
    "# calculate new weights\n",
    "\n"
   ]
  },
  {
   "cell_type": "code",
   "execution_count": 23,
   "id": "female-greeting",
   "metadata": {},
   "outputs": [],
   "source": [
    "### Activation functions:\n",
    "# denote generic activation function as g(x)\n",
    "\n",
    "# sigmoid\n",
    "def sigmoid(x):\n",
    "    return 1 / (1 + np.exp(-x))\n",
    "\n",
    "def sigmoid_derivative(sigmoid_output):\n",
    "    return sigmoid_output * (1- sigmoid_output)   # * = element-wise mult; @ = matrix mult\n",
    "\n",
    "\n",
    "\n",
    "# tanh. A shifted version of sigmoid (returns range -1 to 1 instead of 0 to 1)\n",
    "    # the mean of tanh is closer to 0 than sigmoid, which can make the outputs easier for later layers to use\n",
    "    # than sigmoid, where the mean is closer to 0.5\n",
    "    # says apart from the output layer, tanh() is better than sigmoid\n",
    "def tanh(x):\n",
    "    return (np.exp(x) - np.exp(-x)) / (np.exp(x) + np.exp(-x))\n",
    "\n",
    "def tanh_derivative(tanh_output):\n",
    "    return 1 - np.power(tanh_output, 2)\n",
    "\n",
    "    \n",
    "\n",
    "# ReLu: better for larger values as the gradient doesn't become close to 0, which it does for tanh and sigmoid\n",
    "# ReLu trains faster because of this \n",
    "def relu(x):\n",
    "    return np.where(x >= 0, x, 0)\n",
    "\n",
    "def relu_derivative(x):       \n",
    "    \"\"\"note x is the original input to relu, not the output from relu, unlike other\n",
    "    derivatives of activation functions\"\"\"\n",
    "    return np.where(x >= 0, 1, 0)\n",
    "\n",
    "\n",
    "\n",
    "# Leaky ReLu: max(0.01*x, x)  # so not exactly zero for negative numbers\n",
    "def leaky_relu(x):\n",
    "    return np.where(x >= 0, x, x*0.01)\n",
    "\n",
    "def leaky_relu_derivative(x):\n",
    "    \"\"\"As with ReLu derivative, x is the original input to leaky_relu(), not it's input\"\"\"\n",
    "    return np.where(x >= 0, 1, 0.01)\n",
    "\n",
    "\n",
    "\n",
    "### rules of thumb\n",
    "# if classification is binary then sigmoid is a good output layer activation\n",
    "# for all other units ReLu is the most popular default, so a decent default choice\n",
    "\n",
    "\n",
    "\n",
    "# source of activation function derivative functions:\n",
    "# https://www.coursera.org/learn/neural-networks-deep-learning/lecture/qcG1j/derivatives-of-activation-functions\n"
   ]
  },
  {
   "cell_type": "code",
   "execution_count": 24,
   "id": "wooden-mustang",
   "metadata": {},
   "outputs": [
    {
     "ename": "NameError",
     "evalue": "name 'A_2' is not defined",
     "output_type": "error",
     "traceback": [
      "\u001b[0;31m---------------------------------------------------------------------------\u001b[0m",
      "\u001b[0;31mNameError\u001b[0m                                 Traceback (most recent call last)",
      "\u001b[0;32m<ipython-input-24-e0fb0ce82c57>\u001b[0m in \u001b[0;36m<module>\u001b[0;34m\u001b[0m\n\u001b[1;32m     26\u001b[0m \u001b[0;34m\u001b[0m\u001b[0m\n\u001b[1;32m     27\u001b[0m \u001b[0;31m# using _ as stand-in for [] notation\u001b[0m\u001b[0;34m\u001b[0m\u001b[0;34m\u001b[0m\u001b[0;34m\u001b[0m\u001b[0m\n\u001b[0;32m---> 28\u001b[0;31m \u001b[0mdZ_2\u001b[0m \u001b[0;34m=\u001b[0m \u001b[0mA_2\u001b[0m \u001b[0;34m-\u001b[0m \u001b[0mY\u001b[0m\u001b[0;34m\u001b[0m\u001b[0;34m\u001b[0m\u001b[0m\n\u001b[0m\u001b[1;32m     29\u001b[0m \u001b[0mdW_2\u001b[0m \u001b[0;34m=\u001b[0m \u001b[0;34m(\u001b[0m\u001b[0;36m1\u001b[0m\u001b[0;34m/\u001b[0m\u001b[0mm\u001b[0m\u001b[0;34m)\u001b[0m \u001b[0;34m*\u001b[0m \u001b[0mdZ_2\u001b[0m \u001b[0;34m*\u001b[0m \u001b[0mA_1\u001b[0m\u001b[0;34m.\u001b[0m\u001b[0mT\u001b[0m\u001b[0;34m\u001b[0m\u001b[0;34m\u001b[0m\u001b[0m\n\u001b[1;32m     30\u001b[0m \u001b[0mdB_2\u001b[0m \u001b[0;34m=\u001b[0m \u001b[0;34m(\u001b[0m\u001b[0;36m1\u001b[0m\u001b[0;34m/\u001b[0m\u001b[0mm\u001b[0m\u001b[0;34m)\u001b[0m \u001b[0;34m*\u001b[0m \u001b[0mnp\u001b[0m\u001b[0;34m.\u001b[0m\u001b[0msum\u001b[0m\u001b[0;34m(\u001b[0m\u001b[0mdZ_2\u001b[0m\u001b[0;34m,\u001b[0m \u001b[0maxis\u001b[0m\u001b[0;34m=\u001b[0m\u001b[0;36m1\u001b[0m\u001b[0;34m,\u001b[0m \u001b[0mkeepdims\u001b[0m\u001b[0;34m=\u001b[0m\u001b[0;32mTrue\u001b[0m\u001b[0;34m)\u001b[0m  \u001b[0;31m# sums horizontally\u001b[0m\u001b[0;34m\u001b[0m\u001b[0;34m\u001b[0m\u001b[0m\n",
      "\u001b[0;31mNameError\u001b[0m: name 'A_2' is not defined"
     ]
    }
   ],
   "source": [
    "#### Gradient descent\n",
    "## Params: W[1], b[1], W[2], b[2]   (represent weights and intersect value for each layer)\n",
    "## n[0] (input features count), n[1] (hidden unit count), n[2] (output units)\n",
    "\n",
    "# W[1] dims: n[1] * n[0]\n",
    "# B[1] dims: n[1] * 1\n",
    "# W[2] dims: n[2] * n[1]\n",
    "# B[2] dims: n[2] * 1\n",
    "\n",
    "# X = input data\n",
    "# Z[1] = hidden layer linear results       dims: n[1] * 1\n",
    "# A[1] = hidden layer activated results\n",
    "# Z[1] = output layer linear results         dims: n[2] * 1\n",
    "# A[1] = output layer activated results\n",
    "\n",
    "# Y dims: m * 1  (where m is number of data in)\n",
    "# A[2] dims: m * 1  (the prediction: result of output activation)\n",
    "\n",
    "# can use same cost function as logistic regression (think this is because output layer using sigmoid activation)\n",
    "# J = notation for cost\n",
    "\n",
    "# dW[1] = dJ/dW[1] \n",
    "# dB[1] = dJ/dB[1] \n",
    "# ... and so on for all layers\n",
    "\n",
    "\n",
    "# using _ as stand-in for [] notation\n",
    "\"\"\"\n",
    "dZ_2 = A_2 - Y                           # dims: n[2] * m\n",
    "dW_2 = (1/m) * (dZ_2 @ A_1.T)\n",
    "dB_2 = (1/m) * np.sum(dZ_2, axis=1, keepdims=True)  # sums horizontally\n",
    "\n",
    "dZ_1 = (W_2.T @ dZ_2) * relu_derivative(Z_1)   # dims: n[1] * m (where m is number of data inputs)\n",
    "        # W_2.T dims = n[1] * n[2]\n",
    "        # dZ_2 dims = n[2] * m\n",
    "        # relu_derivative(Z_1) dims = n[1] * m\n",
    "        ### so get n[1] * m output from matrix mult, then do element wise mult with relu_derivative(Z_1)\n",
    "\n",
    "dW_1 = (1/m) * (dZ_1 @ X.T)\n",
    "dB_1 = (1/m) * np.sum(dZ_1, axis=1, keepdims=True) \n",
    "\"\"\"\n",
    "## confident all of the above use @ and * in the right places\n",
    "\n",
    "\n",
    "\n",
    "\n",
    "# based on:\n",
    "# https://www.coursera.org/learn/neural-networks-deep-learning/lecture/6dDj7/backpropagation-intuition-optional"
   ]
  },
  {
   "cell_type": "code",
   "execution_count": 28,
   "id": "amazing-vault",
   "metadata": {},
   "outputs": [],
   "source": [
    "#### when initialising weights\n",
    "#### this is just an example: the input dimensions are wrong here\n",
    "\n",
    "W_weights = np.random.randn(2, 2) / 100   # set small random weights for W    \n",
    "B_weights = np.zeros((2, 1))           # so long as W has random weights, says zeros is a fine init val for B\n",
    "\n",
    "# initial weights should be very small, otherwise values that go thru tanh or sigmoid will \n",
    "# have tiny weights and learn very slowly\n"
   ]
  },
  {
   "cell_type": "code",
   "execution_count": null,
   "id": "short-front",
   "metadata": {},
   "outputs": [],
   "source": []
  },
  {
   "cell_type": "code",
   "execution_count": 6,
   "id": "social-trash",
   "metadata": {},
   "outputs": [
    {
     "name": "stdout",
     "output_type": "stream",
     "text": [
      "150 5\n",
      "(150, 5)\n"
     ]
    }
   ],
   "source": [
    "# load data\n",
    "data = pd.read_csv('https://gist.githubusercontent.com/curran/a08a1080b88344b0c8a7/raw/0e7a9b0a5d22642a06d3d5b9bcbad9890c8ee534/iris.csv')\n",
    "data = data.to_numpy()\n",
    "\n",
    "\n",
    "# unique, counts = np.unique(data[:, 4], return_counts=True)\n",
    "setosa_idx = data[:, 4] == 'setosa'  # simplify species column to binary\n",
    "data[:, 4] = 1   # not setosa\n",
    "data[setosa_idx, 4] = 0   # setosa\n",
    "\n",
    "\n",
    "idx = np.random.rand(*data.shape).argsort(axis=0) # randomising order for test/train split\n",
    "data = np.take_along_axis(data,idx,axis=0)\n",
    "\n",
    "\n",
    "print(*data.shape)  # return values outside tuple\n",
    "print(data.shape)\n",
    "\n"
   ]
  },
  {
   "cell_type": "code",
   "execution_count": 29,
   "id": "temporal-organizer",
   "metadata": {},
   "outputs": [
    {
     "name": "stdout",
     "output_type": "stream",
     "text": [
      "(4, 120)\n",
      "(1, 120)\n"
     ]
    }
   ],
   "source": [
    "train_input = data[:120, :4].T   # transpose to row for each feature and column for each value: faster calcs\n",
    "train_labs = data[:120, 4:].T\n",
    "\n",
    "test_input = data[120:, :4].T\n",
    "test_labs = data[120:, 4:].T\n",
    "\n",
    "print(train_input.shape)\n",
    "print(train_labs.shape)"
   ]
  },
  {
   "cell_type": "code",
   "execution_count": 22,
   "id": "valuable-aircraft",
   "metadata": {},
   "outputs": [
    {
     "name": "stdout",
     "output_type": "stream",
     "text": [
      "[[0.5 0.5 0 0.5 0.5 0.5 0 0.5 0 0.5 0.5 0.5 0.5 0.5 0.5 0.5 0.5 0 0 0.5\n",
      "  0.5 0.5 0 0.5 0.5 0 0 0.5 0.5 0]]\n",
      "[[1 1 0 1 1 1 0 1 0 1 1 1 1 1 1 1 1 0 0 1 1 1 0 1 1 0 0 1 1 0]]\n"
     ]
    }
   ],
   "source": [
    "# test relu\n",
    "x = relu(test_labs - 0.5)\n",
    "print(x)\n",
    "print(relu_derivative(test_labs - 0.5))\n",
    "\n",
    "\n"
   ]
  },
  {
   "cell_type": "code",
   "execution_count": 105,
   "id": "electric-hawaiian",
   "metadata": {},
   "outputs": [
    {
     "name": "stdout",
     "output_type": "stream",
     "text": [
      "labs_values: [0 1]\n",
      "labs_counts: [41 79]\n"
     ]
    }
   ],
   "source": [
    "# view test labs frequency\n",
    "labs_values, labs_counts = np.unique(train_labs, return_counts = True)\n",
    "print('labs_values: ' + str(labs_values))\n",
    "print('labs_counts: ' + str(labs_counts))"
   ]
  },
  {
   "cell_type": "code",
   "execution_count": 125,
   "id": "virtual-acoustic",
   "metadata": {},
   "outputs": [],
   "source": [
    "def cost_function(y, y_hat):   \n",
    "    \"\"\"Logistic regression cost function\n",
    "    y = actual\n",
    "    y_hat = predicted\n",
    "    \"\"\"\n",
    "    m = y.shape[1]  # total predictions made\n",
    "    lhs = np.dot(y, np.log(y_hat).T) # returns 1x1 array\n",
    "    rhs = np.dot((1 - y), np.log(1 - y_hat).T)\n",
    "    total_loss = np.sum(lhs + rhs)\n",
    "    return -total_loss / m"
   ]
  },
  {
   "cell_type": "code",
   "execution_count": 147,
   "id": "permanent-wayne",
   "metadata": {},
   "outputs": [],
   "source": [
    "def gradient_descent(X, Y, n_layer, lr, iterations):\n",
    "    \"\"\"\n",
    "    X = input table (n * m)\n",
    "    Y = labels    (1 * m)\n",
    "    lr = Learning rate: how much weights change on each iteration\n",
    "   \"\"\"\n",
    "    \n",
    "    loss_store = np.zeros(iterations)  # to store loss on each iteration\n",
    "    \n",
    "    \n",
    "    # set dimension values used \n",
    "    n_0 = X.shape[0]   # total features \n",
    "    n_1 = n_layer         # number of neurons in hidden layer\n",
    "    n_2 = 1         # output units: think it's 1 as only one layer. Could be 2 if linked to binary outcome somehow\n",
    "    \n",
    "\n",
    "    m = X.shape[1]   # size of input data\n",
    "    \n",
    "    # initialise weights             \n",
    "    W_1 = np.random.uniform(size=(n_1, n_0)) / 100\n",
    "    B_1 = np.random.uniform(size=(n_1, 1))  / 100\n",
    "    W_2 = np.random.uniform(size=(n_2, n_1))  / 100\n",
    "    B_2 = np.random.uniform(size=(n_2, 1))  / 100\n",
    "    \n",
    "    # W[1] dims: n[1] * n[0]\n",
    "    # B[1] dims: n[1] * 1\n",
    "    # W[2] dims: n[2] * n[1]\n",
    "    # B[2] dims: n[2] * 1\n",
    "    \n",
    "    #### starting gradient descent loop\n",
    "    for i in range(iterations):\n",
    "\n",
    "\n",
    "        # hidden layer: compute linear transformation of inputs\n",
    "        Z_1 = np.dot(W_1, X) + B_1  # returns 5 * m array  (as there are 5 neurons)\n",
    "        #print(Z_1.shape)\n",
    "\n",
    "        # hidden layer: activation func\n",
    "        A_1 = relu(Z_1)\n",
    "        #print(A_1.shape)\n",
    "\n",
    "\n",
    "        # output layer: linear transformation\n",
    "        Z_2 = np.dot(W_2, A_1) + B_2\n",
    "        Z_2 = Z_2.astype(np.float) # ensure is float; needed for sigmoid() to work\n",
    "        #print(Z_2.shape)\n",
    "\n",
    "        # output layer: activation func\n",
    "        A_2 = sigmoid(Z_2)\n",
    "        #print(A_2.shape)\n",
    "\n",
    "\n",
    "        # store loss of predictions vs actual\n",
    "        #print('Y: '+ str(Y))\n",
    "        #print('A_2: ' + str(A_2))\n",
    "        loss_store[i] = cost_function(Y, A_2)\n",
    "        #print('loss store: ' + str(loss_store[i]))\n",
    "\n",
    "\n",
    "        # output layer: get derivatives\n",
    "        dZ_2 = A_2 - Y                           # dims: n[2] * m\n",
    "        #print(dZ_2.shape)\n",
    "\n",
    "        dW_2 = (1/m) * (dZ_2 @ A_1.T)\n",
    "        #print(dW_2.shape)\n",
    "\n",
    "        dB_2 = (1/m) * np.sum(dZ_2, axis=1, keepdims=True)  # sums horizontally\n",
    "        #print(dB_2.shape)\n",
    "\n",
    "\n",
    "        # hidden layer: get derivatives \n",
    "        dZ_1 = (W_2.T @ dZ_2) * relu_derivative(Z_1)   # dims: n[1] * m (where m is number of data inputs)\n",
    "                # W_2.T dims = n[1] * n[2]\n",
    "                # dZ_2 dims = n[2] * m\n",
    "                # relu_derivative(Z_1) dims = n[1] * m\n",
    "                ### so get n[1] * m output from matrix mult, then do element wise mult with relu_derivative(Z_1)\n",
    "        #print(dZ_1.shape)\n",
    "\n",
    "        dW_1 = (1/m) * (dZ_1 @ X.T)\n",
    "        #print(dW_1.shape)\n",
    "\n",
    "        dB_1 = (1/m) * np.sum(dZ_1, axis=1, keepdims=True)\n",
    "        #print(dB_1.shape)\n",
    "\n",
    "\n",
    "\n",
    "        # update weights\n",
    "        W_1 = W_1 - lr * dW_1\n",
    "        B_1 = B_1 - lr * dB_1\n",
    "        W_2 = W_2 - lr * dW_2\n",
    "        B_2 = B_2 - lr * dB_2\n",
    "\n",
    "\n",
    "\n",
    "    return W_1, B_1, W_2, B_2, loss_store\n",
    "\n",
    "    \n"
   ]
  },
  {
   "cell_type": "code",
   "execution_count": 153,
   "id": "postal-creature",
   "metadata": {},
   "outputs": [
    {
     "name": "stdout",
     "output_type": "stream",
     "text": [
      "[[-0.019038707576446122 0.01992479050719476 0.10219754990603036\n",
      "  0.06777390608035769]\n",
      " [-0.02055992195520091 0.02025746657913673 0.08545514077059663\n",
      "  0.04889520779632483]\n",
      " [-0.031344800281566186 0.032325167830948735 0.12898443358425113\n",
      "  0.07464021827030544]\n",
      " [-0.015883762226229264 0.014837312627304594 0.06139661354707217\n",
      "  0.04420091045104993]\n",
      " [-0.027429954223503535 0.03159995446094954 0.12361476926868295\n",
      "  0.07922880284326346]\n",
      " [-0.026328401392267095 0.027965126448621924 0.12785356018649083\n",
      "  0.07868662623945728]\n",
      " [-0.026257201377177377 0.022650263160464864 0.11213622482276533\n",
      "  0.068699792532909]\n",
      " [-0.034767059318643705 0.027884693252226804 0.14816600039666936\n",
      "  0.0928369109126145]\n",
      " [-0.015876127804617845 0.021287186253585406 0.08336107002832255\n",
      "  0.0501188970612519]\n",
      " [-0.030748045590819922 0.02945614428771853 0.12870471199872616\n",
      "  0.08221666008403343]]\n",
      "[[-0.010978889477657891]\n",
      " [-0.007917462489131942]\n",
      " [-0.008195065227835542]\n",
      " [-0.004303600418969409]\n",
      " [-0.007527381289411512]\n",
      " [-0.007484254281593231]\n",
      " [-0.011130028278584142]\n",
      " [-0.010952268896451768]\n",
      " [-0.005092895681944953]\n",
      " [-0.007323240772557911]]\n",
      "[[0.1257560323153866 0.10291337887025274 0.1557584822992351\n",
      "  0.0780933333702558 0.15208913407150204 0.1550026579830318\n",
      "  0.1359155934732497 0.18030829365352957 0.10029044704648513\n",
      "  0.1584141761289153]]\n",
      "[[-0.010978889477657891]\n",
      " [-0.007917462489131942]\n",
      " [-0.008195065227835542]\n",
      " [-0.004303600418969409]\n",
      " [-0.007527381289411512]\n",
      " [-0.007484254281593231]\n",
      " [-0.011130028278584142]\n",
      " [-0.010952268896451768]\n",
      " [-0.005092895681944953]\n",
      " [-0.007323240772557911]]\n"
     ]
    }
   ],
   "source": [
    "## training model and viewing weights\n",
    "W_1, B_1, W_2, B_2, loss_store = gradient_descent(train_input, train_labs, 10, 0.01, 5000)\n",
    "print(W_1)\n",
    "print(B_1)\n",
    "print(W_2)\n",
    "print(B_1)\n",
    "\n",
    "\n",
    "## sigmoid encounters overflow on training. Ways around this:\n",
    "# clipping gradients outside acceptable boundaries\n",
    "\n",
    "\n",
    "\n",
    "## Likely this is messing up training, as atm it predicts 0's for all, which isn't overfitting, as \n",
    "## predicting all 1's would get a better result"
   ]
  },
  {
   "cell_type": "code",
   "execution_count": 154,
   "id": "continuing-election",
   "metadata": {},
   "outputs": [
    {
     "data": {
      "text/plain": [
       "[<matplotlib.lines.Line2D at 0x135852c10>]"
      ]
     },
     "execution_count": 154,
     "metadata": {},
     "output_type": "execute_result"
    },
    {
     "data": {
      "image/png": "[encoded data removed]",
      "text/plain": [
       "<Figure size 432x288 with 1 Axes>"
      ]
     },
     "metadata": {
      "needs_background": "light"
     },
     "output_type": "display_data"
    }
   ],
   "source": [
    "# viewing trend in loss\n",
    "plt.plot(loss_store)\n",
    "#loss_store"
   ]
  },
  {
   "cell_type": "code",
   "execution_count": 155,
   "id": "square-sentence",
   "metadata": {},
   "outputs": [],
   "source": [
    "# applying to test set\n",
    "Z_1 = np.dot(W_1, test_input) + B_1\n",
    "A_1 = relu(Z_1)\n",
    "Z_2 = np.dot(W_2, A_1) + B_2\n",
    "Z_2 = Z_2.astype(np.float) \n",
    "predictions = sigmoid(Z_2)\n"
   ]
  },
  {
   "cell_type": "code",
   "execution_count": 156,
   "id": "included-emission",
   "metadata": {},
   "outputs": [
    {
     "data": {
      "text/plain": [
       "<matplotlib.collections.PathCollection at 0x13589ffd0>"
      ]
     },
     "execution_count": 156,
     "metadata": {},
     "output_type": "execute_result"
    },
    {
     "data": {
      "image/png": "[encoded data removed]",
      "text/plain": [
       "<Figure size 432x288 with 1 Axes>"
      ]
     },
     "metadata": {
      "needs_background": "light"
     },
     "output_type": "display_data"
    }
   ],
   "source": [
    "# evaluating accuracy on test set: nothing to write home about\n",
    "plt.scatter(predictions, test_labs)"
   ]
  },
  {
   "cell_type": "code",
   "execution_count": 157,
   "id": "later-assistant",
   "metadata": {},
   "outputs": [
    {
     "data": {
      "text/plain": [
       "array([[0.65463326, 0.73100814, 0.6942272 , 0.71791519, 0.70271266,\n",
       "        0.72756275, 0.59807019, 0.61354685, 0.59615428, 0.68209287,\n",
       "        0.73027719, 0.55093401, 0.72565872, 0.73248185, 0.69637838,\n",
       "        0.5818068 , 0.65023379, 0.64444493, 0.75649049, 0.57319804,\n",
       "        0.73521948, 0.76526855, 0.65202435, 0.6899524 , 0.5539079 ,\n",
       "        0.59252686, 0.72166662, 0.59110417, 0.67763687, 0.7364684 ]])"
      ]
     },
     "execution_count": 157,
     "metadata": {},
     "output_type": "execute_result"
    }
   ],
   "source": [
    "predictions"
   ]
  },
  {
   "cell_type": "code",
   "execution_count": null,
   "id": "spiritual-fellowship",
   "metadata": {},
   "outputs": [],
   "source": []
  }
 ],
 "metadata": {
  "kernelspec": {
   "display_name": "Python 3",
   "language": "python",
   "name": "python3"
  },
  "language_info": {
   "codemirror_mode": {
    "name": "ipython",
    "version": 3
   },
   "file_extension": ".py",
   "mimetype": "text/x-python",
   "name": "python",
   "nbconvert_exporter": "python",
   "pygments_lexer": "ipython3",
   "version": "3.9.1"
  }
 },
 "nbformat": 4,
 "nbformat_minor": 5
}
