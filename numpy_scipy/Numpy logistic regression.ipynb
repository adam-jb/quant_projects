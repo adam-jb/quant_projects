{
 "cells": [
  {
   "cell_type": "code",
   "execution_count": null,
   "id": "functional-sight",
   "metadata": {},
   "outputs": [],
   "source": [
    "# ## logistic regression in numpy, using arrays that will make extending it to a FFNN easier\n",
    "\n",
    "import numpy as np\n",
    "import pandas as pd\n",
    "import matplotlib.pyplot as plt"
   ]
  },
  {
   "cell_type": "code",
   "execution_count": null,
   "id": "raising-patrol",
   "metadata": {},
   "outputs": [],
   "source": [
    "\n",
    "# image input is 512*512*3. Unravel these to 1darray of length L\n",
    "# then put in array of training data, of dimensions L by m (where m is size of training group)\n",
    "# (a column for each datum)\n",
    "# and Y is 1*y matrix of labels\n",
    "\n",
    "# uses lower case m for training group\n"
   ]
  },
  {
   "cell_type": "code",
   "execution_count": null,
   "id": "impaired-coalition",
   "metadata": {},
   "outputs": [],
   "source": [
    "\n",
    "### logistic regression:\n",
    "# y = sigmoid(W^T*x + b)    # sigmoid of linear weights\n",
    "\n",
    "\n",
    "# assume all numpy functions are vectorised"
   ]
  },
  {
   "cell_type": "code",
   "execution_count": 150,
   "id": "social-trash",
   "metadata": {},
   "outputs": [
    {
     "name": "stdout",
     "output_type": "stream",
     "text": [
      "150 5\n",
      "(150, 5)\n"
     ]
    }
   ],
   "source": [
    "# load data\n",
    "data = pd.read_csv('https://gist.githubusercontent.com/curran/a08a1080b88344b0c8a7/raw/0e7a9b0a5d22642a06d3d5b9bcbad9890c8ee534/iris.csv')\n",
    "data = data.to_numpy()\n",
    "\n",
    "\n",
    "# unique, counts = np.unique(data[:, 4], return_counts=True)\n",
    "setosa_idx = data[:, 4] == 'setosa'  # simplify species column to binary\n",
    "data[:, 4] = 1   # not setosa\n",
    "data[setosa_idx, 4] = 0   # setosa\n",
    "\n",
    "\n",
    "# data = np.hstack([np.array([1]*150).reshape(150,1), data])  # adding intercept column\n",
    "\n",
    "\n",
    "idx = np.random.rand(*data.shape).argsort(axis=0) # randomising order for test/train split\n",
    "data = np.take_along_axis(data,idx,axis=0)\n",
    "\n",
    "\n",
    "print(*data.shape)  # return values outside tuple\n",
    "print(data.shape)\n",
    "\n"
   ]
  },
  {
   "cell_type": "code",
   "execution_count": 189,
   "id": "temporal-organizer",
   "metadata": {},
   "outputs": [
    {
     "data": {
      "text/plain": [
       "(4, 120)"
      ]
     },
     "execution_count": 189,
     "metadata": {},
     "output_type": "execute_result"
    }
   ],
   "source": [
    "train_input = data[:120, :4].T   # transpose to row for each feature and column for each value: faster calcs\n",
    "train_labs = data[:120, 4:].T\n",
    "\n",
    "test_input = data[120:, :4].T\n",
    "test_labs = data[120:, 4:].T\n",
    "\n",
    "train_input.astype(np.float)\n",
    "test_input.astype(np.float)\n",
    "\n",
    "\n",
    "train_input.shape"
   ]
  },
  {
   "cell_type": "code",
   "execution_count": 191,
   "id": "valuable-aircraft",
   "metadata": {},
   "outputs": [
    {
     "name": "stdout",
     "output_type": "stream",
     "text": [
      "object\n"
     ]
    }
   ],
   "source": [
    "print(train_input.dtype)"
   ]
  },
  {
   "cell_type": "code",
   "execution_count": 268,
   "id": "electric-hawaiian",
   "metadata": {},
   "outputs": [],
   "source": [
    "def cost_function(y, y_hat):   \n",
    "    \"\"\"Logistic regression cost function\n",
    "    y = actual\n",
    "    y_hat = predicted\n",
    "    \n",
    "    If y=1 the 2nd part goes to zero. It rewards a large y_hat (ie, close to 1)\n",
    "    If y=0 it rewards a small y_hat value (ie, close to 0, as you'd expect)\n",
    "    \n",
    "    More on cost function here: \n",
    "    https://www.coursera.org/learn/neural-networks-deep-learning/lecture/yWaRd/logistic-regression-cost-function\n",
    "    \"\"\"\n",
    "    m = y.shape[1]  # total predictions made\n",
    "    print('m of: ' + str(m))\n",
    "    \n",
    "    lhs_with_dot = np.dot(y, np.log(y_hat).T) # returns 1x1 array\n",
    "    rhs_with_dot = np.dot((1 - y), np.log(1 - y_hat).T)\n",
    "    \n",
    "    lhs = np.multiply(test_labs, np.log(dummy_prediction)) # element-wise returns 1 * m array\n",
    "    rhs = np.multiply((1 - y), np.log(1 - y_hat))\n",
    "    \n",
    "    \"\"\"\n",
    "    print(rhs_with_dot.shape)    \n",
    "    print(rhs.shape)    \n",
    "    print(np.sum(rhs_with_dot))\n",
    "    print(np.sum(rhs))\n",
    "    \"\"\"\n",
    "\n",
    "    total_loss = np.sum(lhs + rhs)\n",
    "    return -total_loss / m\n",
    "\n"
   ]
  },
  {
   "cell_type": "code",
   "execution_count": null,
   "id": "virtual-acoustic",
   "metadata": {},
   "outputs": [],
   "source": []
  },
  {
   "cell_type": "code",
   "execution_count": 269,
   "id": "permanent-wayne",
   "metadata": {},
   "outputs": [],
   "source": [
    "def gradient_descent(input_data, y, lr, iterations):\n",
    "    \"\"\"Gradient descent to minimise cost function\n",
    "    \n",
    "    No complicated use of chain rule yet as no NN\n",
    "    lr = Learning rate; magnitude of updates on each iteration\n",
    "    \n",
    "    \n",
    "    dz = (y_hat - y) / m  # differential of z (linear regression stage)\n",
    "                        m = sample size\n",
    "                        \n",
    "    dw1 = x1 * dz  # x1 = \n",
    "    dw2 = x2 * dz\n",
    "    .. etc\n",
    "    db = b * dz\n",
    "    \n",
    "    For more on where the above formulae come from:\n",
    "    https://www.coursera.org/learn/neural-networks-deep-learning/lecture/5sdh6/logistic-regression-gradient-descent\n",
    "    \n",
    "    \n",
    "    w = w - lr*dw, where dw = slope of parameters (ie, derivative of cost func with respect to w)\n",
    "    b = b - lr*db    # same idea, for intercept value\n",
    "    \n",
    "    \n",
    "   \"\"\"\n",
    "    w_input_params_len = input_data.shape[0]\n",
    "    w = np.random.uniform(size=(w_input_params_len, 1)) # make of size m by 1\n",
    "    b = np.random.uniform(size=(1, 1))\n",
    "    \n",
    "    assert(w.shape == (w_input_params_len, 1))  # raises error if not true\n",
    "    \n",
    "    print(input_data.shape)\n",
    "    print(w.T.shape)\n",
    "    \n",
    "    \n",
    "    # starting gradient descent loop\n",
    "    for i in range(iterations):\n",
    "        \n",
    "        # compute linear transformation of inputs\n",
    "        linear_result = np.dot(w.T, input_data) + b  # returns m * 1 array\n",
    "        linear_result = linear_result.astype(np.float)  # ensure is float; needed for np.exp() to work\n",
    "        #print('linear_result shape: ' + str(linear_result.shape))\n",
    "\n",
    "        \"\"\"\n",
    "        print(linear_result.shape)\n",
    "        print(linear_result.ndim)\n",
    "        print(linear_result.dtype)\n",
    "        \"\"\"\n",
    "\n",
    "        y_hat = 1 / (1 + np.exp(-linear_result * 1.0))  # apply logistic func for each input value\n",
    "        #print('y_hat shape: ' + str(y_hat.shape))\n",
    "\n",
    "        # get weight derivatives\n",
    "        dz = y_hat - y           # think 'z' refers to the linear_result stage\n",
    "                                # dz has a value for each input datum\n",
    "\n",
    "        db = np.sum(dz) / m\n",
    "\n",
    "\n",
    "        dw = np.dot(1/m, dz.T)  # should dw be 4,1 not 120,1 dimensions, or a single value\n",
    "        #print(dw.shape)\n",
    "        dw = np.mean(dw)   # fudging it until understand further: making it a single number for now\n",
    "                        # which means all weights will update by an equal amount in the gradient descent\n",
    "                        # which doesnt seem optimal\n",
    "\n",
    "\n",
    "        # make new weights\n",
    "        w = w - lr * dw\n",
    "        b = b - lr * db\n",
    "        \n",
    "    return w, b\n",
    "\n",
    "    \n",
    "    "
   ]
  },
  {
   "cell_type": "code",
   "execution_count": 270,
   "id": "postal-creature",
   "metadata": {},
   "outputs": [
    {
     "name": "stdout",
     "output_type": "stream",
     "text": [
      "(4, 120)\n",
      "(1, 4)\n",
      "[[0.06706159]\n",
      " [0.24803914]\n",
      " [0.43868117]\n",
      " [0.4569271 ]]\n",
      "[[-2.441317]]\n"
     ]
    }
   ],
   "source": [
    "## getting weights\n",
    "w, b = gradient_descent(train_input, train_labs, 0.1, 10000)\n",
    "print(w)\n",
    "print(b)\n"
   ]
  },
  {
   "cell_type": "code",
   "execution_count": 271,
   "id": "square-sentence",
   "metadata": {},
   "outputs": [],
   "source": [
    "# applying to test set\n",
    "linear_result = np.dot(w.T, test_input) + b\n",
    "linear_result = linear_result.astype(np.float)\n",
    "predictions = 1 / (1 + np.exp(-linear_result))"
   ]
  },
  {
   "cell_type": "code",
   "execution_count": 272,
   "id": "included-emission",
   "metadata": {},
   "outputs": [
    {
     "data": {
      "text/plain": [
       "<matplotlib.collections.PathCollection at 0x12da5d880>"
      ]
     },
     "execution_count": 272,
     "metadata": {},
     "output_type": "execute_result"
    },
    {
     "data": {
      "image/png": "[encoded data removed]",
      "text/plain": [
       "<Figure size 432x288 with 1 Axes>"
      ]
     },
     "metadata": {
      "needs_background": "light"
     },
     "output_type": "display_data"
    }
   ],
   "source": [
    "# evaluating accuracy on test set: doesnt seem to differentiate between classes too well\n",
    "plt.scatter(predictions, test_labs)"
   ]
  },
  {
   "cell_type": "code",
   "execution_count": 273,
   "id": "later-assistant",
   "metadata": {},
   "outputs": [],
   "source": [
    "# recommends always making arrays 2d to avoid confusion"
   ]
  },
  {
   "cell_type": "code",
   "execution_count": 275,
   "id": "spiritual-fellowship",
   "metadata": {},
   "outputs": [
    {
     "name": "stdout",
     "output_type": "stream",
     "text": [
      "m of: 30\n"
     ]
    },
    {
     "data": {
      "text/plain": [
       "1.0522477564544752"
      ]
     },
     "execution_count": 275,
     "metadata": {},
     "output_type": "execute_result"
    }
   ],
   "source": [
    "# test cost function\n",
    "dummy_prediction = np.random.uniform(size=30)\n",
    "dummy_prediction = dummy_prediction.reshape(1, dummy_prediction.shape[0])\n",
    "\n",
    "cost = cost_function(test_labs, dummy_prediction)\n",
    "cost\n"
   ]
  }
 ],
 "metadata": {
  "kernelspec": {
   "display_name": "Python 3",
   "language": "python",
   "name": "python3"
  },
  "language_info": {
   "codemirror_mode": {
    "name": "ipython",
    "version": 3
   },
   "file_extension": ".py",
   "mimetype": "text/x-python",
   "name": "python",
   "nbconvert_exporter": "python",
   "pygments_lexer": "ipython3",
   "version": "3.9.1"
  }
 },
 "nbformat": 4,
 "nbformat_minor": 5
}
