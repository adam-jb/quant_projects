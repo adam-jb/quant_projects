{
 "cells": [
  {
   "cell_type": "code",
   "execution_count": null,
   "id": "starting-riverside",
   "metadata": {},
   "outputs": [],
   "source": [
    "\n",
    "# Notes from Flask Web Development book\n",
    "\n",
    "\n",
    "\n",
    "# js code to load data from jinja, which can then be used in D3 as usual\n",
    "# var graphData = {{ data_from_flask_via_jinja | safe }} \n",
    "\n",
    "# example of applying D3 func to dynamic data from flask:\n",
    "# https://branetheory.org/2014/12/18/data-visualization-using-d3-js-and-flask/\n",
    "\n",
    "\n",
    "\n"
   ]
  },
  {
   "cell_type": "code",
   "execution_count": 1,
   "id": "happy-british",
   "metadata": {},
   "outputs": [],
   "source": [
    "# outing, debugging, and Web Server Gateway Interface (WSGI) subsystems come from Werkzeug\n",
    "# template support from jinja\n",
    "## apart from the two lines above, you chose what package does things\n",
    "\n",
    "\n",
    "from flask import Flask \n",
    "app = Flask(__name__)  # the __name__ is used to determine root path of app\n",
    "\n",
    "\n",
    "# browsers send 'requests' to the server, which sends them to a flask app instance\n",
    "# and the URL is mapped to a py func, eg: \n",
    "\n",
    "\n",
    "@app.route('/')   # using decorator to register index() func as a handler for event (in this case, going to a URL)\n",
    "def index():\n",
    "    \"\"\"Funcs like this are called View Functons, and return a response (eg HTML)\"\"\"\n",
    "    return '<h1>Hello World!</h1>'\n",
    "\n",
    "\n",
    "# ensures server is only launched when this script called directly\n",
    "if __name__ == '__main__': \n",
    "    app.run(debug=True)"
   ]
  },
  {
   "cell_type": "code",
   "execution_count": 7,
   "id": "received-disaster",
   "metadata": {},
   "outputs": [
    {
     "name": "stdout",
     "output_type": "stream",
     "text": [
      "<h1>Hello, Jess!</h1>\n",
      "<h1>Hello, Jess!</h1>\n"
     ]
    }
   ],
   "source": [
    "## embed text: two methods\n",
    "name = 'Jess' \n",
    "print('<h1>Hello, %s!</h1>' % name)\n",
    "print(f'<h1>Hello, {name}!</h1>' )"
   ]
  },
  {
   "cell_type": "code",
   "execution_count": null,
   "id": "popular-counter",
   "metadata": {},
   "outputs": [],
   "source": [
    "### 'name' is passed to function as an input\n",
    "@app.route('/user/<name>') \n",
    "def user(name):\n",
    "\treturn '<h1>Hello, %s!</h1>' % name \n"
   ]
  },
  {
   "cell_type": "code",
   "execution_count": 1,
   "id": "jewish-serum",
   "metadata": {},
   "outputs": [],
   "source": [
    "# defines a thread as the smallest sequence of instructions that can be handled independently\n",
    "# and a process can have multiple active threads\n",
    "# \n",
    "# \n",
    "# a request object captures contents of an HTTP request sent by the client\n",
    "# \n",
    "# g = common obj name for temp storage during handling of a request. Ensure if important\n",
    "# \n",
    "# \n",
    "# \n"
   ]
  },
  {
   "cell_type": "code",
   "execution_count": null,
   "id": "social-cleanup",
   "metadata": {},
   "outputs": [],
   "source": [
    "# HTTP\n",
    "#\n",
    "#"
   ]
  },
  {
   "cell_type": "markdown",
   "id": "anticipated-jenny",
   "metadata": {},
   "source": [
    "### Http methods\n",
    "Get = only retrieves data\\\n",
    "Head = same as get, but without response data (just metadata I think)\\\n",
    "post = submits data\\\n",
    "put = replace all data in target with sent data\\\n",
    "delete = deltes something\\\n",
    "there are a few others: https://developer.mozilla.org/en-US/docs/Web/HTTP/Methods"
   ]
  },
  {
   "cell_type": "code",
   "execution_count": 19,
   "id": "attempted-dressing",
   "metadata": {},
   "outputs": [
    {
     "name": "stdout",
     "output_type": "stream",
     "text": [
      "Map([<Rule '/' (HEAD, GET, OPTIONS) -> index>,\n",
      " <Rule '/static/<filename>' (HEAD, GET, OPTIONS) -> static>])\n",
      "__main__\n",
      "<Flask '__main__'>\n",
      "__main__\n"
     ]
    }
   ],
   "source": [
    "from flask import request, Flask, current_app\n",
    "app = Flask(__name__)\n",
    "@app.route('/')\n",
    "def index():\n",
    "    return '<p>Your browser is %s</p>' % 'aaa'\n",
    "\n",
    "print(app.url_map)  # shows URL options, and 'static' route (shows you flask is ready to read from 'static' folder)\n",
    "        # also shows you request methods accepted by each route\n",
    "    \n",
    "\n",
    "# after making app (generally in separate script), can get it's context \n",
    "app_context = app.app_context()\n",
    "app_context.push()\n",
    "print(current_app.name)\n",
    "print(current_app)\n",
    "app_context.pop()\n",
    "print(current_app.name)  # get error now context is 'popped'"
   ]
  },
  {
   "cell_type": "code",
   "execution_count": null,
   "id": "satisfied-virus",
   "metadata": {},
   "outputs": [],
   "source": [
    "# 'request hooks'  = decorators that can be applied to @app funcs. Good for things that cut across lots\n",
    "# of pages like user login credential tests\n",
    "\n",
    "# can use flask.make_response() to make a response object (inc http response status code of your choice). So\n",
    "# could be good for making error handling more official if making an API\n",
    "\n",
    "# "
   ]
  },
  {
   "cell_type": "code",
   "execution_count": null,
   "id": "wrong-cleveland",
   "metadata": {},
   "outputs": [],
   "source": [
    "# to redirect to another site\n",
    "@app.route('/') \n",
    "def index():\n",
    "    return redirect('http://www.example.com')"
   ]
  },
  {
   "cell_type": "code",
   "execution_count": 24,
   "id": "complimentary-thickness",
   "metadata": {},
   "outputs": [
    {
     "ename": "Forbidden",
     "evalue": "403 Forbidden: You don't have the permission to access the requested resource. It is either read-protected or not readable by the server.",
     "output_type": "error",
     "traceback": [
      "\u001b[0;31m---------------------------------------------------------------------------\u001b[0m",
      "\u001b[0;31mForbidden\u001b[0m                                 Traceback (most recent call last)",
      "\u001b[0;32m<ipython-input-24-1976cd7561fc>\u001b[0m in \u001b[0;36m<module>\u001b[0;34m\u001b[0m\n\u001b[1;32m      1\u001b[0m \u001b[0;32mfrom\u001b[0m \u001b[0mflask\u001b[0m \u001b[0;32mimport\u001b[0m \u001b[0mabort\u001b[0m\u001b[0;34m\u001b[0m\u001b[0;34m\u001b[0m\u001b[0m\n\u001b[0;32m----> 2\u001b[0;31m \u001b[0mprint\u001b[0m\u001b[0;34m(\u001b[0m\u001b[0mabort\u001b[0m\u001b[0;34m(\u001b[0m\u001b[0;36m403\u001b[0m\u001b[0;34m)\u001b[0m\u001b[0;34m)\u001b[0m  \u001b[0;31m# returns abort message with relevant status code\u001b[0m\u001b[0;34m\u001b[0m\u001b[0;34m\u001b[0m\u001b[0m\n\u001b[0m\u001b[1;32m      3\u001b[0m \u001b[0mprint\u001b[0m\u001b[0;34m(\u001b[0m\u001b[0mabort\u001b[0m\u001b[0;34m(\u001b[0m\u001b[0;36m404\u001b[0m\u001b[0;34m)\u001b[0m\u001b[0;34m)\u001b[0m\u001b[0;34m\u001b[0m\u001b[0;34m\u001b[0m\u001b[0m\n",
      "\u001b[0;32m/usr/local/lib/python3.9/site-packages/werkzeug/exceptions.py\u001b[0m in \u001b[0;36mabort\u001b[0;34m(status, *args, **kwargs)\u001b[0m\n\u001b[1;32m    820\u001b[0m \u001b[0;34m\u001b[0m\u001b[0m\n\u001b[1;32m    821\u001b[0m     \"\"\"\n\u001b[0;32m--> 822\u001b[0;31m     \u001b[0;32mreturn\u001b[0m \u001b[0m_aborter\u001b[0m\u001b[0;34m(\u001b[0m\u001b[0mstatus\u001b[0m\u001b[0;34m,\u001b[0m \u001b[0;34m*\u001b[0m\u001b[0margs\u001b[0m\u001b[0;34m,\u001b[0m \u001b[0;34m**\u001b[0m\u001b[0mkwargs\u001b[0m\u001b[0;34m)\u001b[0m\u001b[0;34m\u001b[0m\u001b[0;34m\u001b[0m\u001b[0m\n\u001b[0m\u001b[1;32m    823\u001b[0m \u001b[0;34m\u001b[0m\u001b[0m\n\u001b[1;32m    824\u001b[0m \u001b[0;34m\u001b[0m\u001b[0m\n",
      "\u001b[0;32m/usr/local/lib/python3.9/site-packages/werkzeug/exceptions.py\u001b[0m in \u001b[0;36m__call__\u001b[0;34m(self, code, *args, **kwargs)\u001b[0m\n\u001b[1;32m    805\u001b[0m         \u001b[0;32mif\u001b[0m \u001b[0mcode\u001b[0m \u001b[0;32mnot\u001b[0m \u001b[0;32min\u001b[0m \u001b[0mself\u001b[0m\u001b[0;34m.\u001b[0m\u001b[0mmapping\u001b[0m\u001b[0;34m:\u001b[0m\u001b[0;34m\u001b[0m\u001b[0;34m\u001b[0m\u001b[0m\n\u001b[1;32m    806\u001b[0m             \u001b[0;32mraise\u001b[0m \u001b[0mLookupError\u001b[0m\u001b[0;34m(\u001b[0m\u001b[0;34m\"no exception for %r\"\u001b[0m \u001b[0;34m%\u001b[0m \u001b[0mcode\u001b[0m\u001b[0;34m)\u001b[0m\u001b[0;34m\u001b[0m\u001b[0;34m\u001b[0m\u001b[0m\n\u001b[0;32m--> 807\u001b[0;31m         \u001b[0;32mraise\u001b[0m \u001b[0mself\u001b[0m\u001b[0;34m.\u001b[0m\u001b[0mmapping\u001b[0m\u001b[0;34m[\u001b[0m\u001b[0mcode\u001b[0m\u001b[0;34m]\u001b[0m\u001b[0;34m(\u001b[0m\u001b[0;34m*\u001b[0m\u001b[0margs\u001b[0m\u001b[0;34m,\u001b[0m \u001b[0;34m**\u001b[0m\u001b[0mkwargs\u001b[0m\u001b[0;34m)\u001b[0m\u001b[0;34m\u001b[0m\u001b[0;34m\u001b[0m\u001b[0m\n\u001b[0m\u001b[1;32m    808\u001b[0m \u001b[0;34m\u001b[0m\u001b[0m\n\u001b[1;32m    809\u001b[0m \u001b[0;34m\u001b[0m\u001b[0m\n",
      "\u001b[0;31mForbidden\u001b[0m: 403 Forbidden: You don't have the permission to access the requested resource. It is either read-protected or not readable by the server."
     ]
    }
   ],
   "source": [
    "from flask import abort\n",
    "print(abort(403))  # returns abort message with relevant status code"
   ]
  },
  {
   "cell_type": "code",
   "execution_count": 27,
   "id": "worth-tiger",
   "metadata": {},
   "outputs": [],
   "source": [
    "# if you want to add CLI commands to py script, CLICK package looks like a good\n",
    "# way to do it (esp with nice automatic help-page generation formatting)\n",
    "# https://click.palletsprojects.com/en/8.0.x/"
   ]
  },
  {
   "cell_type": "code",
   "execution_count": 29,
   "id": "ignored-hardwood",
   "metadata": {},
   "outputs": [],
   "source": [
    "# para from jinja in html: <p>A value from a dictionary: {{ mydict['key'] }}.</p>\n",
    "\n",
    "# {{ name|capitalize }}     # capitalize 'filter' makes first char from jinja caps and rest lowercase\n",
    "\n",
    "# 'escaping' = jinja ignores some of the input \n",
    "\n",
    "# Jinja can generate any text-based format (HTML, XML, CSV, LaTeX, etc.)\n",
    "\n",
    "## never use 'safe' filter for webforms or other things which someone other than you might have completed\n",
    "\n",
    "## 'Macros' in Jinja are like functions, eg 'render_comment' macro below\n",
    "#{% macro render_comment(comment) %} \n",
    "#    <li>{{ comment }}</li>\n",
    "#{% endmacro %}\n",
    "\n",
    "# can store macros in standalone html files and source them:\n",
    "# {% import 'macros.html' as macros %}\n",
    "#<ul>\n",
    "#    {% for comment in comments %}\n",
    "#        {{ macros.render_comment(comment) }}\n",
    "#    {% endfor %}\n",
    "#</ul>"
   ]
  },
  {
   "cell_type": "code",
   "execution_count": null,
   "id": "wrong-miracle",
   "metadata": {},
   "outputs": [],
   "source": [
    "# to inherit jinja templates from other html file: {% extends \"base.html\" %}\n",
    "\n",
    "# this 'title' block of a templte: <title>{% block title %}{% endblock %} - My Application</title>\n",
    "# could be called and edited within the child page: \n",
    "#{% extends \"base.html\" %}\n",
    "#{% block title %}Some new title{% endblock %}\n",
    "\n",
    "# if want to retain parent contents of a block while editing other blocks, think you need to call\n",
    "# {{ super() }} in that block in the child code, eg (tho not sure the style rows are important here):\n",
    "\n",
    "# {% block head %}\n",
    "#{{ super() }}\n",
    "#<style>\n",
    "#</style>\n",
    "#{% endblock %}\n",
    "\n",
    "# search for 'child templates' here for more: https://jinja.palletsprojects.com/en/3.0.x/templates/"
   ]
  },
  {
   "cell_type": "code",
   "execution_count": 32,
   "id": "chief-arlington",
   "metadata": {},
   "outputs": [],
   "source": [
    "from flask_bootstrap import Bootstrap  # do this, not from flask.ext.Bootstrap (old way that doesn't work)\n",
    "\n",
    "\n",
    "# Once Flask-Bootstrap is initialized, a base template that includes all \n",
    "# the Bootstrap files is available to the application, which can be\n",
    "# inherited by (bootstrap includes all bootstrap css and js templates, and \n",
    "# 'base' is just one option):\n",
    "# {% extends \"bootstrap/base.html\" %}\n",
    "\n",
    "\n",
    "\n",
    "\n"
   ]
  },
  {
   "cell_type": "code",
   "execution_count": null,
   "id": "cordless-senator",
   "metadata": {},
   "outputs": [],
   "source": [
    "# can make pages which load on error codes. 500 is a good one as 'unhandled exception', so should\n",
    "# catch all else (500 aka 'internal server error' so quite general)\n",
    "@app.errorhandler(404) \n",
    "def page_not_found(e):\n",
    "    return render_template('404.html'), 404\n",
    "\n",
    "@app.errorhandler(500)\n",
    "def internal_server_error(e):\n",
    "    return render_template('500.html'), 500\n",
    "\n",
    "# suggests that for the templates of these you inherit the navbar or base.html pages you use, so users\n",
    "# can still get around"
   ]
  },
  {
   "cell_type": "code",
   "execution_count": null,
   "id": "blond-tournament",
   "metadata": {},
   "outputs": [],
   "source": [
    "# url_for('index', page=2) would return /?page=2."
   ]
  },
  {
   "cell_type": "code",
   "execution_count": null,
   "id": "latest-delay",
   "metadata": {},
   "outputs": [],
   "source": [
    "# in url_for(), set _external=True to return full URL rather than internal redirection only (eg:\n",
    "# http::/localhost.... which could be good if referencing external websites)"
   ]
  },
  {
   "cell_type": "code",
   "execution_count": null,
   "id": "excellent-spyware",
   "metadata": {},
   "outputs": [],
   "source": [
    "# to include 'favicon.ico' for browsers to show in address bar, sourcing it from 'static' folder\n",
    "{% block head %}\n",
    "<link rel=\"shortcut icon\" href=\"{{ url_for('static', filename = 'favicon.ico') }}\" type=\"image/x-icon\">\n",
    "<link rel=\"icon\" href=\"{{ url_for('static', filename = 'favicon.ico') }}\" type=\"image/x-icon\">\n",
    "{% endblock %}"
   ]
  },
  {
   "cell_type": "code",
   "execution_count": 34,
   "id": "other-chicago",
   "metadata": {},
   "outputs": [],
   "source": [
    "from flask_moment import Moment  # for working with dates and times\n",
    "\n",
    "# Moment uses jquery (included in flask's bootstrap module) and moment.js (needs sourcing from CDN)"
   ]
  },
  {
   "cell_type": "code",
   "execution_count": null,
   "id": "proved-accordance",
   "metadata": {},
   "outputs": [],
   "source": [
    "# to p54\n"
   ]
  },
  {
   "cell_type": "code",
   "execution_count": null,
   "id": "royal-mexican",
   "metadata": {},
   "outputs": [],
   "source": []
  },
  {
   "cell_type": "code",
   "execution_count": null,
   "id": "floppy-student",
   "metadata": {},
   "outputs": [],
   "source": []
  },
  {
   "cell_type": "code",
   "execution_count": null,
   "id": "executed-receptor",
   "metadata": {},
   "outputs": [],
   "source": []
  },
  {
   "cell_type": "code",
   "execution_count": 37,
   "id": "handled-upgrade",
   "metadata": {},
   "outputs": [
    {
     "name": "stdout",
     "output_type": "stream",
     "text": [
      "<class 'flask.wrappers.Response'>\n"
     ]
    },
    {
     "data": {
      "text/plain": [
       "<Response 14 bytes [200 OK]>"
      ]
     },
     "execution_count": 37,
     "metadata": {},
     "output_type": "execute_result"
    }
   ],
   "source": [
    "# pass jsonified things to output of API on flask\n",
    "from flask import jsonify\n",
    "print(type(jsonify(1, 2, 3, 4, 5, 6)))   # jsonify converts 1+ objs to json and to \n",
    "                                        # a format one can use for a request response\n",
    "jsonify(1, 2, 3, 4, 5, 6)"
   ]
  },
  {
   "cell_type": "code",
   "execution_count": null,
   "id": "basic-establishment",
   "metadata": {},
   "outputs": [],
   "source": [
    "# API follows 'blueprint' structure, with py script for each response type\n",
    "-flasky \n",
    "   |-app/\n",
    "    |-api_1_0 \n",
    "        |-__init__.py \n",
    "        |-user.py \n",
    "        |-post.py \n",
    "        |-comment.py \n",
    "        |-authentication.py \n",
    "        |-errors.py \n",
    "        |-decorators.py"
   ]
  },
  {
   "cell_type": "code",
   "execution_count": null,
   "id": "smooth-christmas",
   "metadata": {},
   "outputs": [],
   "source": [
    "# RESTful APIs are stateless (they dont remember anything about clients between updates)\n",
    "\n",
    "# flask-httpauth lets you verify by email and password, hiding the API until auth'd\n",
    "# should only use this on https, as people will be sending secure credentials\n",
    "\n",
    "# session = one per client (using cookies)\n",
    "# g = one per request (shorter term)\n",
    "\n",
    "# can use to make new encrypted token:\n",
    "# s = Serializer(current_app.config['SECRET_KEY'], expires_in=seconds_till_it_expires)  # makes new serialid \n",
    "# s.dumps({'id': self.id})  # gives json of id:key \n",
    "\n",
    "# to decrypt token:\n",
    "# s = Serializer(current_app.config['SECRET_KEY'])\n",
    "# data = s.loads(token)"
   ]
  },
  {
   "cell_type": "markdown",
   "id": "little-proceeding",
   "metadata": {},
   "source": [
    "\n",
    "## Notes on APIs in Flask\n",
    "\n",
    "Notes from https://www.youtube.com/watch?v=WxGBoY5iNXY&ab_channel=PrettyPrinted on making a flask API with Auth:\n",
    "To ‘login’ need to make GET request of type ‘Basic Auth’, putting in username and password. Can set this query up in a curl request or with the help of a service like https://web.postman.co/\n",
    "\n",
    "Could hack if in a hurry and ask for password (or key) as part of incoming json request, and return error if they aren’t on the system\n",
    "\n",
    "Can output an array from an API as they’re Json serialisable\n",
    "\n",
    "To test APIs quickly (not tried):\n",
    "https://web.postman.co/\n",
    "\n",
    "To POST json to API:\n",
    "https://reqbin.com/req/c-dwjszac0/curl-post-json-example\n",
    "\n",
    "PATCH - like PUT in that it changes things, but can change subsets of data rather than updating an entire record\n",
    "\n",
    "curl -v {URL}   …means \"verbose mode please\" and will make curl show its request, the response headers and additional informational details about the transfer performed. Tells you content type (eg: html/json/etc),  and other info\n",
    "\n",
    "curl -H “Content-Type: application/json” -X POST -d “{\\“aa\\”: \\“bb\\”}” http://127.0.0.1:5000/\n",
    "\n",
    "Every resource (page, thing, piece of information) should have a unique URL\n",
    "Flask redirects from non-trailing slash urls to trailing slash URLs if it can’t find anything at non-trailing URL, but not vice versa\n",
    "GET = get info (aka the Resource)\n",
    "POST = post new info (Resource) to the server. Good for internal system I expect\n",
    "PUT = modify existing resource\n",
    "DELETE = delete Resource (or a collection of resources)\n",
    "XML and JSON are most common API formats (json seems more suited to me)\n",
    "In a well-designed RESTful API, the client just knows a short list of top-level resource URLs and then discovers the rest from links included in responses, similar to how you can discover new web pages while browsing the Web by clicking on links that appear in pages that you know. \n",
    "\n",
    "You might include a number in the API url representing it’s version, in case any processing protocols change over time and the new version isn’t backwards compatitible, eg /api/v1.0/posts/ \n",
    "\n",
    "Example api structure (each resource is it’s own module):\n",
    "|-flasky \n",
    "|-app/ \n",
    "|-api_1_0 |\n",
    "-__init__.py |-user.py |-post.py |-comment.py |-authentication.py |-errors.py |-decorators.py \n",
    "\n",
    "Can make error handlers for specific HTTP status codes which call specific templates (eg: 404.html)\n",
    "\n",
    "‘Anonymous’ access allows a user to access a website’s public space without providing a user id and password.\n",
    "\n",
    "API should very much be HTTPS only as secure keys are being sent\n",
    "\n",
    "Denormalisation = increasing redundancy\n",
    "\n",
    "‘Regressions’ in code = new code affecting the way old code works\n",
    "\n"
   ]
  },
  {
   "cell_type": "markdown",
   "id": "composite-weapon",
   "metadata": {},
   "source": [
    "\n",
    "## More on APIs\n",
    "\n",
    "REST API contains: resourcep path (URL), HTTP verb (get/post/put/delete), json body (PUT/POST only), header (metadata)\n",
    "\n",
    "#### Use -H to add a header to a request in Curl\n",
    "curl https://reqbin.com/echo/get/json\n",
    "   -H \"X-Custom-Header: value\"\n",
    "\n",
    "\n",
    "#### ways of including body in Curl request\n",
    "'-d' meaning 'send data', another way of saying POST\n",
    "curl -d 'id=9&name=baeldung' http://localhost:8082/spring-rest/foos/new\n",
    "\n",
    "curl -d '{\"id\":9,\"name\":\"baeldung\"}' -H 'Content-Type: application/json' \n",
    "  http://localhost:8082/spring-rest/foos/new\n",
    "\n",
    "\n",
    "#### Sending json from file to API\n",
    "curl -d @request.json -H \"Content-Type: application/json\" \n",
    "  http://localhost:8082/spring-rest/foos/new\n",
    "\n",
    "\n",
    "\n",
    "#### More on Curl APIs\n",
    "https://www.baeldung.com/curl-rest\n",
    "\n",
    "\n",
    "\n",
    "\n",
    "\n",
    "\n",
    "\n",
    "\n",
    "\n"
   ]
  }
 ],
 "metadata": {
  "kernelspec": {
   "display_name": "Python 3",
   "language": "python",
   "name": "python3"
  },
  "language_info": {
   "codemirror_mode": {
    "name": "ipython",
    "version": 3
   },
   "file_extension": ".py",
   "mimetype": "text/x-python",
   "name": "python",
   "nbconvert_exporter": "python",
   "pygments_lexer": "ipython3",
   "version": "3.9.7"
  }
 },
 "nbformat": 4,
 "nbformat_minor": 5
}
