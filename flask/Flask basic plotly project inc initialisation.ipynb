{
 "cells": [
  {
   "cell_type": "code",
   "execution_count": 1,
   "id": "facial-texas",
   "metadata": {},
   "outputs": [
    {
     "data": {
      "text/plain": [
       "'\\nvirtualenv venv\\n\\n'"
      ]
     },
     "execution_count": 1,
     "metadata": {},
     "output_type": "execute_result"
    }
   ],
   "source": [
    "\n",
    "\n",
    "## Once navigated to your project folder (it should be empty, run this in terminal (mac):\n",
    "\"\"\"\n",
    "virtualenv venv\n",
    "source venv/bin/activate\n",
    "pip3 install flask pandas numpy plotly\n",
    "pip freeze > requirements.txt\n",
    "\n",
    "mkdir templates\n",
    "\n",
    "touch run.py\n",
    "touch templates/home.html\n",
    "\n",
    "\n",
    "### these aren't used in this example\n",
    "mkdir static\n",
    "mkdir static/css\n",
    "mkdir static/js\n",
    "mkdir static/data\n",
    "\n",
    "touch templates/base.html  # could have formatting used by other html files\n",
    "touch static/css/main.css\n",
    "touch static/js/main.js\n",
    "touch static/js/pieChart.js\n",
    "touch static/js/barChart.js\n",
    "touch static/js/updateChart.js\n",
    "touch static/data/train.csv\n",
    "\n",
    "\"\"\"\n",
    "\n"
   ]
  },
  {
   "cell_type": "code",
   "execution_count": 2,
   "id": "trying-practitioner",
   "metadata": {},
   "outputs": [
    {
     "ename": "SyntaxError",
     "evalue": "invalid character '‘' (U+2018) (<ipython-input-2-846434ad3c01>, line 10)",
     "output_type": "error",
     "traceback": [
      "\u001b[0;36m  File \u001b[0;32m\"<ipython-input-2-846434ad3c01>\"\u001b[0;36m, line \u001b[0;32m10\u001b[0m\n\u001b[0;31m    @app.route(‘/’)   # to run on homepage\u001b[0m\n\u001b[0m               ^\u001b[0m\n\u001b[0;31mSyntaxError\u001b[0m\u001b[0;31m:\u001b[0m invalid character '‘' (U+2018)\n"
     ]
    }
   ],
   "source": [
    "## run.py file code to make plotly homepage\n",
    "\n",
    "from flask import Flask, render_template\n",
    "import pandas as pd\n",
    "import json\n",
    "import plotly\n",
    "import plotly.express as px\n",
    "\n",
    "app = Flask(__name__)\n",
    "\n",
    "@app.route('/')   # to run on homepage\n",
    "def make_homepage_inc_chart():\n",
    "\n",
    "    df = pd.DataFrame({\n",
    "      \"Fruit\": [\"Apples\", \"Oranges\", \"Bananas\", \"Apples\", \"Oranges\", \"Bananas\"],\n",
    "      \"Amount\": [4, 1, 2, 2, 4, 5],\n",
    "      \"City\": [\"SF\", \"SF\", \"SF\", \"Montreal\", \"Montreal\", \"Montreal\"]\n",
    "    })\n",
    "    fig = px.bar(df, x=\"Fruit\", y=\"Amount\", color=\"City\",    barmode=\"group\")\n",
    "    graphJSON = json.dumps(fig, cls=plotly.utils.PlotlyJSONEncoder) # saving as json, preserving plotly\n",
    "                                    # cls calls a plotly-specific encoder from plotly library\n",
    "                                    # there are other cls options (eg for numpy arrays)\n",
    "            \n",
    "    print(graphJSON)\n",
    "\n",
    "    return render_template('home.html', graphJSON=graphJSON)\n",
    "\n"
   ]
  },
  {
   "cell_type": "code",
   "execution_count": null,
   "id": "general-sacrifice",
   "metadata": {},
   "outputs": [],
   "source": [
    "## html script called by app, and has plotly inserted into it\n",
    "\"\"\"\n",
    "<!doctype html>\n",
    "<html>\n",
    " <body>\n",
    "  <h1>Hello Plotly</h1>\n",
    "  <div id=\"plotly_chart\" class='chart'></div>\n",
    "</body>\n",
    "<script src=\"https://cdn.plot.ly/plotly-latest.min.js\"></script>\n",
    "<script src=\"https://cdnjs.cloudflare.com/ajax/libs/d3/3.5.6/d3.min.js\"></script>\n",
    "<script src=\"https://code.jquery.com/jquery-2.1.4.min.js\"></script>\n",
    "\n",
    "<script>\n",
    "  var graphs = {{graphJSON | safe}};   // 'safe' prevents jinja from 'escaping' the html in the json code\n",
    "                  /// html escaping = replacing some special characters with others\n",
    "\n",
    "  console.log(graphs)\n",
    "\n",
    "  Plotly.newPlot('plotly_chart',graphs,{});\n",
    "\n",
    "</script>\n",
    "</html>\n",
    "\n",
    "\"\"\""
   ]
  },
  {
   "cell_type": "code",
   "execution_count": null,
   "id": "mobile-reduction",
   "metadata": {},
   "outputs": [],
   "source": [
    "\n",
    "## flask structure: at most basic you can have a single html page and app.py\n",
    "\"\"\"\n",
    "run.py   # aka app.py is main app py code\n",
    "templates/home.html    # aka index.html, homepage\n",
    "\n",
    "### everything after this is optional!\n",
    "\n",
    "templates/base.html   # formatting to borrow by pages\n",
    "static/data/train.csv  # data which is processed in run.py\n",
    "\n",
    "\n",
    "\n",
    "\"\"\"\n",
    "\n",
    "\n"
   ]
  }
 ],
 "metadata": {
  "kernelspec": {
   "display_name": "Python 3",
   "language": "python",
   "name": "python3"
  },
  "language_info": {
   "codemirror_mode": {
    "name": "ipython",
    "version": 3
   },
   "file_extension": ".py",
   "mimetype": "text/x-python",
   "name": "python",
   "nbconvert_exporter": "python",
   "pygments_lexer": "ipython3",
   "version": "3.9.1"
  }
 },
 "nbformat": 4,
 "nbformat_minor": 5
}
